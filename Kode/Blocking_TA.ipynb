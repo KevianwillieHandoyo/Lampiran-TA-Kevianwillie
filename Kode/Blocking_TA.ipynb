{
  "nbformat": 4,
  "nbformat_minor": 0,
  "metadata": {
    "colab": {
      "provenance": []
    },
    "kernelspec": {
      "name": "python3",
      "display_name": "Python 3"
    },
    "language_info": {
      "name": "python"
    }
  },
  "cells": [
    {
      "cell_type": "code",
      "execution_count": null,
      "metadata": {
        "id": "WyJueYyx60Gj"
      },
      "outputs": [],
      "source": [
        "try:\n",
        "    import py_entitymatching as em\n",
        "except:\n",
        "    !pip install py_entitymatching"
      ]
    },
    {
      "cell_type": "code",
      "source": [
        "!pip install -qqq deepmatcher"
      ],
      "metadata": {
        "id": "96baunNn9Kev"
      },
      "execution_count": null,
      "outputs": []
    },
    {
      "cell_type": "code",
      "source": [
        "!pip install torch==1.8.0 torchtext==0.9.0"
      ],
      "metadata": {
        "colab": {
          "base_uri": "https://localhost:8080/"
        },
        "id": "vKfDzc0oQT2E",
        "outputId": "462705c7-08fc-47a5-e431-6501af6c1e22"
      },
      "execution_count": null,
      "outputs": [
        {
          "output_type": "stream",
          "name": "stdout",
          "text": [
            "Looking in indexes: https://pypi.org/simple, https://us-python.pkg.dev/colab-wheels/public/simple/\n",
            "Requirement already satisfied: torch==1.8.0 in /usr/local/lib/python3.9/dist-packages (1.8.0)\n",
            "Requirement already satisfied: torchtext==0.9.0 in /usr/local/lib/python3.9/dist-packages (0.9.0)\n",
            "Requirement already satisfied: numpy in /usr/local/lib/python3.9/dist-packages (from torch==1.8.0) (1.22.4)\n",
            "Requirement already satisfied: typing-extensions in /usr/local/lib/python3.9/dist-packages (from torch==1.8.0) (4.5.0)\n",
            "Requirement already satisfied: requests in /usr/local/lib/python3.9/dist-packages (from torchtext==0.9.0) (2.27.1)\n",
            "Requirement already satisfied: tqdm in /usr/local/lib/python3.9/dist-packages (from torchtext==0.9.0) (4.65.0)\n",
            "Requirement already satisfied: idna<4,>=2.5 in /usr/local/lib/python3.9/dist-packages (from requests->torchtext==0.9.0) (3.4)\n",
            "Requirement already satisfied: urllib3<1.27,>=1.21.1 in /usr/local/lib/python3.9/dist-packages (from requests->torchtext==0.9.0) (1.26.15)\n",
            "Requirement already satisfied: certifi>=2017.4.17 in /usr/local/lib/python3.9/dist-packages (from requests->torchtext==0.9.0) (2022.12.7)\n",
            "Requirement already satisfied: charset-normalizer~=2.0.0 in /usr/local/lib/python3.9/dist-packages (from requests->torchtext==0.9.0) (2.0.12)\n"
          ]
        }
      ]
    },
    {
      "cell_type": "code",
      "source": [
        "import deepmatcher as dm\n",
        "import py_entitymatching as em"
      ],
      "metadata": {
        "id": "Ci1R85WP67kD"
      },
      "execution_count": null,
      "outputs": []
    },
    {
      "cell_type": "code",
      "source": [
        "A = em.read_csv_metadata('/content/bpom_serbuktabur_preprocessed.csv')\n",
        "B = em.read_csv_metadata('/content/Tokped_Face_Powder_Preprocessed.csv')\n",
        "em.set_key(A, 'Unnamed: 0')\n",
        "em.set_key(B, 'Unnamed: 0')\n",
        "A.head()"
      ],
      "metadata": {
        "colab": {
          "base_uri": "https://localhost:8080/",
          "height": 389
        },
        "id": "f5OeEqSs7MaX",
        "outputId": "5c87f424-a517-4709-98c5-6150e5c7ad19"
      },
      "execution_count": null,
      "outputs": [
        {
          "output_type": "stream",
          "name": "stderr",
          "text": [
            "WARNING:py_entitymatching.io.parsers:Metadata file is not present in the given path; proceeding to read the csv file.\n",
            "WARNING:py_entitymatching.io.parsers:Metadata file is not present in the given path; proceeding to read the csv file.\n"
          ]
        },
        {
          "output_type": "execute_result",
          "data": {
            "text/plain": [
              "   Unnamed: 0 Nomor_Registrasi Tanggal_Terbit      Diterbitkan_Oleh  \\\n",
              "0           0    NA22141206546     21-02-2023  Notifikasi Kosmetika   \n",
              "1           1    NA18230200105     06-02-2023  Notifikasi Kosmetika   \n",
              "2           2    NA18170400166     20-02-2023  Notifikasi Kosmetika   \n",
              "3           3    NA18230200100     06-02-2023  Notifikasi Kosmetika   \n",
              "4           4    NA18230200099     06-02-2023  Notifikasi Kosmetika   \n",
              "\n",
              "      Produk                                       Nama_Produk  \\\n",
              "0  Kosmetika                          realfinish face color 22   \n",
              "1  Kosmetika                              masker peel off acne   \n",
              "2  Kosmetika  prestige moisturized face powder 02 golden beige   \n",
              "3  Kosmetika                                 gold powder mask    \n",
              "4  Kosmetika                          pearl  milk powder mask    \n",
              "\n",
              "                                       Merk            Kemasan  \\\n",
              "0                                 covermark      palette,  5 g   \n",
              "1                           dermalogymazaya      Sachet,  25 g   \n",
              "2                                  escaladi  pot-dos,  50 gram   \n",
              "3  beauty care najmina untuk cantik sehatmu      Sachet,  20 g   \n",
              "4  beauty care najmina untuk cantik sehatmu     Sachet,  20  g   \n",
              "\n",
              "                                Pendaftar  \n",
              "0   - Kota Adm Jakarta Timur, Dki Jakarta  \n",
              "1                - Kota Depok, Jawa Barat  \n",
              "2               - Kota Malang, Jawa Timur  \n",
              "3   - Kota Adm Jakarta Utara, Dki Jakarta  \n",
              "4   - Kota Adm Jakarta Utara, Dki Jakarta  "
            ],
            "text/html": [
              "\n",
              "  <div id=\"df-d502e020-ae60-4dd4-a245-528a6a645af3\">\n",
              "    <div class=\"colab-df-container\">\n",
              "      <div>\n",
              "<style scoped>\n",
              "    .dataframe tbody tr th:only-of-type {\n",
              "        vertical-align: middle;\n",
              "    }\n",
              "\n",
              "    .dataframe tbody tr th {\n",
              "        vertical-align: top;\n",
              "    }\n",
              "\n",
              "    .dataframe thead th {\n",
              "        text-align: right;\n",
              "    }\n",
              "</style>\n",
              "<table border=\"1\" class=\"dataframe\">\n",
              "  <thead>\n",
              "    <tr style=\"text-align: right;\">\n",
              "      <th></th>\n",
              "      <th>Unnamed: 0</th>\n",
              "      <th>Nomor_Registrasi</th>\n",
              "      <th>Tanggal_Terbit</th>\n",
              "      <th>Diterbitkan_Oleh</th>\n",
              "      <th>Produk</th>\n",
              "      <th>Nama_Produk</th>\n",
              "      <th>Merk</th>\n",
              "      <th>Kemasan</th>\n",
              "      <th>Pendaftar</th>\n",
              "    </tr>\n",
              "  </thead>\n",
              "  <tbody>\n",
              "    <tr>\n",
              "      <th>0</th>\n",
              "      <td>0</td>\n",
              "      <td>NA22141206546</td>\n",
              "      <td>21-02-2023</td>\n",
              "      <td>Notifikasi Kosmetika</td>\n",
              "      <td>Kosmetika</td>\n",
              "      <td>realfinish face color 22</td>\n",
              "      <td>covermark</td>\n",
              "      <td>palette,  5 g</td>\n",
              "      <td>- Kota Adm Jakarta Timur, Dki Jakarta</td>\n",
              "    </tr>\n",
              "    <tr>\n",
              "      <th>1</th>\n",
              "      <td>1</td>\n",
              "      <td>NA18230200105</td>\n",
              "      <td>06-02-2023</td>\n",
              "      <td>Notifikasi Kosmetika</td>\n",
              "      <td>Kosmetika</td>\n",
              "      <td>masker peel off acne</td>\n",
              "      <td>dermalogymazaya</td>\n",
              "      <td>Sachet,  25 g</td>\n",
              "      <td>- Kota Depok, Jawa Barat</td>\n",
              "    </tr>\n",
              "    <tr>\n",
              "      <th>2</th>\n",
              "      <td>2</td>\n",
              "      <td>NA18170400166</td>\n",
              "      <td>20-02-2023</td>\n",
              "      <td>Notifikasi Kosmetika</td>\n",
              "      <td>Kosmetika</td>\n",
              "      <td>prestige moisturized face powder 02 golden beige</td>\n",
              "      <td>escaladi</td>\n",
              "      <td>pot-dos,  50 gram</td>\n",
              "      <td>- Kota Malang, Jawa Timur</td>\n",
              "    </tr>\n",
              "    <tr>\n",
              "      <th>3</th>\n",
              "      <td>3</td>\n",
              "      <td>NA18230200100</td>\n",
              "      <td>06-02-2023</td>\n",
              "      <td>Notifikasi Kosmetika</td>\n",
              "      <td>Kosmetika</td>\n",
              "      <td>gold powder mask</td>\n",
              "      <td>beauty care najmina untuk cantik sehatmu</td>\n",
              "      <td>Sachet,  20 g</td>\n",
              "      <td>- Kota Adm Jakarta Utara, Dki Jakarta</td>\n",
              "    </tr>\n",
              "    <tr>\n",
              "      <th>4</th>\n",
              "      <td>4</td>\n",
              "      <td>NA18230200099</td>\n",
              "      <td>06-02-2023</td>\n",
              "      <td>Notifikasi Kosmetika</td>\n",
              "      <td>Kosmetika</td>\n",
              "      <td>pearl  milk powder mask</td>\n",
              "      <td>beauty care najmina untuk cantik sehatmu</td>\n",
              "      <td>Sachet,  20  g</td>\n",
              "      <td>- Kota Adm Jakarta Utara, Dki Jakarta</td>\n",
              "    </tr>\n",
              "  </tbody>\n",
              "</table>\n",
              "</div>\n",
              "      <button class=\"colab-df-convert\" onclick=\"convertToInteractive('df-d502e020-ae60-4dd4-a245-528a6a645af3')\"\n",
              "              title=\"Convert this dataframe to an interactive table.\"\n",
              "              style=\"display:none;\">\n",
              "        \n",
              "  <svg xmlns=\"http://www.w3.org/2000/svg\" height=\"24px\"viewBox=\"0 0 24 24\"\n",
              "       width=\"24px\">\n",
              "    <path d=\"M0 0h24v24H0V0z\" fill=\"none\"/>\n",
              "    <path d=\"M18.56 5.44l.94 2.06.94-2.06 2.06-.94-2.06-.94-.94-2.06-.94 2.06-2.06.94zm-11 1L8.5 8.5l.94-2.06 2.06-.94-2.06-.94L8.5 2.5l-.94 2.06-2.06.94zm10 10l.94 2.06.94-2.06 2.06-.94-2.06-.94-.94-2.06-.94 2.06-2.06.94z\"/><path d=\"M17.41 7.96l-1.37-1.37c-.4-.4-.92-.59-1.43-.59-.52 0-1.04.2-1.43.59L10.3 9.45l-7.72 7.72c-.78.78-.78 2.05 0 2.83L4 21.41c.39.39.9.59 1.41.59.51 0 1.02-.2 1.41-.59l7.78-7.78 2.81-2.81c.8-.78.8-2.07 0-2.86zM5.41 20L4 18.59l7.72-7.72 1.47 1.35L5.41 20z\"/>\n",
              "  </svg>\n",
              "      </button>\n",
              "      \n",
              "  <style>\n",
              "    .colab-df-container {\n",
              "      display:flex;\n",
              "      flex-wrap:wrap;\n",
              "      gap: 12px;\n",
              "    }\n",
              "\n",
              "    .colab-df-convert {\n",
              "      background-color: #E8F0FE;\n",
              "      border: none;\n",
              "      border-radius: 50%;\n",
              "      cursor: pointer;\n",
              "      display: none;\n",
              "      fill: #1967D2;\n",
              "      height: 32px;\n",
              "      padding: 0 0 0 0;\n",
              "      width: 32px;\n",
              "    }\n",
              "\n",
              "    .colab-df-convert:hover {\n",
              "      background-color: #E2EBFA;\n",
              "      box-shadow: 0px 1px 2px rgba(60, 64, 67, 0.3), 0px 1px 3px 1px rgba(60, 64, 67, 0.15);\n",
              "      fill: #174EA6;\n",
              "    }\n",
              "\n",
              "    [theme=dark] .colab-df-convert {\n",
              "      background-color: #3B4455;\n",
              "      fill: #D2E3FC;\n",
              "    }\n",
              "\n",
              "    [theme=dark] .colab-df-convert:hover {\n",
              "      background-color: #434B5C;\n",
              "      box-shadow: 0px 1px 3px 1px rgba(0, 0, 0, 0.15);\n",
              "      filter: drop-shadow(0px 1px 2px rgba(0, 0, 0, 0.3));\n",
              "      fill: #FFFFFF;\n",
              "    }\n",
              "  </style>\n",
              "\n",
              "      <script>\n",
              "        const buttonEl =\n",
              "          document.querySelector('#df-d502e020-ae60-4dd4-a245-528a6a645af3 button.colab-df-convert');\n",
              "        buttonEl.style.display =\n",
              "          google.colab.kernel.accessAllowed ? 'block' : 'none';\n",
              "\n",
              "        async function convertToInteractive(key) {\n",
              "          const element = document.querySelector('#df-d502e020-ae60-4dd4-a245-528a6a645af3');\n",
              "          const dataTable =\n",
              "            await google.colab.kernel.invokeFunction('convertToInteractive',\n",
              "                                                     [key], {});\n",
              "          if (!dataTable) return;\n",
              "\n",
              "          const docLinkHtml = 'Like what you see? Visit the ' +\n",
              "            '<a target=\"_blank\" href=https://colab.research.google.com/notebooks/data_table.ipynb>data table notebook</a>'\n",
              "            + ' to learn more about interactive tables.';\n",
              "          element.innerHTML = '';\n",
              "          dataTable['output_type'] = 'display_data';\n",
              "          await google.colab.output.renderOutput(dataTable, element);\n",
              "          const docLink = document.createElement('div');\n",
              "          docLink.innerHTML = docLinkHtml;\n",
              "          element.appendChild(docLink);\n",
              "        }\n",
              "      </script>\n",
              "    </div>\n",
              "  </div>\n",
              "  "
            ]
          },
          "metadata": {},
          "execution_count": 7
        }
      ]
    },
    {
      "cell_type": "code",
      "source": [
        "B.head()"
      ],
      "metadata": {
        "colab": {
          "base_uri": "https://localhost:8080/",
          "height": 206
        },
        "id": "sIpg3PujCtke",
        "outputId": "0c6e3613-1437-4a1e-d116-5014057b3099"
      },
      "execution_count": null,
      "outputs": [
        {
          "output_type": "execute_result",
          "data": {
            "text/plain": [
              "   Unnamed: 0  \\\n",
              "0           0   \n",
              "1           1   \n",
              "2           2   \n",
              "3           3   \n",
              "4           4   \n",
              "\n",
              "                                                           Nama Produk  \\\n",
              "0                                               bless acne face powder   \n",
              "1                              bless cosmetics refill acne face powder   \n",
              "2             ponds bedak wajah bb powder 50g  face powder bedak tabur   \n",
              "3  wardah everyday luminous face powder bedak tabur every day original   \n",
              "4  ultima ii delicate tranclucent face powder no005 43gram bedak tabur   \n",
              "\n",
              "       Harga  Rating                Toko         Lokasi    Merk  \n",
              "0   Rp77.250     4.9  Bless Cosmetics ID  Jakarta Pusat   bless  \n",
              "1   Rp48.000     4.9  Bless Cosmetics ID  Jakarta Pusat   bless  \n",
              "2   Rp31.090     4.9       Unilever Mall       Surabaya   ponds  \n",
              "3   Rp33.500     4.9              Jaya's       Surabaya  wardah  \n",
              "4  Rp152.000     4.9  nirwana kendalsari       Surabaya  ultima  "
            ],
            "text/html": [
              "\n",
              "  <div id=\"df-f2bcad4e-1b42-4c68-b2d9-8d4216a63e3b\">\n",
              "    <div class=\"colab-df-container\">\n",
              "      <div>\n",
              "<style scoped>\n",
              "    .dataframe tbody tr th:only-of-type {\n",
              "        vertical-align: middle;\n",
              "    }\n",
              "\n",
              "    .dataframe tbody tr th {\n",
              "        vertical-align: top;\n",
              "    }\n",
              "\n",
              "    .dataframe thead th {\n",
              "        text-align: right;\n",
              "    }\n",
              "</style>\n",
              "<table border=\"1\" class=\"dataframe\">\n",
              "  <thead>\n",
              "    <tr style=\"text-align: right;\">\n",
              "      <th></th>\n",
              "      <th>Unnamed: 0</th>\n",
              "      <th>Nama Produk</th>\n",
              "      <th>Harga</th>\n",
              "      <th>Rating</th>\n",
              "      <th>Toko</th>\n",
              "      <th>Lokasi</th>\n",
              "      <th>Merk</th>\n",
              "    </tr>\n",
              "  </thead>\n",
              "  <tbody>\n",
              "    <tr>\n",
              "      <th>0</th>\n",
              "      <td>0</td>\n",
              "      <td>bless acne face powder</td>\n",
              "      <td>Rp77.250</td>\n",
              "      <td>4.9</td>\n",
              "      <td>Bless Cosmetics ID</td>\n",
              "      <td>Jakarta Pusat</td>\n",
              "      <td>bless</td>\n",
              "    </tr>\n",
              "    <tr>\n",
              "      <th>1</th>\n",
              "      <td>1</td>\n",
              "      <td>bless cosmetics refill acne face powder</td>\n",
              "      <td>Rp48.000</td>\n",
              "      <td>4.9</td>\n",
              "      <td>Bless Cosmetics ID</td>\n",
              "      <td>Jakarta Pusat</td>\n",
              "      <td>bless</td>\n",
              "    </tr>\n",
              "    <tr>\n",
              "      <th>2</th>\n",
              "      <td>2</td>\n",
              "      <td>ponds bedak wajah bb powder 50g  face powder bedak tabur</td>\n",
              "      <td>Rp31.090</td>\n",
              "      <td>4.9</td>\n",
              "      <td>Unilever Mall</td>\n",
              "      <td>Surabaya</td>\n",
              "      <td>ponds</td>\n",
              "    </tr>\n",
              "    <tr>\n",
              "      <th>3</th>\n",
              "      <td>3</td>\n",
              "      <td>wardah everyday luminous face powder bedak tabur every day original</td>\n",
              "      <td>Rp33.500</td>\n",
              "      <td>4.9</td>\n",
              "      <td>Jaya's</td>\n",
              "      <td>Surabaya</td>\n",
              "      <td>wardah</td>\n",
              "    </tr>\n",
              "    <tr>\n",
              "      <th>4</th>\n",
              "      <td>4</td>\n",
              "      <td>ultima ii delicate tranclucent face powder no005 43gram bedak tabur</td>\n",
              "      <td>Rp152.000</td>\n",
              "      <td>4.9</td>\n",
              "      <td>nirwana kendalsari</td>\n",
              "      <td>Surabaya</td>\n",
              "      <td>ultima</td>\n",
              "    </tr>\n",
              "  </tbody>\n",
              "</table>\n",
              "</div>\n",
              "      <button class=\"colab-df-convert\" onclick=\"convertToInteractive('df-f2bcad4e-1b42-4c68-b2d9-8d4216a63e3b')\"\n",
              "              title=\"Convert this dataframe to an interactive table.\"\n",
              "              style=\"display:none;\">\n",
              "        \n",
              "  <svg xmlns=\"http://www.w3.org/2000/svg\" height=\"24px\"viewBox=\"0 0 24 24\"\n",
              "       width=\"24px\">\n",
              "    <path d=\"M0 0h24v24H0V0z\" fill=\"none\"/>\n",
              "    <path d=\"M18.56 5.44l.94 2.06.94-2.06 2.06-.94-2.06-.94-.94-2.06-.94 2.06-2.06.94zm-11 1L8.5 8.5l.94-2.06 2.06-.94-2.06-.94L8.5 2.5l-.94 2.06-2.06.94zm10 10l.94 2.06.94-2.06 2.06-.94-2.06-.94-.94-2.06-.94 2.06-2.06.94z\"/><path d=\"M17.41 7.96l-1.37-1.37c-.4-.4-.92-.59-1.43-.59-.52 0-1.04.2-1.43.59L10.3 9.45l-7.72 7.72c-.78.78-.78 2.05 0 2.83L4 21.41c.39.39.9.59 1.41.59.51 0 1.02-.2 1.41-.59l7.78-7.78 2.81-2.81c.8-.78.8-2.07 0-2.86zM5.41 20L4 18.59l7.72-7.72 1.47 1.35L5.41 20z\"/>\n",
              "  </svg>\n",
              "      </button>\n",
              "      \n",
              "  <style>\n",
              "    .colab-df-container {\n",
              "      display:flex;\n",
              "      flex-wrap:wrap;\n",
              "      gap: 12px;\n",
              "    }\n",
              "\n",
              "    .colab-df-convert {\n",
              "      background-color: #E8F0FE;\n",
              "      border: none;\n",
              "      border-radius: 50%;\n",
              "      cursor: pointer;\n",
              "      display: none;\n",
              "      fill: #1967D2;\n",
              "      height: 32px;\n",
              "      padding: 0 0 0 0;\n",
              "      width: 32px;\n",
              "    }\n",
              "\n",
              "    .colab-df-convert:hover {\n",
              "      background-color: #E2EBFA;\n",
              "      box-shadow: 0px 1px 2px rgba(60, 64, 67, 0.3), 0px 1px 3px 1px rgba(60, 64, 67, 0.15);\n",
              "      fill: #174EA6;\n",
              "    }\n",
              "\n",
              "    [theme=dark] .colab-df-convert {\n",
              "      background-color: #3B4455;\n",
              "      fill: #D2E3FC;\n",
              "    }\n",
              "\n",
              "    [theme=dark] .colab-df-convert:hover {\n",
              "      background-color: #434B5C;\n",
              "      box-shadow: 0px 1px 3px 1px rgba(0, 0, 0, 0.15);\n",
              "      filter: drop-shadow(0px 1px 2px rgba(0, 0, 0, 0.3));\n",
              "      fill: #FFFFFF;\n",
              "    }\n",
              "  </style>\n",
              "\n",
              "      <script>\n",
              "        const buttonEl =\n",
              "          document.querySelector('#df-f2bcad4e-1b42-4c68-b2d9-8d4216a63e3b button.colab-df-convert');\n",
              "        buttonEl.style.display =\n",
              "          google.colab.kernel.accessAllowed ? 'block' : 'none';\n",
              "\n",
              "        async function convertToInteractive(key) {\n",
              "          const element = document.querySelector('#df-f2bcad4e-1b42-4c68-b2d9-8d4216a63e3b');\n",
              "          const dataTable =\n",
              "            await google.colab.kernel.invokeFunction('convertToInteractive',\n",
              "                                                     [key], {});\n",
              "          if (!dataTable) return;\n",
              "\n",
              "          const docLinkHtml = 'Like what you see? Visit the ' +\n",
              "            '<a target=\"_blank\" href=https://colab.research.google.com/notebooks/data_table.ipynb>data table notebook</a>'\n",
              "            + ' to learn more about interactive tables.';\n",
              "          element.innerHTML = '';\n",
              "          dataTable['output_type'] = 'display_data';\n",
              "          await google.colab.output.renderOutput(dataTable, element);\n",
              "          const docLink = document.createElement('div');\n",
              "          docLink.innerHTML = docLinkHtml;\n",
              "          element.appendChild(docLink);\n",
              "        }\n",
              "      </script>\n",
              "    </div>\n",
              "  </div>\n",
              "  "
            ]
          },
          "metadata": {},
          "execution_count": 8
        }
      ]
    },
    {
      "cell_type": "code",
      "source": [
        "print('Number of tuples in A: ' + str(len(A)))\n",
        "print('Number of tuples in B: ' + str(len(B)))\n",
        "print('Number of tuples in A X B (i.e the cartesian product): ' + str(len(A)*len(B)))"
      ],
      "metadata": {
        "colab": {
          "base_uri": "https://localhost:8080/"
        },
        "id": "b_pYH423CwXP",
        "outputId": "2a2f7fde-6f4e-428f-b0ed-6fb4fe580548"
      },
      "execution_count": null,
      "outputs": [
        {
          "output_type": "stream",
          "name": "stdout",
          "text": [
            "Number of tuples in A: 8000\n",
            "Number of tuples in B: 6000\n",
            "Number of tuples in A X B (i.e the cartesian product): 48000000\n"
          ]
        }
      ]
    },
    {
      "cell_type": "code",
      "source": [
        "ob = em.OverlapBlocker()\n",
        "K1 = ob.block_tables(A, B, 'Nama_Produk', 'Nama Produk',\n",
        "                    l_output_attrs=['Nomor_Registrasi', 'Tanggal_Terbit', 'Diterbitkan_Oleh', 'Produk', 'Nama_Produk', 'Merk', 'Kemasan', 'Pendaftar'],\n",
        "                    r_output_attrs=['Nama Produk', 'Harga', 'Rating', 'Toko', 'Merk'],\n",
        "                    overlap_size=3)"
      ],
      "metadata": {
        "colab": {
          "base_uri": "https://localhost:8080/"
        },
        "id": "l4pO0pgjC41s",
        "outputId": "056db8a9-f1e9-47f7-945a-91502c872e93"
      },
      "execution_count": null,
      "outputs": [
        {
          "output_type": "stream",
          "name": "stderr",
          "text": [
            "/usr/local/lib/python3.9/dist-packages/py_entitymatching/blocker/overlap_blocker.py:258: SettingWithCopyWarning: \n",
            "A value is trying to be set on a copy of a slice from a DataFrame.\n",
            "Try using .loc[row_indexer,col_indexer] = value instead\n",
            "\n",
            "See the caveats in the documentation: https://pandas.pydata.org/pandas-docs/stable/user_guide/indexing.html#returning-a-view-versus-a-copy\n",
            "  l_df[l_dummy_overlap_attr] = l_df[l_overlap_attr]\n",
            "/usr/local/lib/python3.9/dist-packages/py_entitymatching/blocker/overlap_blocker.py:615: SettingWithCopyWarning: \n",
            "A value is trying to be set on a copy of a slice from a DataFrame.\n",
            "Try using .loc[row_indexer,col_indexer] = value instead\n",
            "\n",
            "See the caveats in the documentation: https://pandas.pydata.org/pandas-docs/stable/user_guide/indexing.html#returning-a-view-versus-a-copy\n",
            "  table[overlap_attr] = values\n",
            "/usr/local/lib/python3.9/dist-packages/py_stringsimjoin/utils/generic_helper.py:76: FutureWarning: In a future version of pandas all arguments of DataFrame.dropna will be keyword-only.\n",
            "  projected_dataframe = dataframe[proj_attrs].dropna(0,\n",
            "/usr/local/lib/python3.9/dist-packages/py_stringsimjoin/utils/generic_helper.py:76: FutureWarning: In a future version of pandas all arguments of DataFrame.dropna will be keyword-only.\n",
            "  projected_dataframe = dataframe[proj_attrs].dropna(0,\n",
            "0% [##############################] 100% | ETA: 00:00:00\n",
            "Total time elapsed: 00:00:09\n"
          ]
        }
      ]
    },
    {
      "cell_type": "code",
      "source": [
        "len(K1)"
      ],
      "metadata": {
        "colab": {
          "base_uri": "https://localhost:8080/"
        },
        "id": "QhdsdgczGhFC",
        "outputId": "a916d040-1ea3-481d-8775-1a1d96ad2eca"
      },
      "execution_count": null,
      "outputs": [
        {
          "output_type": "execute_result",
          "data": {
            "text/plain": [
              "227422"
            ]
          },
          "metadata": {},
          "execution_count": 11
        }
      ]
    },
    {
      "cell_type": "code",
      "source": [
        "K1.head()"
      ],
      "metadata": {
        "colab": {
          "base_uri": "https://localhost:8080/",
          "height": 426
        },
        "id": "0tLPHUEXGoVB",
        "outputId": "c2b6dc93-2fea-4408-97c0-5131a0c6c108"
      },
      "execution_count": null,
      "outputs": [
        {
          "output_type": "execute_result",
          "data": {
            "text/plain": [
              "   _id  ltable_Unnamed: 0  rtable_Unnamed: 0 ltable_Nomor_Registrasi  \\\n",
              "0    0                  5                  0           NA18200400151   \n",
              "1    1                304                  0           NA18210400856   \n",
              "2    2                348                  0           NA18210400865   \n",
              "3    3                506                  0           NA18210400899   \n",
              "4    4                517                  0           NA18210400894   \n",
              "\n",
              "  ltable_Tanggal_Terbit ltable_Diterbitkan_Oleh ltable_Produk  \\\n",
              "0            20-02-2023    Notifikasi Kosmetika     Kosmetika   \n",
              "1            25-06-2021    Notifikasi Kosmetika     Kosmetika   \n",
              "2            28-06-2021    Notifikasi Kosmetika     Kosmetika   \n",
              "3            19-07-2021    Notifikasi Kosmetika     Kosmetika   \n",
              "4            19-07-2021    Notifikasi Kosmetika     Kosmetika   \n",
              "\n",
              "                         ltable_Nama_Produk  \\\n",
              "0                          face acne powder   \n",
              "1                     acne care face powder   \n",
              "2                          face powder acne   \n",
              "3  beauty translucent acne care face powder   \n",
              "4                          face powder acne   \n",
              "\n",
              "                           ltable_Merk ltable_Kemasan  \\\n",
              "0                          derma shine  Pot, Dus 20 g   \n",
              "1  nabb clinic skin care slimming  spa       Pot 20 g   \n",
              "2                 dr suriani skin care       Pot 20 g   \n",
              "3                                 inez       Pot 15 g   \n",
              "4  dr maharani prima natural skin care       Pot 20 g   \n",
              "\n",
              "                         ltable_Pendaftar      rtable_Nama Produk  \\\n",
              "0   - Kota Adm Jakarta Barat, Dki Jakarta  bless acne face powder   \n",
              "1               - Kab Sragen, Jawa Tengah  bless acne face powder   \n",
              "2                - Kab Bekasi, Jawa Barat  bless acne face powder   \n",
              "3                - Kab Malang, Jawa Timur  bless acne face powder   \n",
              "4                - Kab Blitar, Jawa Timur  bless acne face powder   \n",
              "\n",
              "  rtable_Harga  rtable_Rating         rtable_Toko rtable_Merk  \n",
              "0     Rp77.250            4.9  Bless Cosmetics ID       bless  \n",
              "1     Rp77.250            4.9  Bless Cosmetics ID       bless  \n",
              "2     Rp77.250            4.9  Bless Cosmetics ID       bless  \n",
              "3     Rp77.250            4.9  Bless Cosmetics ID       bless  \n",
              "4     Rp77.250            4.9  Bless Cosmetics ID       bless  "
            ],
            "text/html": [
              "\n",
              "  <div id=\"df-25163db3-a30b-4b66-9506-c2856552398c\">\n",
              "    <div class=\"colab-df-container\">\n",
              "      <div>\n",
              "<style scoped>\n",
              "    .dataframe tbody tr th:only-of-type {\n",
              "        vertical-align: middle;\n",
              "    }\n",
              "\n",
              "    .dataframe tbody tr th {\n",
              "        vertical-align: top;\n",
              "    }\n",
              "\n",
              "    .dataframe thead th {\n",
              "        text-align: right;\n",
              "    }\n",
              "</style>\n",
              "<table border=\"1\" class=\"dataframe\">\n",
              "  <thead>\n",
              "    <tr style=\"text-align: right;\">\n",
              "      <th></th>\n",
              "      <th>_id</th>\n",
              "      <th>ltable_Unnamed: 0</th>\n",
              "      <th>rtable_Unnamed: 0</th>\n",
              "      <th>ltable_Nomor_Registrasi</th>\n",
              "      <th>ltable_Tanggal_Terbit</th>\n",
              "      <th>ltable_Diterbitkan_Oleh</th>\n",
              "      <th>ltable_Produk</th>\n",
              "      <th>ltable_Nama_Produk</th>\n",
              "      <th>ltable_Merk</th>\n",
              "      <th>ltable_Kemasan</th>\n",
              "      <th>ltable_Pendaftar</th>\n",
              "      <th>rtable_Nama Produk</th>\n",
              "      <th>rtable_Harga</th>\n",
              "      <th>rtable_Rating</th>\n",
              "      <th>rtable_Toko</th>\n",
              "      <th>rtable_Merk</th>\n",
              "    </tr>\n",
              "  </thead>\n",
              "  <tbody>\n",
              "    <tr>\n",
              "      <th>0</th>\n",
              "      <td>0</td>\n",
              "      <td>5</td>\n",
              "      <td>0</td>\n",
              "      <td>NA18200400151</td>\n",
              "      <td>20-02-2023</td>\n",
              "      <td>Notifikasi Kosmetika</td>\n",
              "      <td>Kosmetika</td>\n",
              "      <td>face acne powder</td>\n",
              "      <td>derma shine</td>\n",
              "      <td>Pot, Dus 20 g</td>\n",
              "      <td>- Kota Adm Jakarta Barat, Dki Jakarta</td>\n",
              "      <td>bless acne face powder</td>\n",
              "      <td>Rp77.250</td>\n",
              "      <td>4.9</td>\n",
              "      <td>Bless Cosmetics ID</td>\n",
              "      <td>bless</td>\n",
              "    </tr>\n",
              "    <tr>\n",
              "      <th>1</th>\n",
              "      <td>1</td>\n",
              "      <td>304</td>\n",
              "      <td>0</td>\n",
              "      <td>NA18210400856</td>\n",
              "      <td>25-06-2021</td>\n",
              "      <td>Notifikasi Kosmetika</td>\n",
              "      <td>Kosmetika</td>\n",
              "      <td>acne care face powder</td>\n",
              "      <td>nabb clinic skin care slimming  spa</td>\n",
              "      <td>Pot 20 g</td>\n",
              "      <td>- Kab Sragen, Jawa Tengah</td>\n",
              "      <td>bless acne face powder</td>\n",
              "      <td>Rp77.250</td>\n",
              "      <td>4.9</td>\n",
              "      <td>Bless Cosmetics ID</td>\n",
              "      <td>bless</td>\n",
              "    </tr>\n",
              "    <tr>\n",
              "      <th>2</th>\n",
              "      <td>2</td>\n",
              "      <td>348</td>\n",
              "      <td>0</td>\n",
              "      <td>NA18210400865</td>\n",
              "      <td>28-06-2021</td>\n",
              "      <td>Notifikasi Kosmetika</td>\n",
              "      <td>Kosmetika</td>\n",
              "      <td>face powder acne</td>\n",
              "      <td>dr suriani skin care</td>\n",
              "      <td>Pot 20 g</td>\n",
              "      <td>- Kab Bekasi, Jawa Barat</td>\n",
              "      <td>bless acne face powder</td>\n",
              "      <td>Rp77.250</td>\n",
              "      <td>4.9</td>\n",
              "      <td>Bless Cosmetics ID</td>\n",
              "      <td>bless</td>\n",
              "    </tr>\n",
              "    <tr>\n",
              "      <th>3</th>\n",
              "      <td>3</td>\n",
              "      <td>506</td>\n",
              "      <td>0</td>\n",
              "      <td>NA18210400899</td>\n",
              "      <td>19-07-2021</td>\n",
              "      <td>Notifikasi Kosmetika</td>\n",
              "      <td>Kosmetika</td>\n",
              "      <td>beauty translucent acne care face powder</td>\n",
              "      <td>inez</td>\n",
              "      <td>Pot 15 g</td>\n",
              "      <td>- Kab Malang, Jawa Timur</td>\n",
              "      <td>bless acne face powder</td>\n",
              "      <td>Rp77.250</td>\n",
              "      <td>4.9</td>\n",
              "      <td>Bless Cosmetics ID</td>\n",
              "      <td>bless</td>\n",
              "    </tr>\n",
              "    <tr>\n",
              "      <th>4</th>\n",
              "      <td>4</td>\n",
              "      <td>517</td>\n",
              "      <td>0</td>\n",
              "      <td>NA18210400894</td>\n",
              "      <td>19-07-2021</td>\n",
              "      <td>Notifikasi Kosmetika</td>\n",
              "      <td>Kosmetika</td>\n",
              "      <td>face powder acne</td>\n",
              "      <td>dr maharani prima natural skin care</td>\n",
              "      <td>Pot 20 g</td>\n",
              "      <td>- Kab Blitar, Jawa Timur</td>\n",
              "      <td>bless acne face powder</td>\n",
              "      <td>Rp77.250</td>\n",
              "      <td>4.9</td>\n",
              "      <td>Bless Cosmetics ID</td>\n",
              "      <td>bless</td>\n",
              "    </tr>\n",
              "  </tbody>\n",
              "</table>\n",
              "</div>\n",
              "      <button class=\"colab-df-convert\" onclick=\"convertToInteractive('df-25163db3-a30b-4b66-9506-c2856552398c')\"\n",
              "              title=\"Convert this dataframe to an interactive table.\"\n",
              "              style=\"display:none;\">\n",
              "        \n",
              "  <svg xmlns=\"http://www.w3.org/2000/svg\" height=\"24px\"viewBox=\"0 0 24 24\"\n",
              "       width=\"24px\">\n",
              "    <path d=\"M0 0h24v24H0V0z\" fill=\"none\"/>\n",
              "    <path d=\"M18.56 5.44l.94 2.06.94-2.06 2.06-.94-2.06-.94-.94-2.06-.94 2.06-2.06.94zm-11 1L8.5 8.5l.94-2.06 2.06-.94-2.06-.94L8.5 2.5l-.94 2.06-2.06.94zm10 10l.94 2.06.94-2.06 2.06-.94-2.06-.94-.94-2.06-.94 2.06-2.06.94z\"/><path d=\"M17.41 7.96l-1.37-1.37c-.4-.4-.92-.59-1.43-.59-.52 0-1.04.2-1.43.59L10.3 9.45l-7.72 7.72c-.78.78-.78 2.05 0 2.83L4 21.41c.39.39.9.59 1.41.59.51 0 1.02-.2 1.41-.59l7.78-7.78 2.81-2.81c.8-.78.8-2.07 0-2.86zM5.41 20L4 18.59l7.72-7.72 1.47 1.35L5.41 20z\"/>\n",
              "  </svg>\n",
              "      </button>\n",
              "      \n",
              "  <style>\n",
              "    .colab-df-container {\n",
              "      display:flex;\n",
              "      flex-wrap:wrap;\n",
              "      gap: 12px;\n",
              "    }\n",
              "\n",
              "    .colab-df-convert {\n",
              "      background-color: #E8F0FE;\n",
              "      border: none;\n",
              "      border-radius: 50%;\n",
              "      cursor: pointer;\n",
              "      display: none;\n",
              "      fill: #1967D2;\n",
              "      height: 32px;\n",
              "      padding: 0 0 0 0;\n",
              "      width: 32px;\n",
              "    }\n",
              "\n",
              "    .colab-df-convert:hover {\n",
              "      background-color: #E2EBFA;\n",
              "      box-shadow: 0px 1px 2px rgba(60, 64, 67, 0.3), 0px 1px 3px 1px rgba(60, 64, 67, 0.15);\n",
              "      fill: #174EA6;\n",
              "    }\n",
              "\n",
              "    [theme=dark] .colab-df-convert {\n",
              "      background-color: #3B4455;\n",
              "      fill: #D2E3FC;\n",
              "    }\n",
              "\n",
              "    [theme=dark] .colab-df-convert:hover {\n",
              "      background-color: #434B5C;\n",
              "      box-shadow: 0px 1px 3px 1px rgba(0, 0, 0, 0.15);\n",
              "      filter: drop-shadow(0px 1px 2px rgba(0, 0, 0, 0.3));\n",
              "      fill: #FFFFFF;\n",
              "    }\n",
              "  </style>\n",
              "\n",
              "      <script>\n",
              "        const buttonEl =\n",
              "          document.querySelector('#df-25163db3-a30b-4b66-9506-c2856552398c button.colab-df-convert');\n",
              "        buttonEl.style.display =\n",
              "          google.colab.kernel.accessAllowed ? 'block' : 'none';\n",
              "\n",
              "        async function convertToInteractive(key) {\n",
              "          const element = document.querySelector('#df-25163db3-a30b-4b66-9506-c2856552398c');\n",
              "          const dataTable =\n",
              "            await google.colab.kernel.invokeFunction('convertToInteractive',\n",
              "                                                     [key], {});\n",
              "          if (!dataTable) return;\n",
              "\n",
              "          const docLinkHtml = 'Like what you see? Visit the ' +\n",
              "            '<a target=\"_blank\" href=https://colab.research.google.com/notebooks/data_table.ipynb>data table notebook</a>'\n",
              "            + ' to learn more about interactive tables.';\n",
              "          element.innerHTML = '';\n",
              "          dataTable['output_type'] = 'display_data';\n",
              "          await google.colab.output.renderOutput(dataTable, element);\n",
              "          const docLink = document.createElement('div');\n",
              "          docLink.innerHTML = docLinkHtml;\n",
              "          element.appendChild(docLink);\n",
              "        }\n",
              "      </script>\n",
              "    </div>\n",
              "  </div>\n",
              "  "
            ]
          },
          "metadata": {},
          "execution_count": 12
        }
      ]
    },
    {
      "cell_type": "code",
      "source": [
        "K2 = ob.block_candset(K1, 'Merk', 'Merk', overlap_size=1)"
      ],
      "metadata": {
        "colab": {
          "base_uri": "https://localhost:8080/"
        },
        "id": "FEhVrQ-7G2zn",
        "outputId": "015c1a82-8580-4d2a-a179-baccc4ff10dc"
      },
      "execution_count": null,
      "outputs": [
        {
          "output_type": "stream",
          "name": "stderr",
          "text": [
            "/usr/local/lib/python3.9/dist-packages/py_entitymatching/blocker/overlap_blocker.py:615: SettingWithCopyWarning: \n",
            "A value is trying to be set on a copy of a slice from a DataFrame.\n",
            "Try using .loc[row_indexer,col_indexer] = value instead\n",
            "\n",
            "See the caveats in the documentation: https://pandas.pydata.org/pandas-docs/stable/user_guide/indexing.html#returning-a-view-versus-a-copy\n",
            "  table[overlap_attr] = values\n",
            "0% [##############################] 100% | ETA: 00:00:00\n",
            "Total time elapsed: 00:00:03\n"
          ]
        }
      ]
    },
    {
      "cell_type": "code",
      "source": [
        "len(K2)"
      ],
      "metadata": {
        "colab": {
          "base_uri": "https://localhost:8080/"
        },
        "id": "rVN8R3DBHVt4",
        "outputId": "d9eafe9b-5057-42ec-fcf9-d1a735d9656c"
      },
      "execution_count": null,
      "outputs": [
        {
          "output_type": "execute_result",
          "data": {
            "text/plain": [
              "24291"
            ]
          },
          "metadata": {},
          "execution_count": 14
        }
      ]
    },
    {
      "cell_type": "code",
      "source": [
        "K2.head(100)"
      ],
      "metadata": {
        "id": "Vh7ydQ-tHeGu"
      },
      "execution_count": null,
      "outputs": []
    },
    {
      "cell_type": "code",
      "source": [
        "K3 = ob.block_tables(A, B, 'Merk', 'Merk',\n",
        "                    l_output_attrs=['Nomor_Registrasi', 'Tanggal_Terbit', 'Diterbitkan_Oleh', 'Produk', 'Nama_Produk', 'Merk', 'Kemasan', 'Pendaftar'],\n",
        "                    r_output_attrs=['Nama Produk', 'Harga', 'Rating', 'Toko', 'Merk'],\n",
        "                    overlap_size=1)"
      ],
      "metadata": {
        "colab": {
          "base_uri": "https://localhost:8080/"
        },
        "id": "MdgMcVueOoSA",
        "outputId": "2a27b899-2a0b-4178-ab6b-5835c3a02cfe"
      },
      "execution_count": null,
      "outputs": [
        {
          "output_type": "stream",
          "name": "stderr",
          "text": [
            "/usr/local/lib/python3.9/dist-packages/py_entitymatching/blocker/overlap_blocker.py:258: SettingWithCopyWarning: \n",
            "A value is trying to be set on a copy of a slice from a DataFrame.\n",
            "Try using .loc[row_indexer,col_indexer] = value instead\n",
            "\n",
            "See the caveats in the documentation: https://pandas.pydata.org/pandas-docs/stable/user_guide/indexing.html#returning-a-view-versus-a-copy\n",
            "  l_df[l_dummy_overlap_attr] = l_df[l_overlap_attr]\n",
            "/usr/local/lib/python3.9/dist-packages/py_entitymatching/blocker/overlap_blocker.py:615: SettingWithCopyWarning: \n",
            "A value is trying to be set on a copy of a slice from a DataFrame.\n",
            "Try using .loc[row_indexer,col_indexer] = value instead\n",
            "\n",
            "See the caveats in the documentation: https://pandas.pydata.org/pandas-docs/stable/user_guide/indexing.html#returning-a-view-versus-a-copy\n",
            "  table[overlap_attr] = values\n",
            "/usr/local/lib/python3.9/dist-packages/py_stringsimjoin/utils/generic_helper.py:76: FutureWarning: In a future version of pandas all arguments of DataFrame.dropna will be keyword-only.\n",
            "  projected_dataframe = dataframe[proj_attrs].dropna(0,\n",
            "/usr/local/lib/python3.9/dist-packages/py_stringsimjoin/utils/generic_helper.py:76: FutureWarning: In a future version of pandas all arguments of DataFrame.dropna will be keyword-only.\n",
            "  projected_dataframe = dataframe[proj_attrs].dropna(0,\n",
            "0% [##############################] 100% | ETA: 00:00:00\n",
            "Total time elapsed: 00:00:00\n"
          ]
        }
      ]
    },
    {
      "cell_type": "code",
      "source": [
        "len(K3)"
      ],
      "metadata": {
        "colab": {
          "base_uri": "https://localhost:8080/"
        },
        "id": "4a4ioEo6RLE_",
        "outputId": "472587b7-cb7e-4fdc-c0b7-ca67ab3df2ae"
      },
      "execution_count": null,
      "outputs": [
        {
          "output_type": "execute_result",
          "data": {
            "text/plain": [
              "130897"
            ]
          },
          "metadata": {},
          "execution_count": 16
        }
      ]
    },
    {
      "cell_type": "code",
      "source": [
        "K4 = ob.block_candset(K3, 'Nama_Produk', 'Nama Produk', overlap_size=2)"
      ],
      "metadata": {
        "colab": {
          "base_uri": "https://localhost:8080/"
        },
        "id": "FzOq61WVRT3M",
        "outputId": "bfe4502f-007c-4186-ae7f-f6a039314e90"
      },
      "execution_count": null,
      "outputs": [
        {
          "output_type": "stream",
          "name": "stderr",
          "text": [
            "/usr/local/lib/python3.9/dist-packages/py_entitymatching/blocker/overlap_blocker.py:615: SettingWithCopyWarning: \n",
            "A value is trying to be set on a copy of a slice from a DataFrame.\n",
            "Try using .loc[row_indexer,col_indexer] = value instead\n",
            "\n",
            "See the caveats in the documentation: https://pandas.pydata.org/pandas-docs/stable/user_guide/indexing.html#returning-a-view-versus-a-copy\n",
            "  table[overlap_attr] = values\n",
            "0% [##############################] 100% | ETA: 00:00:00\n",
            "Total time elapsed: 00:00:03\n"
          ]
        }
      ]
    },
    {
      "cell_type": "code",
      "source": [
        "len(K4)"
      ],
      "metadata": {
        "colab": {
          "base_uri": "https://localhost:8080/"
        },
        "id": "sNW1QUpPRe7B",
        "outputId": "05ff0001-2e48-4545-9e19-abf7f6ffd52e"
      },
      "execution_count": null,
      "outputs": [
        {
          "output_type": "execute_result",
          "data": {
            "text/plain": [
              "54348"
            ]
          },
          "metadata": {},
          "execution_count": 20
        }
      ]
    },
    {
      "cell_type": "code",
      "source": [
        "from google.colab import files\n",
        "\n",
        "K4.to_csv('BPOM_Tokped_Blocked_K4.csv', encoding = 'utf-8-sig')\n",
        "files.download('BPOM_Tokped_Blocked_K4.csv')"
      ],
      "metadata": {
        "colab": {
          "base_uri": "https://localhost:8080/",
          "height": 34
        },
        "id": "xvYBbx-mIY1R",
        "outputId": "9c284b5e-8716-4cc3-ca97-78424ce88c81"
      },
      "execution_count": null,
      "outputs": [
        {
          "output_type": "display_data",
          "data": {
            "text/plain": [
              "<IPython.core.display.Javascript object>"
            ],
            "application/javascript": [
              "\n",
              "    async function download(id, filename, size) {\n",
              "      if (!google.colab.kernel.accessAllowed) {\n",
              "        return;\n",
              "      }\n",
              "      const div = document.createElement('div');\n",
              "      const label = document.createElement('label');\n",
              "      label.textContent = `Downloading \"${filename}\": `;\n",
              "      div.appendChild(label);\n",
              "      const progress = document.createElement('progress');\n",
              "      progress.max = size;\n",
              "      div.appendChild(progress);\n",
              "      document.body.appendChild(div);\n",
              "\n",
              "      const buffers = [];\n",
              "      let downloaded = 0;\n",
              "\n",
              "      const channel = await google.colab.kernel.comms.open(id);\n",
              "      // Send a message to notify the kernel that we're ready.\n",
              "      channel.send({})\n",
              "\n",
              "      for await (const message of channel.messages) {\n",
              "        // Send a message to notify the kernel that we're ready.\n",
              "        channel.send({})\n",
              "        if (message.buffers) {\n",
              "          for (const buffer of message.buffers) {\n",
              "            buffers.push(buffer);\n",
              "            downloaded += buffer.byteLength;\n",
              "            progress.value = downloaded;\n",
              "          }\n",
              "        }\n",
              "      }\n",
              "      const blob = new Blob(buffers, {type: 'application/binary'});\n",
              "      const a = document.createElement('a');\n",
              "      a.href = window.URL.createObjectURL(blob);\n",
              "      a.download = filename;\n",
              "      div.appendChild(a);\n",
              "      a.click();\n",
              "      div.remove();\n",
              "    }\n",
              "  "
            ]
          },
          "metadata": {}
        },
        {
          "output_type": "display_data",
          "data": {
            "text/plain": [
              "<IPython.core.display.Javascript object>"
            ],
            "application/javascript": [
              "download(\"download_c4a82fcb-03e9-4cd4-8057-09580accac5e\", \"BPOM_Tokped_Blocked_K4.csv\", 15392350)"
            ]
          },
          "metadata": {}
        }
      ]
    },
    {
      "cell_type": "code",
      "source": [
        "K1.to_csv('BPOM_Tokped_Blocked_K1.csv', encoding = 'utf-8-sig')\n",
        "files.download('BPOM_Tokped_Blocked_K1.csv')"
      ],
      "metadata": {
        "colab": {
          "base_uri": "https://localhost:8080/",
          "height": 34
        },
        "id": "MStSQBSIIyY8",
        "outputId": "6a4f30f8-8bf5-4212-be1a-9cc81b2e7e82"
      },
      "execution_count": null,
      "outputs": [
        {
          "output_type": "display_data",
          "data": {
            "text/plain": [
              "<IPython.core.display.Javascript object>"
            ],
            "application/javascript": [
              "\n",
              "    async function download(id, filename, size) {\n",
              "      if (!google.colab.kernel.accessAllowed) {\n",
              "        return;\n",
              "      }\n",
              "      const div = document.createElement('div');\n",
              "      const label = document.createElement('label');\n",
              "      label.textContent = `Downloading \"${filename}\": `;\n",
              "      div.appendChild(label);\n",
              "      const progress = document.createElement('progress');\n",
              "      progress.max = size;\n",
              "      div.appendChild(progress);\n",
              "      document.body.appendChild(div);\n",
              "\n",
              "      const buffers = [];\n",
              "      let downloaded = 0;\n",
              "\n",
              "      const channel = await google.colab.kernel.comms.open(id);\n",
              "      // Send a message to notify the kernel that we're ready.\n",
              "      channel.send({})\n",
              "\n",
              "      for await (const message of channel.messages) {\n",
              "        // Send a message to notify the kernel that we're ready.\n",
              "        channel.send({})\n",
              "        if (message.buffers) {\n",
              "          for (const buffer of message.buffers) {\n",
              "            buffers.push(buffer);\n",
              "            downloaded += buffer.byteLength;\n",
              "            progress.value = downloaded;\n",
              "          }\n",
              "        }\n",
              "      }\n",
              "      const blob = new Blob(buffers, {type: 'application/binary'});\n",
              "      const a = document.createElement('a');\n",
              "      a.href = window.URL.createObjectURL(blob);\n",
              "      a.download = filename;\n",
              "      div.appendChild(a);\n",
              "      a.click();\n",
              "      div.remove();\n",
              "    }\n",
              "  "
            ]
          },
          "metadata": {}
        },
        {
          "output_type": "display_data",
          "data": {
            "text/plain": [
              "<IPython.core.display.Javascript object>"
            ],
            "application/javascript": [
              "download(\"download_b7cdd153-70b1-418b-a0f7-5eb356ecac1f\", \"BPOM_Tokped_Blocked_K1.csv\", 66102346)"
            ]
          },
          "metadata": {}
        }
      ]
    }
  ]
}