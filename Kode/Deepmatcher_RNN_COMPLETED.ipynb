{
  "cells": [
    {
      "cell_type": "code",
      "execution_count": null,
      "metadata": {
        "colab": {
          "base_uri": "https://localhost:8080/"
        },
        "id": "lVLG6adN09i8",
        "outputId": "bcb7c6e8-e07b-4a5b-838a-1fb7173fc123"
      },
      "outputs": [
        {
          "output_type": "stream",
          "name": "stdout",
          "text": [
            "Python 3.9.16\n"
          ]
        }
      ],
      "source": [
        "!python --version"
      ]
    },
    {
      "cell_type": "code",
      "execution_count": null,
      "metadata": {
        "colab": {
          "base_uri": "https://localhost:8080/"
        },
        "id": "EXrys8qJo3f7",
        "outputId": "04d8e8ba-3573-41db-ee7a-367012377e89"
      },
      "outputs": [
        {
          "output_type": "stream",
          "name": "stdout",
          "text": [
            "\u001b[?25l     \u001b[90m━━━━━━━━━━━━━━━━━━━━━━━━━━━━━━━━━━━━━━━━\u001b[0m \u001b[32m0.0/51.0 kB\u001b[0m \u001b[31m?\u001b[0m eta \u001b[36m-:--:--\u001b[0m\r\u001b[2K     \u001b[90m━━━━━━━━━━━━━━━━━━━━━━━━━━━━━━━━━━━━━━━━\u001b[0m \u001b[32m51.0/51.0 kB\u001b[0m \u001b[31m4.1 MB/s\u001b[0m eta \u001b[36m0:00:00\u001b[0m\n",
            "\u001b[?25h  Preparing metadata (setup.py) ... \u001b[?25l\u001b[?25hdone\n",
            "\u001b[2K     \u001b[90m━━━━━━━━━━━━━━━━━━━━━━━━━━━━━━━━━━━━━━━━\u001b[0m \u001b[32m68.8/68.8 kB\u001b[0m \u001b[31m5.6 MB/s\u001b[0m eta \u001b[36m0:00:00\u001b[0m\n",
            "\u001b[?25h  Preparing metadata (setup.py) ... \u001b[?25l\u001b[?25hdone\n",
            "\u001b[2K     \u001b[90m━━━━━━━━━━━━━━━━━━━━━━━━━━━━━━━━━━━━━━\u001b[0m \u001b[32m110.5/110.5 kB\u001b[0m \u001b[31m11.4 MB/s\u001b[0m eta \u001b[36m0:00:00\u001b[0m\n",
            "\u001b[?25h  Building wheel for deepmatcher (setup.py) ... \u001b[?25l\u001b[?25hdone\n",
            "  Building wheel for fasttext (setup.py) ... \u001b[?25l\u001b[?25hdone\n"
          ]
        }
      ],
      "source": [
        "!pip install -qqq deepmatcher"
      ]
    },
    {
      "cell_type": "code",
      "execution_count": null,
      "metadata": {
        "colab": {
          "base_uri": "https://localhost:8080/"
        },
        "id": "FfWrIY1Po5-6",
        "outputId": "211675b2-e036-4fbe-a5e1-94f9c6ad40ca"
      },
      "outputs": [
        {
          "output_type": "stream",
          "name": "stdout",
          "text": [
            "Looking in indexes: https://pypi.org/simple, https://us-python.pkg.dev/colab-wheels/public/simple/\n",
            "Collecting torch==1.8.0\n",
            "  Downloading torch-1.8.0-cp39-cp39-manylinux1_x86_64.whl (735.5 MB)\n",
            "\u001b[2K     \u001b[90m━━━━━━━━━━━━━━━━━━━━━━━━━━━━━━━━━━━━━━━\u001b[0m \u001b[32m735.5/735.5 MB\u001b[0m \u001b[31m1.9 MB/s\u001b[0m eta \u001b[36m0:00:00\u001b[0m\n",
            "\u001b[?25hCollecting torchtext==0.9.0\n",
            "  Downloading torchtext-0.9.0-cp39-cp39-manylinux1_x86_64.whl (7.0 MB)\n",
            "\u001b[2K     \u001b[90m━━━━━━━━━━━━━━━━━━━━━━━━━━━━━━━━━━━━━━━━\u001b[0m \u001b[32m7.0/7.0 MB\u001b[0m \u001b[31m47.2 MB/s\u001b[0m eta \u001b[36m0:00:00\u001b[0m\n",
            "\u001b[?25hRequirement already satisfied: numpy in /usr/local/lib/python3.9/dist-packages (from torch==1.8.0) (1.22.4)\n",
            "Requirement already satisfied: typing-extensions in /usr/local/lib/python3.9/dist-packages (from torch==1.8.0) (4.5.0)\n",
            "Requirement already satisfied: tqdm in /usr/local/lib/python3.9/dist-packages (from torchtext==0.9.0) (4.65.0)\n",
            "Requirement already satisfied: requests in /usr/local/lib/python3.9/dist-packages (from torchtext==0.9.0) (2.27.1)\n",
            "Requirement already satisfied: urllib3<1.27,>=1.21.1 in /usr/local/lib/python3.9/dist-packages (from requests->torchtext==0.9.0) (1.26.15)\n",
            "Requirement already satisfied: charset-normalizer~=2.0.0 in /usr/local/lib/python3.9/dist-packages (from requests->torchtext==0.9.0) (2.0.12)\n",
            "Requirement already satisfied: certifi>=2017.4.17 in /usr/local/lib/python3.9/dist-packages (from requests->torchtext==0.9.0) (2022.12.7)\n",
            "Requirement already satisfied: idna<4,>=2.5 in /usr/local/lib/python3.9/dist-packages (from requests->torchtext==0.9.0) (3.4)\n",
            "Installing collected packages: torch, torchtext\n",
            "  Attempting uninstall: torch\n",
            "    Found existing installation: torch 2.0.0+cu118\n",
            "    Uninstalling torch-2.0.0+cu118:\n",
            "      Successfully uninstalled torch-2.0.0+cu118\n",
            "  Attempting uninstall: torchtext\n",
            "    Found existing installation: torchtext 0.15.1\n",
            "    Uninstalling torchtext-0.15.1:\n",
            "      Successfully uninstalled torchtext-0.15.1\n",
            "\u001b[31mERROR: pip's dependency resolver does not currently take into account all the packages that are installed. This behaviour is the source of the following dependency conflicts.\n",
            "torchvision 0.15.1+cu118 requires torch==2.0.0, but you have torch 1.8.0 which is incompatible.\n",
            "torchdata 0.6.0 requires torch==2.0.0, but you have torch 1.8.0 which is incompatible.\n",
            "torchaudio 2.0.1+cu118 requires torch==2.0.0, but you have torch 1.8.0 which is incompatible.\u001b[0m\u001b[31m\n",
            "\u001b[0mSuccessfully installed torch-1.8.0 torchtext-0.9.0\n"
          ]
        }
      ],
      "source": [
        "!pip install torch==1.8.0 torchtext==0.9.0"
      ]
    },
    {
      "cell_type": "code",
      "execution_count": null,
      "metadata": {
        "id": "c0g8FV7To9tO"
      },
      "outputs": [],
      "source": [
        "import deepmatcher as dm\n",
        "#import py_entitymatching as em"
      ]
    },
    {
      "cell_type": "code",
      "execution_count": null,
      "metadata": {
        "id": "9DzbLCgk7tWw"
      },
      "outputs": [],
      "source": [
        "import pandas as pd\n",
        "df1 = pd.read_csv('/content/BPOM_Tokped_Shuffled_1.csv')"
      ]
    },
    {
      "cell_type": "code",
      "execution_count": null,
      "metadata": {
        "id": "qw7SrATcrDzS"
      },
      "outputs": [],
      "source": [
        "split_path = '/content/sample_data'"
      ]
    },
    {
      "cell_type": "code",
      "execution_count": null,
      "metadata": {
        "id": "7Ra9jnzZrYWP"
      },
      "outputs": [],
      "source": [
        "dm.data.split(df1, split_path, 'train1.csv', 'valid1.csv', 'test1.csv',\n",
        "              [3, 1, 1])"
      ]
    },
    {
      "cell_type": "code",
      "execution_count": null,
      "metadata": {
        "colab": {
          "base_uri": "https://localhost:8080/"
        },
        "id": "n-IrsXGH4Gw5",
        "outputId": "057d5f0e-80f6-414c-8a59-e35438d55b81"
      },
      "outputs": [
        {
          "output_type": "stream",
          "name": "stdout",
          "text": [
            "--2023-05-13 14:14:48--  https://dl.fbaipublicfiles.com/fasttext/vectors-wiki/wiki.en.zip\n",
            "Resolving dl.fbaipublicfiles.com (dl.fbaipublicfiles.com)... 52.84.162.51, 52.84.162.103, 52.84.162.20, ...\n",
            "Connecting to dl.fbaipublicfiles.com (dl.fbaipublicfiles.com)|52.84.162.51|:443... connected.\n",
            "HTTP request sent, awaiting response... 200 OK\n",
            "Length: 10356881291 (9.6G) [application/zip]\n",
            "Saving to: ‘/root/.vector_cache/wiki.en.zip’\n",
            "\n",
            "wiki.en.zip         100%[===================>]   9.65G  42.4MB/s    in 3m 35s  \n",
            "\n",
            "2023-05-13 14:18:23 (46.0 MB/s) - ‘/root/.vector_cache/wiki.en.zip’ saved [10356881291/10356881291]\n",
            "\n",
            "Archive:  /root/.vector_cache/wiki.en.zip\n",
            "  inflating: /root/.vector_cache/wiki.en.vec  \n",
            "  inflating: /root/.vector_cache/wiki.en.bin  \n"
          ]
        }
      ],
      "source": [
        "!wget https://dl.fbaipublicfiles.com/fasttext/vectors-wiki/wiki.en.zip --directory-prefix=/root/.vector_cache\n",
        "!unzip /root/.vector_cache/wiki.en.zip -d /root/.vector_cache/\n",
        "!rm /root/.vector_cache/wiki.en.vec"
      ]
    },
    {
      "cell_type": "code",
      "execution_count": null,
      "metadata": {
        "colab": {
          "base_uri": "https://localhost:8080/"
        },
        "id": "wfdcrH3Orc61",
        "outputId": "a49d2bbc-29ef-4db5-cf91-e33b11f30242"
      },
      "outputs": [
        {
          "output_type": "stream",
          "name": "stderr",
          "text": [
            "\n",
            "Reading and processing data from \"/content/sample_data/train1.csv\"\n",
            "0% [##############################] 100% | ETA: 00:00:00\n",
            "Reading and processing data from \"/content/sample_data/valid1.csv\"\n",
            "0% [############################# ] 100% | ETA: 00:00:00\n",
            "Reading and processing data from \"/content/sample_data/test1.csv\"\n",
            "0% [############################# ] 100% | ETA: 00:00:00Warning : `load_model` does not return WordVectorModel or SupervisedModel any more, but a `FastText` object which is very similar.\n",
            "\n",
            "Building vocabulary\n",
            "0% [##############################] 100% | ETA: 00:00:00\n",
            "Total time elapsed: 00:00:00\n",
            "\n",
            "Computing principal components\n",
            "0% [##############################] 100% | ETA: 00:00:00\n",
            "Total time elapsed: 00:00:03\n"
          ]
        }
      ],
      "source": [
        "train, validation, test = dm.data.process(\n",
        "    path=split_path,\n",
        "    cache='train_cache.pth',\n",
        "    train='train1.csv',\n",
        "    validation='valid1.csv',\n",
        "    test='test1.csv',\n",
        "    use_magellan_convention=True,\n",
        "    ignore_columns=('ltable_Unnamed: 0', 'rtable_Unnamed: 0'))"
      ]
    },
    {
      "cell_type": "code",
      "execution_count": null,
      "metadata": {
        "id": "2cJLzrm-vXNW"
      },
      "outputs": [],
      "source": [
        "model = dm.MatchingModel(attr_summarizer='rnn')"
      ]
    },
    {
      "cell_type": "code",
      "execution_count": null,
      "metadata": {
        "colab": {
          "base_uri": "https://localhost:8080/"
        },
        "id": "M-mCMuYJvX5M",
        "outputId": "8932b8c4-1719-4995-cf3c-a962238063bd"
      },
      "outputs": [
        {
          "output_type": "stream",
          "name": "stderr",
          "text": [
            "/usr/local/lib/python3.9/dist-packages/torch/nn/modules/module.py:770: UserWarning: Using non-full backward hooks on a Module that does not take as input a single Tensor or a tuple of Tensors is deprecated and will be removed in future versions. This hook will be missing some of the grad_input. Please use register_full_backward_hook to get the documented behavior.\n",
            "  warnings.warn(\"Using non-full backward hooks on a Module that does not take as input a \"\n",
            "/usr/local/lib/python3.9/dist-packages/torch/nn/modules/module.py:795: UserWarning: Using a non-full backward hook when the forward contains multiple autograd Nodes is deprecated and will be removed in future versions. This hook will be missing some grad_input. Please use register_full_backward_hook to get the documented behavior.\n",
            "  warnings.warn(\"Using a non-full backward hook when the forward contains multiple autograd Nodes \"\n"
          ]
        },
        {
          "output_type": "stream",
          "name": "stdout",
          "text": [
            "* Number of trainable parameters: 1356002\n",
            "===>  TRAIN Epoch 1\n"
          ]
        },
        {
          "output_type": "stream",
          "name": "stderr",
          "text": [
            "/usr/local/lib/python3.9/dist-packages/torch/nn/modules/module.py:760: UserWarning: Using non-full backward hooks on a Module that does not return a single Tensor or a tuple of Tensors is deprecated and will be removed in future versions. This hook will be missing some of the grad_output. Please use register_full_backward_hook to get the documented behavior.\n",
            "  warnings.warn(\"Using non-full backward hooks on a Module that does not return a \"\n",
            "/usr/local/lib/python3.9/dist-packages/torch/nn/functional.py:2607: UserWarning: reduction: 'mean' divides the total loss by both the batch size and the support size.'batchmean' divides only by the batch size, and aligns with the KL div math definition.'mean' will be changed to behave the same as 'batchmean' in the next major release.\n",
            "  warnings.warn(\n",
            "0% [██████████████████████████████] 100% | ETA: 00:00:00\n",
            "Total time elapsed: 00:00:53\n"
          ]
        },
        {
          "output_type": "stream",
          "name": "stdout",
          "text": [
            "Finished Epoch 1 || Run Time:   36.7 | Load Time:   16.4 || F1:  90.36 | Prec:  84.53 | Rec:  97.04 || Ex/s: 613.61\n",
            "\n",
            "===>  EVAL Epoch 1\n"
          ]
        },
        {
          "output_type": "stream",
          "name": "stderr",
          "text": [
            "0% [██████████████████████████████] 100% | ETA: 00:00:00\n",
            "Total time elapsed: 00:00:10\n"
          ]
        },
        {
          "output_type": "stream",
          "name": "stdout",
          "text": [
            "Finished Epoch 1 || Run Time:    5.4 | Load Time:    5.5 || F1:  95.74 | Prec:  95.33 | Rec:  96.16 || Ex/s: 1003.97\n",
            "\n",
            "* Best F1: tensor(95.7449, device='cuda:0')\n",
            "Saving best model...\n",
            "Done.\n",
            "---------------------\n",
            "\n",
            "===>  TRAIN Epoch 2\n"
          ]
        },
        {
          "output_type": "stream",
          "name": "stderr",
          "text": [
            "0% [██████████████████████████████] 100% | ETA: 00:00:00\n",
            "Total time elapsed: 00:00:52\n"
          ]
        },
        {
          "output_type": "stream",
          "name": "stdout",
          "text": [
            "Finished Epoch 2 || Run Time:   36.0 | Load Time:   16.3 || F1:  96.01 | Prec:  93.69 | Rec:  98.45 || Ex/s: 624.18\n",
            "\n",
            "===>  EVAL Epoch 2\n"
          ]
        },
        {
          "output_type": "stream",
          "name": "stderr",
          "text": [
            "0% [██████████████████████████████] 100% | ETA: 00:00:00\n",
            "Total time elapsed: 00:00:10\n"
          ]
        },
        {
          "output_type": "stream",
          "name": "stdout",
          "text": [
            "Finished Epoch 2 || Run Time:    5.3 | Load Time:    5.4 || F1:  96.34 | Prec:  97.01 | Rec:  95.68 || Ex/s: 1016.97\n",
            "\n",
            "* Best F1: tensor(96.3377, device='cuda:0')\n",
            "Saving best model...\n",
            "Done.\n",
            "---------------------\n",
            "\n",
            "===>  TRAIN Epoch 3\n"
          ]
        },
        {
          "output_type": "stream",
          "name": "stderr",
          "text": [
            "0% [██████████████████████████████] 100% | ETA: 00:00:00\n",
            "Total time elapsed: 00:00:52\n"
          ]
        },
        {
          "output_type": "stream",
          "name": "stdout",
          "text": [
            "Finished Epoch 3 || Run Time:   36.0 | Load Time:   16.3 || F1:  97.28 | Prec:  95.67 | Rec:  98.95 || Ex/s: 623.07\n",
            "\n",
            "===>  EVAL Epoch 3\n"
          ]
        },
        {
          "output_type": "stream",
          "name": "stderr",
          "text": [
            "0% [██████████████████████████████] 100% | ETA: 00:00:00\n",
            "Total time elapsed: 00:00:10\n"
          ]
        },
        {
          "output_type": "stream",
          "name": "stdout",
          "text": [
            "Finished Epoch 3 || Run Time:    5.4 | Load Time:    5.4 || F1:  97.03 | Prec:  96.97 | Rec:  97.09 || Ex/s: 1001.47\n",
            "\n",
            "* Best F1: tensor(97.0315, device='cuda:0')\n",
            "Saving best model...\n",
            "Done.\n",
            "---------------------\n",
            "\n",
            "===>  TRAIN Epoch 4\n"
          ]
        },
        {
          "output_type": "stream",
          "name": "stderr",
          "text": [
            "0% [██████████████████████████████] 100% | ETA: 00:00:00\n",
            "Total time elapsed: 00:00:52\n"
          ]
        },
        {
          "output_type": "stream",
          "name": "stdout",
          "text": [
            "Finished Epoch 4 || Run Time:   36.0 | Load Time:   16.3 || F1:  98.02 | Prec:  96.91 | Rec:  99.16 || Ex/s: 622.89\n",
            "\n",
            "===>  EVAL Epoch 4\n"
          ]
        },
        {
          "output_type": "stream",
          "name": "stderr",
          "text": [
            "0% [██████████████████████████████] 100% | ETA: 00:00:00\n",
            "Total time elapsed: 00:00:10\n"
          ]
        },
        {
          "output_type": "stream",
          "name": "stdout",
          "text": [
            "Finished Epoch 4 || Run Time:    5.3 | Load Time:    5.4 || F1:  97.62 | Prec:  97.01 | Rec:  98.24 || Ex/s: 1014.15\n",
            "\n",
            "* Best F1: tensor(97.6207, device='cuda:0')\n",
            "Saving best model...\n",
            "Done.\n",
            "---------------------\n",
            "\n",
            "===>  TRAIN Epoch 5\n"
          ]
        },
        {
          "output_type": "stream",
          "name": "stderr",
          "text": [
            "0% [██████████████████████████████] 100% | ETA: 00:00:00\n",
            "Total time elapsed: 00:00:52\n"
          ]
        },
        {
          "output_type": "stream",
          "name": "stdout",
          "text": [
            "Finished Epoch 5 || Run Time:   36.3 | Load Time:   16.3 || F1:  98.60 | Prec:  97.91 | Rec:  99.31 || Ex/s: 619.83\n",
            "\n",
            "===>  EVAL Epoch 5\n"
          ]
        },
        {
          "output_type": "stream",
          "name": "stderr",
          "text": [
            "0% [██████████████████████████████] 100% | ETA: 00:00:00\n",
            "Total time elapsed: 00:00:11\n"
          ]
        },
        {
          "output_type": "stream",
          "name": "stdout",
          "text": [
            "Finished Epoch 5 || Run Time:    5.5 | Load Time:    5.5 || F1:  97.94 | Prec:  98.17 | Rec:  97.72 || Ex/s: 980.61\n",
            "\n",
            "* Best F1: tensor(97.9443, device='cuda:0')\n",
            "Saving best model...\n",
            "Done.\n",
            "---------------------\n",
            "\n",
            "===>  TRAIN Epoch 6\n"
          ]
        },
        {
          "output_type": "stream",
          "name": "stderr",
          "text": [
            "0% [██████████████████████████████] 100% | ETA: 00:00:00\n",
            "Total time elapsed: 00:00:52\n"
          ]
        },
        {
          "output_type": "stream",
          "name": "stdout",
          "text": [
            "Finished Epoch 6 || Run Time:   36.6 | Load Time:   16.4 || F1:  99.00 | Prec:  98.51 | Rec:  99.51 || Ex/s: 614.97\n",
            "\n",
            "===>  EVAL Epoch 6\n"
          ]
        },
        {
          "output_type": "stream",
          "name": "stderr",
          "text": [
            "0% [██████████████████████████████] 100% | ETA: 00:00:00\n",
            "Total time elapsed: 00:00:10\n"
          ]
        },
        {
          "output_type": "stream",
          "name": "stdout",
          "text": [
            "Finished Epoch 6 || Run Time:    5.3 | Load Time:    5.4 || F1:  98.31 | Prec:  98.42 | Rec:  98.20 || Ex/s: 1011.37\n",
            "\n",
            "* Best F1: tensor(98.3109, device='cuda:0')\n",
            "Saving best model...\n",
            "Done.\n",
            "---------------------\n",
            "\n",
            "===>  TRAIN Epoch 7\n"
          ]
        },
        {
          "output_type": "stream",
          "name": "stderr",
          "text": [
            "0% [██████████████████████████████] 100% | ETA: 00:00:00\n",
            "Total time elapsed: 00:00:51\n"
          ]
        },
        {
          "output_type": "stream",
          "name": "stdout",
          "text": [
            "Finished Epoch 7 || Run Time:   35.8 | Load Time:   16.2 || F1:  99.25 | Prec:  98.87 | Rec:  99.62 || Ex/s: 626.72\n",
            "\n",
            "===>  EVAL Epoch 7\n"
          ]
        },
        {
          "output_type": "stream",
          "name": "stderr",
          "text": [
            "0% [██████████████████████████████] 100% | ETA: 00:00:00\n",
            "Total time elapsed: 00:00:10\n"
          ]
        },
        {
          "output_type": "stream",
          "name": "stdout",
          "text": [
            "Finished Epoch 7 || Run Time:    5.4 | Load Time:    5.5 || F1:  98.40 | Prec:  98.64 | Rec:  98.16 || Ex/s: 998.97\n",
            "\n",
            "* Best F1: tensor(98.3998, device='cuda:0')\n",
            "Saving best model...\n",
            "Done.\n",
            "---------------------\n",
            "\n",
            "===>  TRAIN Epoch 8\n"
          ]
        },
        {
          "output_type": "stream",
          "name": "stderr",
          "text": [
            "0% [██████████████████████████████] 100% | ETA: 00:00:00\n",
            "Total time elapsed: 00:00:53\n"
          ]
        },
        {
          "output_type": "stream",
          "name": "stdout",
          "text": [
            "Finished Epoch 8 || Run Time:   36.9 | Load Time:   16.5 || F1:  99.44 | Prec:  99.14 | Rec:  99.75 || Ex/s: 610.01\n",
            "\n",
            "===>  EVAL Epoch 8\n"
          ]
        },
        {
          "output_type": "stream",
          "name": "stderr",
          "text": [
            "0% [██████████████████████████████] 100% | ETA: 00:00:00\n",
            "Total time elapsed: 00:00:10\n"
          ]
        },
        {
          "output_type": "stream",
          "name": "stdout",
          "text": [
            "Finished Epoch 8 || Run Time:    5.4 | Load Time:    5.4 || F1:  98.64 | Prec:  98.51 | Rec:  98.77 || Ex/s: 1005.44\n",
            "\n",
            "* Best F1: tensor(98.6379, device='cuda:0')\n",
            "Saving best model...\n",
            "Done.\n",
            "---------------------\n",
            "\n",
            "===>  TRAIN Epoch 9\n"
          ]
        },
        {
          "output_type": "stream",
          "name": "stderr",
          "text": [
            "0% [██████████████████████████████] 100% | ETA: 00:00:00\n",
            "Total time elapsed: 00:00:53\n"
          ]
        },
        {
          "output_type": "stream",
          "name": "stdout",
          "text": [
            "Finished Epoch 9 || Run Time:   37.3 | Load Time:   16.6 || F1:  99.62 | Prec:  99.40 | Rec:  99.83 || Ex/s: 605.31\n",
            "\n",
            "===>  EVAL Epoch 9\n"
          ]
        },
        {
          "output_type": "stream",
          "name": "stderr",
          "text": [
            "0% [██████████████████████████████] 100% | ETA: 00:00:00\n",
            "Total time elapsed: 00:00:10\n"
          ]
        },
        {
          "output_type": "stream",
          "name": "stdout",
          "text": [
            "Finished Epoch 9 || Run Time:    5.5 | Load Time:    5.5 || F1:  98.73 | Prec:  98.73 | Rec:  98.73 || Ex/s: 992.98\n",
            "\n",
            "* Best F1: tensor(98.7270, device='cuda:0')\n",
            "Saving best model...\n",
            "Done.\n",
            "---------------------\n",
            "\n",
            "===>  TRAIN Epoch 10\n"
          ]
        },
        {
          "output_type": "stream",
          "name": "stderr",
          "text": [
            "0% [██████████████████████████████] 100% | ETA: 00:00:00\n",
            "Total time elapsed: 00:00:53\n"
          ]
        },
        {
          "output_type": "stream",
          "name": "stdout",
          "text": [
            "Finished Epoch 10 || Run Time:   37.4 | Load Time:   16.6 || F1:  99.68 | Prec:  99.49 | Rec:  99.87 || Ex/s: 603.96\n",
            "\n",
            "===>  EVAL Epoch 10\n"
          ]
        },
        {
          "output_type": "stream",
          "name": "stderr",
          "text": [
            "0% [██████████████████████████████] 100% | ETA: 00:00:00\n",
            "Total time elapsed: 00:00:10\n"
          ]
        },
        {
          "output_type": "stream",
          "name": "stdout",
          "text": [
            "Finished Epoch 10 || Run Time:    5.5 | Load Time:    5.5 || F1:  98.66 | Prec:  98.49 | Rec:  98.83 || Ex/s: 993.21\n",
            "\n",
            "---------------------\n",
            "\n",
            "Loading best model...\n",
            "Training done.\n"
          ]
        },
        {
          "output_type": "execute_result",
          "data": {
            "text/plain": [
              "tensor(98.7270, device='cuda:0')"
            ]
          },
          "metadata": {},
          "execution_count": 14
        }
      ],
      "source": [
        "model.run_train(\n",
        "    train,\n",
        "    validation,\n",
        "    epochs=10,\n",
        "    batch_size=16,\n",
        "    best_save_path='rnn_model.pth',\n",
        "    pos_neg_ratio=3)"
      ]
    },
    {
      "cell_type": "code",
      "execution_count": null,
      "metadata": {
        "colab": {
          "base_uri": "https://localhost:8080/"
        },
        "id": "2iY_bKXUB-na",
        "outputId": "56edfa9c-fa8d-4fa9-eca9-6c1069cef76e"
      },
      "outputs": [
        {
          "output_type": "stream",
          "name": "stdout",
          "text": [
            "===>  EVAL Epoch 9\n"
          ]
        },
        {
          "output_type": "stream",
          "name": "stderr",
          "text": [
            "0% [██████████████████████████████] 100% | ETA: 00:00:00\n",
            "Total time elapsed: 00:00:08\n"
          ]
        },
        {
          "output_type": "stream",
          "name": "stdout",
          "text": [
            "Finished Epoch 9 || Run Time:    2.9 | Load Time:    5.4 || F1:  98.76 | Prec:  98.90 | Rec:  98.63 || Ex/s: 1312.75\n",
            "\n"
          ]
        },
        {
          "output_type": "execute_result",
          "data": {
            "text/plain": [
              "tensor(98.7630, device='cuda:0')"
            ]
          },
          "metadata": {},
          "execution_count": 15
        }
      ],
      "source": [
        "model.run_eval(test)"
      ]
    },
    {
      "cell_type": "code",
      "execution_count": null,
      "metadata": {
        "id": "ofDAfZIK_luz"
      },
      "outputs": [],
      "source": [
        "df2 = pd.read_csv('/content/BPOM_Tokped_Shuffled_2.csv')"
      ]
    },
    {
      "cell_type": "code",
      "execution_count": null,
      "metadata": {
        "id": "9xVR9M3n_sQ1"
      },
      "outputs": [],
      "source": [
        "dm.data.split(df2, split_path, 'train2.csv', 'valid2.csv', 'test2.csv',\n",
        "              [3, 1, 1])"
      ]
    },
    {
      "cell_type": "code",
      "execution_count": null,
      "metadata": {
        "colab": {
          "base_uri": "https://localhost:8080/"
        },
        "id": "i8EquqtE_6n5",
        "outputId": "93ec47bc-f1da-4e1b-caac-867412758825"
      },
      "outputs": [
        {
          "output_type": "stream",
          "name": "stderr",
          "text": [
            "\n",
            "Reading and processing data from \"/content/sample_data/train2.csv\"\n",
            "0% [##############################] 100% | ETA: 00:00:00\n",
            "Reading and processing data from \"/content/sample_data/valid2.csv\"\n",
            "0% [############################# ] 100% | ETA: 00:00:00\n",
            "Reading and processing data from \"/content/sample_data/test2.csv\"\n",
            "0% [############################# ] 100% | ETA: 00:00:00\n",
            "Building vocabulary\n",
            "0% [##############################] 100% | ETA: 00:00:00\n",
            "Total time elapsed: 00:00:00\n",
            "\n",
            "Computing principal components\n",
            "0% [##############################] 100% | ETA: 00:00:00\n",
            "Total time elapsed: 00:00:03\n"
          ]
        }
      ],
      "source": [
        "train, validation, test = dm.data.process(\n",
        "    path=split_path,\n",
        "    cache='train_cache2.pth',\n",
        "    train='train2.csv',\n",
        "    validation='valid2.csv',\n",
        "    test='test2.csv',\n",
        "    use_magellan_convention=True,\n",
        "    ignore_columns=('ltable_Unnamed: 0', 'rtable_Unnamed: 0'))"
      ]
    },
    {
      "cell_type": "code",
      "execution_count": null,
      "metadata": {
        "id": "kkEJ3pqsAEjG"
      },
      "outputs": [],
      "source": [
        "model2 = dm.MatchingModel(attr_summarizer='rnn')"
      ]
    },
    {
      "cell_type": "code",
      "execution_count": null,
      "metadata": {
        "colab": {
          "base_uri": "https://localhost:8080/"
        },
        "id": "ovAugzmeAJxv",
        "outputId": "e8ada4ea-c6a0-47ad-81ab-d8d46b8f6bb8"
      },
      "outputs": [
        {
          "output_type": "stream",
          "name": "stdout",
          "text": [
            "* Number of trainable parameters: 1356002\n",
            "===>  TRAIN Epoch 1\n"
          ]
        },
        {
          "output_type": "stream",
          "name": "stderr",
          "text": [
            "/usr/local/lib/python3.9/dist-packages/torch/nn/modules/module.py:770: UserWarning: Using non-full backward hooks on a Module that does not take as input a single Tensor or a tuple of Tensors is deprecated and will be removed in future versions. This hook will be missing some of the grad_input. Please use register_full_backward_hook to get the documented behavior.\n",
            "  warnings.warn(\"Using non-full backward hooks on a Module that does not take as input a \"\n",
            "/usr/local/lib/python3.9/dist-packages/torch/nn/modules/module.py:795: UserWarning: Using a non-full backward hook when the forward contains multiple autograd Nodes is deprecated and will be removed in future versions. This hook will be missing some grad_input. Please use register_full_backward_hook to get the documented behavior.\n",
            "  warnings.warn(\"Using a non-full backward hook when the forward contains multiple autograd Nodes \"\n",
            "/usr/local/lib/python3.9/dist-packages/torch/nn/modules/module.py:760: UserWarning: Using non-full backward hooks on a Module that does not return a single Tensor or a tuple of Tensors is deprecated and will be removed in future versions. This hook will be missing some of the grad_output. Please use register_full_backward_hook to get the documented behavior.\n",
            "  warnings.warn(\"Using non-full backward hooks on a Module that does not return a \"\n",
            "/usr/local/lib/python3.9/dist-packages/torch/nn/functional.py:2607: UserWarning: reduction: 'mean' divides the total loss by both the batch size and the support size.'batchmean' divides only by the batch size, and aligns with the KL div math definition.'mean' will be changed to behave the same as 'batchmean' in the next major release.\n",
            "  warnings.warn(\n",
            "0% [██████████████████████████████] 100% | ETA: 00:00:00\n",
            "Total time elapsed: 00:00:52\n"
          ]
        },
        {
          "output_type": "stream",
          "name": "stdout",
          "text": [
            "Finished Epoch 1 || Run Time:   36.6 | Load Time:   16.4 || F1:  90.24 | Prec:  84.28 | Rec:  97.10 || Ex/s: 614.52\n",
            "\n",
            "===>  EVAL Epoch 1\n"
          ]
        },
        {
          "output_type": "stream",
          "name": "stderr",
          "text": [
            "0% [██████████████████████████████] 100% | ETA: 00:00:00\n",
            "Total time elapsed: 00:00:10\n"
          ]
        },
        {
          "output_type": "stream",
          "name": "stdout",
          "text": [
            "Finished Epoch 1 || Run Time:    5.4 | Load Time:    5.5 || F1:  95.35 | Prec:  92.92 | Rec:  97.91 || Ex/s: 996.63\n",
            "\n",
            "* Best F1: tensor(95.3527, device='cuda:0')\n",
            "Saving best model...\n",
            "Done.\n",
            "---------------------\n",
            "\n",
            "===>  TRAIN Epoch 2\n"
          ]
        },
        {
          "output_type": "stream",
          "name": "stderr",
          "text": [
            "0% [██████████████████████████████] 100% | ETA: 00:00:00\n",
            "Total time elapsed: 00:00:52\n"
          ]
        },
        {
          "output_type": "stream",
          "name": "stdout",
          "text": [
            "Finished Epoch 2 || Run Time:   36.5 | Load Time:   16.4 || F1:  95.88 | Prec:  93.44 | Rec:  98.45 || Ex/s: 616.87\n",
            "\n",
            "===>  EVAL Epoch 2\n"
          ]
        },
        {
          "output_type": "stream",
          "name": "stderr",
          "text": [
            "0% [██████████████████████████████] 100% | ETA: 00:00:00\n",
            "Total time elapsed: 00:00:10\n"
          ]
        },
        {
          "output_type": "stream",
          "name": "stdout",
          "text": [
            "Finished Epoch 2 || Run Time:    5.4 | Load Time:    5.4 || F1:  96.78 | Prec:  95.70 | Rec:  97.89 || Ex/s: 1004.50\n",
            "\n",
            "* Best F1: tensor(96.7845, device='cuda:0')\n",
            "Saving best model...\n",
            "Done.\n",
            "---------------------\n",
            "\n",
            "===>  TRAIN Epoch 3\n"
          ]
        },
        {
          "output_type": "stream",
          "name": "stderr",
          "text": [
            "0% [██████████████████████████████] 100% | ETA: 00:00:00\n",
            "Total time elapsed: 00:00:52\n"
          ]
        },
        {
          "output_type": "stream",
          "name": "stdout",
          "text": [
            "Finished Epoch 3 || Run Time:   36.3 | Load Time:   16.4 || F1:  97.31 | Prec:  95.60 | Rec:  99.09 || Ex/s: 619.34\n",
            "\n",
            "===>  EVAL Epoch 3\n"
          ]
        },
        {
          "output_type": "stream",
          "name": "stderr",
          "text": [
            "0% [██████████████████████████████] 100% | ETA: 00:00:00\n",
            "Total time elapsed: 00:00:10\n"
          ]
        },
        {
          "output_type": "stream",
          "name": "stdout",
          "text": [
            "Finished Epoch 3 || Run Time:    5.4 | Load Time:    5.4 || F1:  96.93 | Prec:  95.43 | Rec:  98.48 || Ex/s: 1003.47\n",
            "\n",
            "* Best F1: tensor(96.9286, device='cuda:0')\n",
            "Saving best model...\n",
            "Done.\n",
            "---------------------\n",
            "\n",
            "===>  TRAIN Epoch 4\n"
          ]
        },
        {
          "output_type": "stream",
          "name": "stderr",
          "text": [
            "0% [██████████████████████████████] 100% | ETA: 00:00:00\n",
            "Total time elapsed: 00:00:52\n"
          ]
        },
        {
          "output_type": "stream",
          "name": "stdout",
          "text": [
            "Finished Epoch 4 || Run Time:   36.6 | Load Time:   16.4 || F1:  98.21 | Prec:  97.08 | Rec:  99.36 || Ex/s: 615.25\n",
            "\n",
            "===>  EVAL Epoch 4\n"
          ]
        },
        {
          "output_type": "stream",
          "name": "stderr",
          "text": [
            "0% [██████████████████████████████] 100% | ETA: 00:00:00\n",
            "Total time elapsed: 00:00:10\n"
          ]
        },
        {
          "output_type": "stream",
          "name": "stdout",
          "text": [
            "Finished Epoch 4 || Run Time:    5.5 | Load Time:    5.5 || F1:  97.24 | Prec:  95.68 | Rec:  98.84 || Ex/s: 992.25\n",
            "\n",
            "* Best F1: tensor(97.2391, device='cuda:0')\n",
            "Saving best model...\n",
            "Done.\n",
            "---------------------\n",
            "\n",
            "===>  TRAIN Epoch 5\n"
          ]
        },
        {
          "output_type": "stream",
          "name": "stderr",
          "text": [
            "0% [██████████████████████████████] 100% | ETA: 00:00:00\n",
            "Total time elapsed: 00:00:53\n"
          ]
        },
        {
          "output_type": "stream",
          "name": "stdout",
          "text": [
            "Finished Epoch 5 || Run Time:   36.8 | Load Time:   16.5 || F1:  98.77 | Prec:  98.01 | Rec:  99.55 || Ex/s: 612.30\n",
            "\n",
            "===>  EVAL Epoch 5\n"
          ]
        },
        {
          "output_type": "stream",
          "name": "stderr",
          "text": [
            "0% [██████████████████████████████] 100% | ETA: 00:00:00\n",
            "Total time elapsed: 00:00:10\n"
          ]
        },
        {
          "output_type": "stream",
          "name": "stdout",
          "text": [
            "Finished Epoch 5 || Run Time:    5.4 | Load Time:    5.4 || F1:  97.22 | Prec:  95.45 | Rec:  99.05 || Ex/s: 1005.30\n",
            "\n",
            "---------------------\n",
            "\n",
            "===>  TRAIN Epoch 6\n"
          ]
        },
        {
          "output_type": "stream",
          "name": "stderr",
          "text": [
            "0% [██████████████████████████████] 100% | ETA: 00:00:00\n",
            "Total time elapsed: 00:00:52\n"
          ]
        },
        {
          "output_type": "stream",
          "name": "stdout",
          "text": [
            "Finished Epoch 6 || Run Time:   36.6 | Load Time:   16.4 || F1:  99.11 | Prec:  98.54 | Rec:  99.69 || Ex/s: 615.29\n",
            "\n",
            "===>  EVAL Epoch 6\n"
          ]
        },
        {
          "output_type": "stream",
          "name": "stderr",
          "text": [
            "0% [██████████████████████████████] 100% | ETA: 00:00:00\n",
            "Total time elapsed: 00:00:10\n"
          ]
        },
        {
          "output_type": "stream",
          "name": "stdout",
          "text": [
            "Finished Epoch 6 || Run Time:    5.4 | Load Time:    5.4 || F1:  97.67 | Prec:  96.35 | Rec:  99.03 || Ex/s: 1008.84\n",
            "\n",
            "* Best F1: tensor(97.6716, device='cuda:0')\n",
            "Saving best model...\n",
            "Done.\n",
            "---------------------\n",
            "\n",
            "===>  TRAIN Epoch 7\n"
          ]
        },
        {
          "output_type": "stream",
          "name": "stderr",
          "text": [
            "0% [██████████████████████████████] 100% | ETA: 00:00:00\n",
            "Total time elapsed: 00:00:52\n"
          ]
        },
        {
          "output_type": "stream",
          "name": "stdout",
          "text": [
            "Finished Epoch 7 || Run Time:   36.4 | Load Time:   16.4 || F1:  99.33 | Prec:  98.91 | Rec:  99.75 || Ex/s: 617.52\n",
            "\n",
            "===>  EVAL Epoch 7\n"
          ]
        },
        {
          "output_type": "stream",
          "name": "stderr",
          "text": [
            "0% [██████████████████████████████] 100% | ETA: 00:00:00\n",
            "Total time elapsed: 00:00:10\n"
          ]
        },
        {
          "output_type": "stream",
          "name": "stdout",
          "text": [
            "Finished Epoch 7 || Run Time:    5.4 | Load Time:    5.4 || F1:  97.94 | Prec:  96.74 | Rec:  99.17 || Ex/s: 1010.39\n",
            "\n",
            "* Best F1: tensor(97.9388, device='cuda:0')\n",
            "Saving best model...\n",
            "Done.\n",
            "---------------------\n",
            "\n",
            "===>  TRAIN Epoch 8\n"
          ]
        },
        {
          "output_type": "stream",
          "name": "stderr",
          "text": [
            "0% [██████████████████████████████] 100% | ETA: 00:00:00\n",
            "Total time elapsed: 00:00:52\n"
          ]
        },
        {
          "output_type": "stream",
          "name": "stdout",
          "text": [
            "Finished Epoch 8 || Run Time:   36.4 | Load Time:   16.4 || F1:  99.44 | Prec:  99.12 | Rec:  99.77 || Ex/s: 618.19\n",
            "\n",
            "===>  EVAL Epoch 8\n"
          ]
        },
        {
          "output_type": "stream",
          "name": "stderr",
          "text": [
            "0% [██████████████████████████████] 100% | ETA: 00:00:00\n",
            "Total time elapsed: 00:00:10\n"
          ]
        },
        {
          "output_type": "stream",
          "name": "stdout",
          "text": [
            "Finished Epoch 8 || Run Time:    5.3 | Load Time:    5.3 || F1:  98.44 | Prec:  97.91 | Rec:  98.97 || Ex/s: 1022.52\n",
            "\n",
            "* Best F1: tensor(98.4380, device='cuda:0')\n",
            "Saving best model...\n",
            "Done.\n",
            "---------------------\n",
            "\n",
            "===>  TRAIN Epoch 9\n"
          ]
        },
        {
          "output_type": "stream",
          "name": "stderr",
          "text": [
            "0% [██████████████████████████████] 100% | ETA: 00:00:00\n",
            "Total time elapsed: 00:00:53\n"
          ]
        },
        {
          "output_type": "stream",
          "name": "stdout",
          "text": [
            "Finished Epoch 9 || Run Time:   37.0 | Load Time:   16.5 || F1:  99.69 | Prec:  99.55 | Rec:  99.83 || Ex/s: 608.96\n",
            "\n",
            "===>  EVAL Epoch 9\n"
          ]
        },
        {
          "output_type": "stream",
          "name": "stderr",
          "text": [
            "0% [██████████████████████████████] 100% | ETA: 00:00:00\n",
            "Total time elapsed: 00:00:11\n"
          ]
        },
        {
          "output_type": "stream",
          "name": "stdout",
          "text": [
            "Finished Epoch 9 || Run Time:    5.5 | Load Time:    5.5 || F1:  98.60 | Prec:  98.33 | Rec:  98.87 || Ex/s: 984.21\n",
            "\n",
            "* Best F1: tensor(98.5955, device='cuda:0')\n",
            "Saving best model...\n",
            "Done.\n",
            "---------------------\n",
            "\n",
            "===>  TRAIN Epoch 10\n"
          ]
        },
        {
          "output_type": "stream",
          "name": "stderr",
          "text": [
            "0% [██████████████████████████████] 100% | ETA: 00:00:00\n",
            "Total time elapsed: 00:00:52\n"
          ]
        },
        {
          "output_type": "stream",
          "name": "stdout",
          "text": [
            "Finished Epoch 10 || Run Time:   36.1 | Load Time:   16.3 || F1:  99.76 | Prec:  99.65 | Rec:  99.87 || Ex/s: 622.09\n",
            "\n",
            "===>  EVAL Epoch 10\n"
          ]
        },
        {
          "output_type": "stream",
          "name": "stderr",
          "text": [
            "0% [██████████████████████████████] 100% | ETA: 00:00:00\n",
            "Total time elapsed: 00:00:10\n"
          ]
        },
        {
          "output_type": "stream",
          "name": "stdout",
          "text": [
            "Finished Epoch 10 || Run Time:    5.5 | Load Time:    5.5 || F1:  98.79 | Prec:  98.69 | Rec:  98.89 || Ex/s: 990.29\n",
            "\n",
            "* Best F1: tensor(98.7854, device='cuda:0')\n",
            "Saving best model...\n",
            "Done.\n",
            "---------------------\n",
            "\n",
            "Loading best model...\n",
            "Training done.\n"
          ]
        },
        {
          "output_type": "execute_result",
          "data": {
            "text/plain": [
              "tensor(98.7854, device='cuda:0')"
            ]
          },
          "metadata": {},
          "execution_count": 20
        }
      ],
      "source": [
        "model2.run_train(\n",
        "    train,\n",
        "    validation,\n",
        "    epochs=10,\n",
        "    batch_size=16,\n",
        "    best_save_path='rnn_model2.pth',\n",
        "    pos_neg_ratio=3)"
      ]
    },
    {
      "cell_type": "code",
      "execution_count": null,
      "metadata": {
        "colab": {
          "base_uri": "https://localhost:8080/"
        },
        "id": "5Q89--PwAQit",
        "outputId": "8e066f88-990b-451d-bfae-906a1f76ff95"
      },
      "outputs": [
        {
          "output_type": "stream",
          "name": "stdout",
          "text": [
            "===>  EVAL Epoch 10\n"
          ]
        },
        {
          "output_type": "stream",
          "name": "stderr",
          "text": [
            "0% [██████████████████████████████] 100% | ETA: 00:00:00\n",
            "Total time elapsed: 00:00:08\n"
          ]
        },
        {
          "output_type": "stream",
          "name": "stdout",
          "text": [
            "Finished Epoch 10 || Run Time:    2.8 | Load Time:    5.3 || F1:  98.91 | Prec:  98.73 | Rec:  99.09 || Ex/s: 1348.22\n",
            "\n"
          ]
        },
        {
          "output_type": "execute_result",
          "data": {
            "text/plain": [
              "tensor(98.9092, device='cuda:0')"
            ]
          },
          "metadata": {},
          "execution_count": 21
        }
      ],
      "source": [
        "model2.run_eval(test)"
      ]
    },
    {
      "cell_type": "markdown",
      "metadata": {
        "id": "A7khP6GTAdqJ"
      },
      "source": [
        "CV3"
      ]
    },
    {
      "cell_type": "code",
      "execution_count": null,
      "metadata": {
        "id": "nq9Izt5fAZqc"
      },
      "outputs": [],
      "source": [
        "df3 = pd.read_csv('/content/BPOM_Tokped_Shuffled_3.csv')"
      ]
    },
    {
      "cell_type": "code",
      "execution_count": null,
      "metadata": {
        "id": "2AATW3bqAl14"
      },
      "outputs": [],
      "source": [
        "dm.data.split(df3, split_path, 'train3.csv', 'valid3.csv', 'test3.csv',\n",
        "              [3, 1, 1])"
      ]
    },
    {
      "cell_type": "code",
      "execution_count": null,
      "metadata": {
        "colab": {
          "base_uri": "https://localhost:8080/"
        },
        "id": "3SyaqoBlAstg",
        "outputId": "0d42f18c-bb68-4843-c8e1-7ea806c4f5b6"
      },
      "outputs": [
        {
          "output_type": "stream",
          "name": "stderr",
          "text": [
            "\n",
            "Reading and processing data from \"/content/sample_data/train3.csv\"\n",
            "0% [##############################] 100% | ETA: 00:00:00\n",
            "Reading and processing data from \"/content/sample_data/valid3.csv\"\n",
            "0% [############################# ] 100% | ETA: 00:00:00\n",
            "Reading and processing data from \"/content/sample_data/test3.csv\"\n",
            "0% [############################# ] 100% | ETA: 00:00:00\n",
            "Building vocabulary\n",
            "0% [##############################] 100% | ETA: 00:00:00\n",
            "Total time elapsed: 00:00:00\n",
            "\n",
            "Computing principal components\n",
            "0% [##############################] 100% | ETA: 00:00:00\n",
            "Total time elapsed: 00:00:03\n"
          ]
        }
      ],
      "source": [
        "train, validation, test = dm.data.process(\n",
        "    path=split_path,\n",
        "    cache='train_cache3.pth',\n",
        "    train='train3.csv',\n",
        "    validation='valid3.csv',\n",
        "    test='test3.csv',\n",
        "    use_magellan_convention=True,\n",
        "    ignore_columns=('ltable_Unnamed: 0', 'rtable_Unnamed: 0'))"
      ]
    },
    {
      "cell_type": "code",
      "execution_count": null,
      "metadata": {
        "id": "Wb39-vo8A17G"
      },
      "outputs": [],
      "source": [
        "model3 = dm.MatchingModel(attr_summarizer='rnn')"
      ]
    },
    {
      "cell_type": "code",
      "execution_count": null,
      "metadata": {
        "colab": {
          "base_uri": "https://localhost:8080/"
        },
        "id": "gncVeC3sA_vm",
        "outputId": "be4dba3e-02a6-49af-97e6-d51c0920b633"
      },
      "outputs": [
        {
          "output_type": "stream",
          "name": "stdout",
          "text": [
            "* Number of trainable parameters: 1356002\n",
            "===>  TRAIN Epoch 1\n"
          ]
        },
        {
          "output_type": "stream",
          "name": "stderr",
          "text": [
            "/usr/local/lib/python3.9/dist-packages/torch/nn/modules/module.py:770: UserWarning: Using non-full backward hooks on a Module that does not take as input a single Tensor or a tuple of Tensors is deprecated and will be removed in future versions. This hook will be missing some of the grad_input. Please use register_full_backward_hook to get the documented behavior.\n",
            "  warnings.warn(\"Using non-full backward hooks on a Module that does not take as input a \"\n",
            "/usr/local/lib/python3.9/dist-packages/torch/nn/modules/module.py:795: UserWarning: Using a non-full backward hook when the forward contains multiple autograd Nodes is deprecated and will be removed in future versions. This hook will be missing some grad_input. Please use register_full_backward_hook to get the documented behavior.\n",
            "  warnings.warn(\"Using a non-full backward hook when the forward contains multiple autograd Nodes \"\n",
            "/usr/local/lib/python3.9/dist-packages/torch/nn/modules/module.py:760: UserWarning: Using non-full backward hooks on a Module that does not return a single Tensor or a tuple of Tensors is deprecated and will be removed in future versions. This hook will be missing some of the grad_output. Please use register_full_backward_hook to get the documented behavior.\n",
            "  warnings.warn(\"Using non-full backward hooks on a Module that does not return a \"\n",
            "/usr/local/lib/python3.9/dist-packages/torch/nn/functional.py:2607: UserWarning: reduction: 'mean' divides the total loss by both the batch size and the support size.'batchmean' divides only by the batch size, and aligns with the KL div math definition.'mean' will be changed to behave the same as 'batchmean' in the next major release.\n",
            "  warnings.warn(\n",
            "0% [██████████████████████████████] 100% | ETA: 00:00:00\n",
            "Total time elapsed: 00:00:53\n"
          ]
        },
        {
          "output_type": "stream",
          "name": "stdout",
          "text": [
            "Finished Epoch 1 || Run Time:   36.7 | Load Time:   16.5 || F1:  90.33 | Prec:  84.58 | Rec:  96.92 || Ex/s: 613.37\n",
            "\n",
            "===>  EVAL Epoch 1\n"
          ]
        },
        {
          "output_type": "stream",
          "name": "stderr",
          "text": [
            "0% [██████████████████████████████] 100% | ETA: 00:00:00\n",
            "Total time elapsed: 00:00:10\n"
          ]
        },
        {
          "output_type": "stream",
          "name": "stdout",
          "text": [
            "Finished Epoch 1 || Run Time:    5.4 | Load Time:    5.4 || F1:  95.00 | Prec:  91.93 | Rec:  98.29 || Ex/s: 1003.93\n",
            "\n",
            "* Best F1: tensor(94.9995, device='cuda:0')\n",
            "Saving best model...\n",
            "Done.\n",
            "---------------------\n",
            "\n",
            "===>  TRAIN Epoch 2\n"
          ]
        },
        {
          "output_type": "stream",
          "name": "stderr",
          "text": [
            "0% [██████████████████████████████] 100% | ETA: 00:00:00\n",
            "Total time elapsed: 00:00:53\n"
          ]
        },
        {
          "output_type": "stream",
          "name": "stdout",
          "text": [
            "Finished Epoch 2 || Run Time:   36.8 | Load Time:   16.5 || F1:  96.03 | Prec:  93.75 | Rec:  98.42 || Ex/s: 611.12\n",
            "\n",
            "===>  EVAL Epoch 2\n"
          ]
        },
        {
          "output_type": "stream",
          "name": "stderr",
          "text": [
            "0% [██████████████████████████████] 100% | ETA: 00:00:00\n",
            "Total time elapsed: 00:00:10\n"
          ]
        },
        {
          "output_type": "stream",
          "name": "stdout",
          "text": [
            "Finished Epoch 2 || Run Time:    5.4 | Load Time:    5.4 || F1:  95.54 | Prec:  92.47 | Rec:  98.83 || Ex/s: 998.77\n",
            "\n",
            "* Best F1: tensor(95.5445, device='cuda:0')\n",
            "Saving best model...\n",
            "Done.\n",
            "---------------------\n",
            "\n",
            "===>  TRAIN Epoch 3\n"
          ]
        },
        {
          "output_type": "stream",
          "name": "stderr",
          "text": [
            "0% [██████████████████████████████] 100% | ETA: 00:00:00\n",
            "Total time elapsed: 00:00:52\n"
          ]
        },
        {
          "output_type": "stream",
          "name": "stdout",
          "text": [
            "Finished Epoch 3 || Run Time:   36.6 | Load Time:   16.4 || F1:  97.31 | Prec:  95.68 | Rec:  98.99 || Ex/s: 615.04\n",
            "\n",
            "===>  EVAL Epoch 3\n"
          ]
        },
        {
          "output_type": "stream",
          "name": "stderr",
          "text": [
            "0% [██████████████████████████████] 100% | ETA: 00:00:00\n",
            "Total time elapsed: 00:00:10\n"
          ]
        },
        {
          "output_type": "stream",
          "name": "stdout",
          "text": [
            "Finished Epoch 3 || Run Time:    5.4 | Load Time:    5.4 || F1:  96.55 | Prec:  94.38 | Rec:  98.83 || Ex/s: 1004.88\n",
            "\n",
            "* Best F1: tensor(96.5517, device='cuda:0')\n",
            "Saving best model...\n",
            "Done.\n",
            "---------------------\n",
            "\n",
            "===>  TRAIN Epoch 4\n"
          ]
        },
        {
          "output_type": "stream",
          "name": "stderr",
          "text": [
            "0% [██████████████████████████████] 100% | ETA: 00:00:00\n",
            "Total time elapsed: 00:00:53\n"
          ]
        },
        {
          "output_type": "stream",
          "name": "stdout",
          "text": [
            "Finished Epoch 4 || Run Time:   36.7 | Load Time:   16.5 || F1:  98.19 | Prec:  97.10 | Rec:  99.31 || Ex/s: 613.68\n",
            "\n",
            "===>  EVAL Epoch 4\n"
          ]
        },
        {
          "output_type": "stream",
          "name": "stderr",
          "text": [
            "0% [██████████████████████████████] 100% | ETA: 00:00:00\n",
            "Total time elapsed: 00:00:10\n"
          ]
        },
        {
          "output_type": "stream",
          "name": "stdout",
          "text": [
            "Finished Epoch 4 || Run Time:    5.4 | Load Time:    5.4 || F1:  97.27 | Prec:  96.27 | Rec:  98.29 || Ex/s: 1007.28\n",
            "\n",
            "* Best F1: tensor(97.2655, device='cuda:0')\n",
            "Saving best model...\n",
            "Done.\n",
            "---------------------\n",
            "\n",
            "===>  TRAIN Epoch 5\n"
          ]
        },
        {
          "output_type": "stream",
          "name": "stderr",
          "text": [
            "0% [██████████████████████████████] 100% | ETA: 00:00:00\n",
            "Total time elapsed: 00:00:52\n"
          ]
        },
        {
          "output_type": "stream",
          "name": "stdout",
          "text": [
            "Finished Epoch 5 || Run Time:   36.6 | Load Time:   16.5 || F1:  98.72 | Prec:  97.92 | Rec:  99.53 || Ex/s: 615.19\n",
            "\n",
            "===>  EVAL Epoch 5\n"
          ]
        },
        {
          "output_type": "stream",
          "name": "stderr",
          "text": [
            "0% [██████████████████████████████] 100% | ETA: 00:00:00\n",
            "Total time elapsed: 00:00:10\n"
          ]
        },
        {
          "output_type": "stream",
          "name": "stdout",
          "text": [
            "Finished Epoch 5 || Run Time:    5.4 | Load Time:    5.4 || F1:  96.95 | Prec:  94.99 | Rec:  98.99 || Ex/s: 1007.64\n",
            "\n",
            "---------------------\n",
            "\n",
            "===>  TRAIN Epoch 6\n"
          ]
        },
        {
          "output_type": "stream",
          "name": "stderr",
          "text": [
            "0% [██████████████████████████████] 100% | ETA: 00:00:00\n",
            "Total time elapsed: 00:00:52\n"
          ]
        },
        {
          "output_type": "stream",
          "name": "stdout",
          "text": [
            "Finished Epoch 6 || Run Time:   36.4 | Load Time:   16.4 || F1:  99.09 | Prec:  98.54 | Rec:  99.65 || Ex/s: 618.19\n",
            "\n",
            "===>  EVAL Epoch 6\n"
          ]
        },
        {
          "output_type": "stream",
          "name": "stderr",
          "text": [
            "0% [██████████████████████████████] 100% | ETA: 00:00:00\n",
            "Total time elapsed: 00:00:11\n"
          ]
        },
        {
          "output_type": "stream",
          "name": "stdout",
          "text": [
            "Finished Epoch 6 || Run Time:    5.6 | Load Time:    5.5 || F1:  97.77 | Prec:  96.82 | Rec:  98.75 || Ex/s: 979.95\n",
            "\n",
            "* Best F1: tensor(97.7733, device='cuda:0')\n",
            "Saving best model...\n",
            "Done.\n",
            "---------------------\n",
            "\n",
            "===>  TRAIN Epoch 7\n"
          ]
        },
        {
          "output_type": "stream",
          "name": "stderr",
          "text": [
            "0% [██████████████████████████████] 100% | ETA: 00:00:00\n",
            "Total time elapsed: 00:00:52\n"
          ]
        },
        {
          "output_type": "stream",
          "name": "stdout",
          "text": [
            "Finished Epoch 7 || Run Time:   36.2 | Load Time:   16.4 || F1:  99.34 | Prec:  98.92 | Rec:  99.77 || Ex/s: 620.17\n",
            "\n",
            "===>  EVAL Epoch 7\n"
          ]
        },
        {
          "output_type": "stream",
          "name": "stderr",
          "text": [
            "0% [██████████████████████████████] 100% | ETA: 00:00:00\n",
            "Total time elapsed: 00:00:11\n"
          ]
        },
        {
          "output_type": "stream",
          "name": "stdout",
          "text": [
            "Finished Epoch 7 || Run Time:    5.6 | Load Time:    5.5 || F1:  98.21 | Prec:  97.55 | Rec:  98.87 || Ex/s: 978.99\n",
            "\n",
            "* Best F1: tensor(98.2069, device='cuda:0')\n",
            "Saving best model...\n",
            "Done.\n",
            "---------------------\n",
            "\n",
            "===>  TRAIN Epoch 8\n"
          ]
        },
        {
          "output_type": "stream",
          "name": "stderr",
          "text": [
            "0% [██████████████████████████████] 100% | ETA: 00:00:00\n",
            "Total time elapsed: 00:00:52\n"
          ]
        },
        {
          "output_type": "stream",
          "name": "stdout",
          "text": [
            "Finished Epoch 8 || Run Time:   36.5 | Load Time:   16.4 || F1:  99.53 | Prec:  99.26 | Rec:  99.81 || Ex/s: 617.05\n",
            "\n",
            "===>  EVAL Epoch 8\n"
          ]
        },
        {
          "output_type": "stream",
          "name": "stderr",
          "text": [
            "0% [██████████████████████████████] 100% | ETA: 00:00:00\n",
            "Total time elapsed: 00:00:10\n"
          ]
        },
        {
          "output_type": "stream",
          "name": "stdout",
          "text": [
            "Finished Epoch 8 || Run Time:    5.5 | Load Time:    5.4 || F1:  98.32 | Prec:  97.75 | Rec:  98.89 || Ex/s: 998.74\n",
            "\n",
            "* Best F1: tensor(98.3156, device='cuda:0')\n",
            "Saving best model...\n",
            "Done.\n",
            "---------------------\n",
            "\n",
            "===>  TRAIN Epoch 9\n"
          ]
        },
        {
          "output_type": "stream",
          "name": "stderr",
          "text": [
            "0% [██████████████████████████████] 100% | ETA: 00:00:00\n",
            "Total time elapsed: 00:00:52\n"
          ]
        },
        {
          "output_type": "stream",
          "name": "stdout",
          "text": [
            "Finished Epoch 9 || Run Time:   36.4 | Load Time:   16.4 || F1:  99.60 | Prec:  99.36 | Rec:  99.85 || Ex/s: 617.71\n",
            "\n",
            "===>  EVAL Epoch 9\n"
          ]
        },
        {
          "output_type": "stream",
          "name": "stderr",
          "text": [
            "0% [██████████████████████████████] 100% | ETA: 00:00:00\n",
            "Total time elapsed: 00:00:10\n"
          ]
        },
        {
          "output_type": "stream",
          "name": "stdout",
          "text": [
            "Finished Epoch 9 || Run Time:    5.3 | Load Time:    5.4 || F1:  98.46 | Prec:  97.98 | Rec:  98.95 || Ex/s: 1014.75\n",
            "\n",
            "* Best F1: tensor(98.4646, device='cuda:0')\n",
            "Saving best model...\n",
            "Done.\n",
            "---------------------\n",
            "\n",
            "===>  TRAIN Epoch 10\n"
          ]
        },
        {
          "output_type": "stream",
          "name": "stderr",
          "text": [
            "0% [██████████████████████████████] 100% | ETA: 00:00:00\n",
            "Total time elapsed: 00:00:52\n"
          ]
        },
        {
          "output_type": "stream",
          "name": "stdout",
          "text": [
            "Finished Epoch 10 || Run Time:   36.4 | Load Time:   16.4 || F1:  99.72 | Prec:  99.54 | Rec:  99.90 || Ex/s: 618.09\n",
            "\n",
            "===>  EVAL Epoch 10\n"
          ]
        },
        {
          "output_type": "stream",
          "name": "stderr",
          "text": [
            "0% [██████████████████████████████] 100% | ETA: 00:00:00\n",
            "Total time elapsed: 00:00:10\n"
          ]
        },
        {
          "output_type": "stream",
          "name": "stdout",
          "text": [
            "Finished Epoch 10 || Run Time:    5.4 | Load Time:    5.4 || F1:  98.55 | Prec:  98.22 | Rec:  98.89 || Ex/s: 1009.71\n",
            "\n",
            "* Best F1: tensor(98.5528, device='cuda:0')\n",
            "Saving best model...\n",
            "Done.\n",
            "---------------------\n",
            "\n",
            "Loading best model...\n",
            "Training done.\n"
          ]
        },
        {
          "output_type": "execute_result",
          "data": {
            "text/plain": [
              "tensor(98.5528, device='cuda:0')"
            ]
          },
          "metadata": {},
          "execution_count": 26
        }
      ],
      "source": [
        "model3.run_train(\n",
        "    train,\n",
        "    validation,\n",
        "    epochs=10,\n",
        "    batch_size=16,\n",
        "    best_save_path='rnn_model3.pth',\n",
        "    pos_neg_ratio=3)"
      ]
    },
    {
      "cell_type": "code",
      "execution_count": null,
      "metadata": {
        "colab": {
          "base_uri": "https://localhost:8080/"
        },
        "id": "_Dv0wRsPBD89",
        "outputId": "4ac076ed-121c-4ecf-81c0-6a6ab3102b9d"
      },
      "outputs": [
        {
          "output_type": "stream",
          "name": "stdout",
          "text": [
            "===>  EVAL Epoch 10\n"
          ]
        },
        {
          "output_type": "stream",
          "name": "stderr",
          "text": [
            "0% [██████████████████████████████] 100% | ETA: 00:00:00\n",
            "Total time elapsed: 00:00:08\n"
          ]
        },
        {
          "output_type": "stream",
          "name": "stdout",
          "text": [
            "Finished Epoch 10 || Run Time:    2.8 | Load Time:    5.3 || F1:  98.68 | Prec:  98.43 | Rec:  98.94 || Ex/s: 1343.29\n",
            "\n"
          ]
        },
        {
          "output_type": "execute_result",
          "data": {
            "text/plain": [
              "tensor(98.6839, device='cuda:0')"
            ]
          },
          "metadata": {},
          "execution_count": 27
        }
      ],
      "source": [
        "model3.run_eval(test)"
      ]
    },
    {
      "cell_type": "markdown",
      "metadata": {
        "id": "w-s9Zww7BN2F"
      },
      "source": [
        "CV4"
      ]
    },
    {
      "cell_type": "code",
      "execution_count": null,
      "metadata": {
        "id": "deg8IHD-BXJh"
      },
      "outputs": [],
      "source": [
        "df4 = pd.read_csv('/content/BPOM_Tokped_Shuffled_4.csv')"
      ]
    },
    {
      "cell_type": "code",
      "execution_count": null,
      "metadata": {
        "id": "_h0RluxeBhi6"
      },
      "outputs": [],
      "source": [
        "dm.data.split(df4, split_path, 'train4.csv', 'valid4.csv', 'test4.csv',\n",
        "              [3, 1, 1])"
      ]
    },
    {
      "cell_type": "code",
      "execution_count": null,
      "metadata": {
        "colab": {
          "base_uri": "https://localhost:8080/"
        },
        "id": "Jqxwqb1nBlbw",
        "outputId": "2c06e702-86cf-4c62-b7ca-47c0df0cf4bd"
      },
      "outputs": [
        {
          "output_type": "stream",
          "name": "stderr",
          "text": [
            "\n",
            "Reading and processing data from \"/content/sample_data/train4.csv\"\n",
            "0% [##############################] 100% | ETA: 00:00:00\n",
            "Reading and processing data from \"/content/sample_data/valid4.csv\"\n",
            "0% [############################# ] 100% | ETA: 00:00:00\n",
            "Reading and processing data from \"/content/sample_data/test4.csv\"\n",
            "0% [############################# ] 100% | ETA: 00:00:00\n",
            "Building vocabulary\n",
            "0% [##############################] 100% | ETA: 00:00:00\n",
            "Total time elapsed: 00:00:00\n",
            "\n",
            "Computing principal components\n",
            "0% [##############################] 100% | ETA: 00:00:00\n",
            "Total time elapsed: 00:00:03\n"
          ]
        }
      ],
      "source": [
        "train, validation, test = dm.data.process(\n",
        "    path=split_path,\n",
        "    cache='train_cache4.pth',\n",
        "    train='train4.csv',\n",
        "    validation='valid4.csv',\n",
        "    test='test4.csv',\n",
        "    use_magellan_convention=True,\n",
        "    ignore_columns=('ltable_Unnamed: 0', 'rtable_Unnamed: 0'))"
      ]
    },
    {
      "cell_type": "code",
      "execution_count": null,
      "metadata": {
        "id": "-YidWF5dB3O_"
      },
      "outputs": [],
      "source": [
        "model4 = dm.MatchingModel(attr_summarizer='rnn')"
      ]
    },
    {
      "cell_type": "code",
      "execution_count": null,
      "metadata": {
        "colab": {
          "base_uri": "https://localhost:8080/"
        },
        "id": "SvdCsTirB9rv",
        "outputId": "c3212344-65bb-46f8-c0fc-78186f948993"
      },
      "outputs": [
        {
          "output_type": "stream",
          "name": "stdout",
          "text": [
            "* Number of trainable parameters: 1356002\n",
            "===>  TRAIN Epoch 1\n"
          ]
        },
        {
          "output_type": "stream",
          "name": "stderr",
          "text": [
            "/usr/local/lib/python3.9/dist-packages/torch/nn/modules/module.py:770: UserWarning: Using non-full backward hooks on a Module that does not take as input a single Tensor or a tuple of Tensors is deprecated and will be removed in future versions. This hook will be missing some of the grad_input. Please use register_full_backward_hook to get the documented behavior.\n",
            "  warnings.warn(\"Using non-full backward hooks on a Module that does not take as input a \"\n",
            "/usr/local/lib/python3.9/dist-packages/torch/nn/modules/module.py:795: UserWarning: Using a non-full backward hook when the forward contains multiple autograd Nodes is deprecated and will be removed in future versions. This hook will be missing some grad_input. Please use register_full_backward_hook to get the documented behavior.\n",
            "  warnings.warn(\"Using a non-full backward hook when the forward contains multiple autograd Nodes \"\n",
            "/usr/local/lib/python3.9/dist-packages/torch/nn/modules/module.py:760: UserWarning: Using non-full backward hooks on a Module that does not return a single Tensor or a tuple of Tensors is deprecated and will be removed in future versions. This hook will be missing some of the grad_output. Please use register_full_backward_hook to get the documented behavior.\n",
            "  warnings.warn(\"Using non-full backward hooks on a Module that does not return a \"\n",
            "/usr/local/lib/python3.9/dist-packages/torch/nn/functional.py:2607: UserWarning: reduction: 'mean' divides the total loss by both the batch size and the support size.'batchmean' divides only by the batch size, and aligns with the KL div math definition.'mean' will be changed to behave the same as 'batchmean' in the next major release.\n",
            "  warnings.warn(\n",
            "0% [██████████████████████████████] 100% | ETA: 00:00:00\n",
            "Total time elapsed: 00:00:53\n"
          ]
        },
        {
          "output_type": "stream",
          "name": "stdout",
          "text": [
            "Finished Epoch 1 || Run Time:   36.8 | Load Time:   16.5 || F1:  89.99 | Prec:  84.14 | Rec:  96.73 || Ex/s: 612.55\n",
            "\n",
            "===>  EVAL Epoch 1\n"
          ]
        },
        {
          "output_type": "stream",
          "name": "stderr",
          "text": [
            "0% [██████████████████████████████] 100% | ETA: 00:00:00\n",
            "Total time elapsed: 00:00:10\n"
          ]
        },
        {
          "output_type": "stream",
          "name": "stdout",
          "text": [
            "Finished Epoch 1 || Run Time:    5.4 | Load Time:    5.4 || F1:  92.53 | Prec:  86.65 | Rec:  99.26 || Ex/s: 1013.60\n",
            "\n",
            "* Best F1: tensor(92.5304, device='cuda:0')\n",
            "Saving best model...\n",
            "Done.\n",
            "---------------------\n",
            "\n",
            "===>  TRAIN Epoch 2\n"
          ]
        },
        {
          "output_type": "stream",
          "name": "stderr",
          "text": [
            "0% [██████████████████████████████] 100% | ETA: 00:00:00\n",
            "Total time elapsed: 00:00:52\n"
          ]
        },
        {
          "output_type": "stream",
          "name": "stdout",
          "text": [
            "Finished Epoch 2 || Run Time:   36.6 | Load Time:   16.4 || F1:  95.68 | Prec:  93.25 | Rec:  98.24 || Ex/s: 615.04\n",
            "\n",
            "===>  EVAL Epoch 2\n"
          ]
        },
        {
          "output_type": "stream",
          "name": "stderr",
          "text": [
            "0% [██████████████████████████████] 100% | ETA: 00:00:00\n",
            "Total time elapsed: 00:00:10\n"
          ]
        },
        {
          "output_type": "stream",
          "name": "stdout",
          "text": [
            "Finished Epoch 2 || Run Time:    5.3 | Load Time:    5.3 || F1:  95.20 | Prec:  91.55 | Rec:  99.16 || Ex/s: 1021.66\n",
            "\n",
            "* Best F1: tensor(95.2026, device='cuda:0')\n",
            "Saving best model...\n",
            "Done.\n",
            "---------------------\n",
            "\n",
            "===>  TRAIN Epoch 3\n"
          ]
        },
        {
          "output_type": "stream",
          "name": "stderr",
          "text": [
            "0% [██████████████████████████████] 100% | ETA: 00:00:00\n",
            "Total time elapsed: 00:00:52\n"
          ]
        },
        {
          "output_type": "stream",
          "name": "stdout",
          "text": [
            "Finished Epoch 3 || Run Time:   36.6 | Load Time:   16.4 || F1:  97.11 | Prec:  95.39 | Rec:  98.89 || Ex/s: 615.79\n",
            "\n",
            "===>  EVAL Epoch 3\n"
          ]
        },
        {
          "output_type": "stream",
          "name": "stderr",
          "text": [
            "0% [██████████████████████████████] 100% | ETA: 00:00:00\n",
            "Total time elapsed: 00:00:11\n"
          ]
        },
        {
          "output_type": "stream",
          "name": "stdout",
          "text": [
            "Finished Epoch 3 || Run Time:    5.6 | Load Time:    5.5 || F1:  96.32 | Prec:  93.74 | Rec:  99.04 || Ex/s: 982.43\n",
            "\n",
            "* Best F1: tensor(96.3214, device='cuda:0')\n",
            "Saving best model...\n",
            "Done.\n",
            "---------------------\n",
            "\n",
            "===>  TRAIN Epoch 4\n"
          ]
        },
        {
          "output_type": "stream",
          "name": "stderr",
          "text": [
            "0% [██████████████████████████████] 100% | ETA: 00:00:00\n",
            "Total time elapsed: 00:00:52\n"
          ]
        },
        {
          "output_type": "stream",
          "name": "stdout",
          "text": [
            "Finished Epoch 4 || Run Time:   36.2 | Load Time:   16.4 || F1:  98.02 | Prec:  96.85 | Rec:  99.21 || Ex/s: 620.20\n",
            "\n",
            "===>  EVAL Epoch 4\n"
          ]
        },
        {
          "output_type": "stream",
          "name": "stderr",
          "text": [
            "0% [██████████████████████████████] 100% | ETA: 00:00:00\n",
            "Total time elapsed: 00:00:11\n"
          ]
        },
        {
          "output_type": "stream",
          "name": "stdout",
          "text": [
            "Finished Epoch 4 || Run Time:    5.6 | Load Time:    5.5 || F1:  97.70 | Prec:  96.49 | Rec:  98.94 || Ex/s: 974.46\n",
            "\n",
            "* Best F1: tensor(97.7000, device='cuda:0')\n",
            "Saving best model...\n",
            "Done.\n",
            "---------------------\n",
            "\n",
            "===>  TRAIN Epoch 5\n"
          ]
        },
        {
          "output_type": "stream",
          "name": "stderr",
          "text": [
            "0% [██████████████████████████████] 100% | ETA: 00:00:00\n",
            "Total time elapsed: 00:00:52\n"
          ]
        },
        {
          "output_type": "stream",
          "name": "stdout",
          "text": [
            "Finished Epoch 5 || Run Time:   36.4 | Load Time:   16.4 || F1:  98.66 | Prec:  97.86 | Rec:  99.48 || Ex/s: 617.63\n",
            "\n",
            "===>  EVAL Epoch 5\n"
          ]
        },
        {
          "output_type": "stream",
          "name": "stderr",
          "text": [
            "0% [██████████████████████████████] 100% | ETA: 00:00:00\n",
            "Total time elapsed: 00:00:10\n"
          ]
        },
        {
          "output_type": "stream",
          "name": "stdout",
          "text": [
            "Finished Epoch 5 || Run Time:    5.5 | Load Time:    5.4 || F1:  98.04 | Prec:  96.83 | Rec:  99.28 || Ex/s: 994.81\n",
            "\n",
            "* Best F1: tensor(98.0438, device='cuda:0')\n",
            "Saving best model...\n",
            "Done.\n",
            "---------------------\n",
            "\n",
            "===>  TRAIN Epoch 6\n"
          ]
        },
        {
          "output_type": "stream",
          "name": "stderr",
          "text": [
            "0% [██████████████████████████████] 100% | ETA: 00:00:00\n",
            "Total time elapsed: 00:00:53\n"
          ]
        },
        {
          "output_type": "stream",
          "name": "stdout",
          "text": [
            "Finished Epoch 6 || Run Time:   36.8 | Load Time:   16.5 || F1:  99.03 | Prec:  98.48 | Rec:  99.59 || Ex/s: 612.31\n",
            "\n",
            "===>  EVAL Epoch 6\n"
          ]
        },
        {
          "output_type": "stream",
          "name": "stderr",
          "text": [
            "0% [██████████████████████████████] 100% | ETA: 00:00:00\n",
            "Total time elapsed: 00:00:10\n"
          ]
        },
        {
          "output_type": "stream",
          "name": "stdout",
          "text": [
            "Finished Epoch 6 || Run Time:    5.5 | Load Time:    5.4 || F1:  98.08 | Prec:  96.96 | Rec:  99.22 || Ex/s: 998.33\n",
            "\n",
            "* Best F1: tensor(98.0813, device='cuda:0')\n",
            "Saving best model...\n",
            "Done.\n",
            "---------------------\n",
            "\n",
            "===>  TRAIN Epoch 7\n"
          ]
        },
        {
          "output_type": "stream",
          "name": "stderr",
          "text": [
            "0% [██████████████████████████████] 100% | ETA: 00:00:00\n",
            "Total time elapsed: 00:00:53\n"
          ]
        },
        {
          "output_type": "stream",
          "name": "stdout",
          "text": [
            "Finished Epoch 7 || Run Time:   36.8 | Load Time:   16.4 || F1:  99.26 | Prec:  98.82 | Rec:  99.71 || Ex/s: 612.93\n",
            "\n",
            "===>  EVAL Epoch 7\n"
          ]
        },
        {
          "output_type": "stream",
          "name": "stderr",
          "text": [
            "0% [██████████████████████████████] 100% | ETA: 00:00:00\n",
            "Total time elapsed: 00:00:10\n"
          ]
        },
        {
          "output_type": "stream",
          "name": "stdout",
          "text": [
            "Finished Epoch 7 || Run Time:    5.3 | Load Time:    5.4 || F1:  98.25 | Prec:  97.34 | Rec:  99.18 || Ex/s: 1017.19\n",
            "\n",
            "* Best F1: tensor(98.2546, device='cuda:0')\n",
            "Saving best model...\n",
            "Done.\n",
            "---------------------\n",
            "\n",
            "===>  TRAIN Epoch 8\n"
          ]
        },
        {
          "output_type": "stream",
          "name": "stderr",
          "text": [
            "0% [██████████████████████████████] 100% | ETA: 00:00:00\n",
            "Total time elapsed: 00:00:53\n"
          ]
        },
        {
          "output_type": "stream",
          "name": "stdout",
          "text": [
            "Finished Epoch 8 || Run Time:   36.8 | Load Time:   16.5 || F1:  99.49 | Prec:  99.18 | Rec:  99.81 || Ex/s: 612.11\n",
            "\n",
            "===>  EVAL Epoch 8\n"
          ]
        },
        {
          "output_type": "stream",
          "name": "stderr",
          "text": [
            "0% [██████████████████████████████] 100% | ETA: 00:00:00\n",
            "Total time elapsed: 00:00:10\n"
          ]
        },
        {
          "output_type": "stream",
          "name": "stdout",
          "text": [
            "Finished Epoch 8 || Run Time:    5.4 | Load Time:    5.4 || F1:  98.52 | Prec:  98.01 | Rec:  99.04 || Ex/s: 998.88\n",
            "\n",
            "* Best F1: tensor(98.5246, device='cuda:0')\n",
            "Saving best model...\n",
            "Done.\n",
            "---------------------\n",
            "\n",
            "===>  TRAIN Epoch 9\n"
          ]
        },
        {
          "output_type": "stream",
          "name": "stderr",
          "text": [
            "0% [██████████████████████████████] 100% | ETA: 00:00:00\n",
            "Total time elapsed: 00:00:53\n"
          ]
        },
        {
          "output_type": "stream",
          "name": "stdout",
          "text": [
            "Finished Epoch 9 || Run Time:   37.1 | Load Time:   16.6 || F1:  99.64 | Prec:  99.42 | Rec:  99.87 || Ex/s: 607.49\n",
            "\n",
            "===>  EVAL Epoch 9\n"
          ]
        },
        {
          "output_type": "stream",
          "name": "stderr",
          "text": [
            "0% [██████████████████████████████] 100% | ETA: 00:00:00\n",
            "Total time elapsed: 00:00:10\n"
          ]
        },
        {
          "output_type": "stream",
          "name": "stdout",
          "text": [
            "Finished Epoch 9 || Run Time:    5.4 | Load Time:    5.4 || F1:  98.74 | Prec:  98.55 | Rec:  98.92 || Ex/s: 1003.62\n",
            "\n",
            "* Best F1: tensor(98.7382, device='cuda:0')\n",
            "Saving best model...\n",
            "Done.\n",
            "---------------------\n",
            "\n",
            "===>  TRAIN Epoch 10\n"
          ]
        },
        {
          "output_type": "stream",
          "name": "stderr",
          "text": [
            "0% [██████████████████████████████] 100% | ETA: 00:00:00\n",
            "Total time elapsed: 00:00:53\n"
          ]
        },
        {
          "output_type": "stream",
          "name": "stdout",
          "text": [
            "Finished Epoch 10 || Run Time:   36.8 | Load Time:   16.5 || F1:  99.71 | Prec:  99.53 | Rec:  99.89 || Ex/s: 612.28\n",
            "\n",
            "===>  EVAL Epoch 10\n"
          ]
        },
        {
          "output_type": "stream",
          "name": "stderr",
          "text": [
            "0% [██████████████████████████████] 100% | ETA: 00:00:00\n",
            "Total time elapsed: 00:00:10\n"
          ]
        },
        {
          "output_type": "stream",
          "name": "stdout",
          "text": [
            "Finished Epoch 10 || Run Time:    5.5 | Load Time:    5.4 || F1:  98.68 | Prec:  98.24 | Rec:  99.12 || Ex/s: 996.09\n",
            "\n",
            "---------------------\n",
            "\n",
            "Loading best model...\n",
            "Training done.\n"
          ]
        },
        {
          "output_type": "execute_result",
          "data": {
            "text/plain": [
              "tensor(98.7382, device='cuda:0')"
            ]
          },
          "metadata": {},
          "execution_count": 32
        }
      ],
      "source": [
        "model4.run_train(\n",
        "    train,\n",
        "    validation,\n",
        "    epochs=10,\n",
        "    batch_size=16,\n",
        "    best_save_path='rnn_model4.pth',\n",
        "    pos_neg_ratio=3)"
      ]
    },
    {
      "cell_type": "code",
      "execution_count": null,
      "metadata": {
        "colab": {
          "base_uri": "https://localhost:8080/"
        },
        "id": "Y3xFdPngCAEd",
        "outputId": "1ced1c5b-9af7-4cb6-e849-9fc8295b9c74"
      },
      "outputs": [
        {
          "output_type": "stream",
          "name": "stdout",
          "text": [
            "===>  EVAL Epoch 9\n"
          ]
        },
        {
          "output_type": "stream",
          "name": "stderr",
          "text": [
            "0% [██████████████████████████████] 100% | ETA: 00:00:00\n",
            "Total time elapsed: 00:00:08\n"
          ]
        },
        {
          "output_type": "stream",
          "name": "stdout",
          "text": [
            "Finished Epoch 9 || Run Time:    2.9 | Load Time:    5.4 || F1:  98.60 | Prec:  98.33 | Rec:  98.87 || Ex/s: 1307.50\n",
            "\n"
          ]
        },
        {
          "output_type": "execute_result",
          "data": {
            "text/plain": [
              "tensor(98.5975, device='cuda:0')"
            ]
          },
          "metadata": {},
          "execution_count": 33
        }
      ],
      "source": [
        "model4.run_eval(test)"
      ]
    },
    {
      "cell_type": "markdown",
      "metadata": {
        "id": "Mfqi1DVbCK7z"
      },
      "source": [
        "CV5"
      ]
    },
    {
      "cell_type": "code",
      "execution_count": null,
      "metadata": {
        "id": "6u68LICmCUCo"
      },
      "outputs": [],
      "source": [
        "df5 = pd.read_csv('/content/BPOM_Tokped_Shuffled_5.csv')"
      ]
    },
    {
      "cell_type": "code",
      "execution_count": null,
      "metadata": {
        "id": "G7LR_-9MCVnJ"
      },
      "outputs": [],
      "source": [
        "dm.data.split(df5, split_path, 'train5.csv', 'valid5.csv', 'test5.csv',\n",
        "              [3, 1, 1])"
      ]
    },
    {
      "cell_type": "code",
      "execution_count": null,
      "metadata": {
        "colab": {
          "base_uri": "https://localhost:8080/"
        },
        "id": "5hDQNKbxCVTN",
        "outputId": "378e40a9-cf54-41ea-86c7-fe08837d8847"
      },
      "outputs": [
        {
          "output_type": "stream",
          "name": "stderr",
          "text": [
            "\n",
            "Reading and processing data from \"/content/sample_data/train5.csv\"\n",
            "0% [##############################] 100% | ETA: 00:00:00\n",
            "Reading and processing data from \"/content/sample_data/valid5.csv\"\n",
            "0% [############################# ] 100% | ETA: 00:00:00\n",
            "Reading and processing data from \"/content/sample_data/test5.csv\"\n",
            "0% [############################# ] 100% | ETA: 00:00:00\n",
            "Building vocabulary\n",
            "0% [##############################] 100% | ETA: 00:00:00\n",
            "Total time elapsed: 00:00:00\n",
            "\n",
            "Computing principal components\n",
            "0% [##############################] 100% | ETA: 00:00:00\n",
            "Total time elapsed: 00:00:04\n"
          ]
        }
      ],
      "source": [
        "train, validation, test = dm.data.process(\n",
        "    path=split_path,\n",
        "    cache='train_cache5.pth',\n",
        "    train='train5.csv',\n",
        "    validation='valid5.csv',\n",
        "    test='test5.csv',\n",
        "    use_magellan_convention=True,\n",
        "    ignore_columns=('ltable_Unnamed: 0', 'rtable_Unnamed: 0'))"
      ]
    },
    {
      "cell_type": "code",
      "execution_count": null,
      "metadata": {
        "id": "GVsjTEDbCTyI"
      },
      "outputs": [],
      "source": [
        "model5 = dm.MatchingModel(attr_summarizer='rnn')"
      ]
    },
    {
      "cell_type": "code",
      "execution_count": null,
      "metadata": {
        "colab": {
          "base_uri": "https://localhost:8080/"
        },
        "id": "trumKj03CTcl",
        "outputId": "1c56d966-411f-4c43-aa4f-64c9d23a2e51"
      },
      "outputs": [
        {
          "output_type": "stream",
          "name": "stdout",
          "text": [
            "* Number of trainable parameters: 1356002\n",
            "===>  TRAIN Epoch 1\n"
          ]
        },
        {
          "output_type": "stream",
          "name": "stderr",
          "text": [
            "/usr/local/lib/python3.9/dist-packages/torch/nn/modules/module.py:770: UserWarning: Using non-full backward hooks on a Module that does not take as input a single Tensor or a tuple of Tensors is deprecated and will be removed in future versions. This hook will be missing some of the grad_input. Please use register_full_backward_hook to get the documented behavior.\n",
            "  warnings.warn(\"Using non-full backward hooks on a Module that does not take as input a \"\n",
            "/usr/local/lib/python3.9/dist-packages/torch/nn/modules/module.py:795: UserWarning: Using a non-full backward hook when the forward contains multiple autograd Nodes is deprecated and will be removed in future versions. This hook will be missing some grad_input. Please use register_full_backward_hook to get the documented behavior.\n",
            "  warnings.warn(\"Using a non-full backward hook when the forward contains multiple autograd Nodes \"\n",
            "/usr/local/lib/python3.9/dist-packages/torch/nn/modules/module.py:760: UserWarning: Using non-full backward hooks on a Module that does not return a single Tensor or a tuple of Tensors is deprecated and will be removed in future versions. This hook will be missing some of the grad_output. Please use register_full_backward_hook to get the documented behavior.\n",
            "  warnings.warn(\"Using non-full backward hooks on a Module that does not return a \"\n",
            "/usr/local/lib/python3.9/dist-packages/torch/nn/functional.py:2607: UserWarning: reduction: 'mean' divides the total loss by both the batch size and the support size.'batchmean' divides only by the batch size, and aligns with the KL div math definition.'mean' will be changed to behave the same as 'batchmean' in the next major release.\n",
            "  warnings.warn(\n",
            "0% [██████████████████████████████] 100% | ETA: 00:00:00\n",
            "Total time elapsed: 00:00:53\n"
          ]
        },
        {
          "output_type": "stream",
          "name": "stdout",
          "text": [
            "Finished Epoch 1 || Run Time:   37.0 | Load Time:   16.5 || F1:  90.30 | Prec:  84.38 | Rec:  97.12 || Ex/s: 609.29\n",
            "\n",
            "===>  EVAL Epoch 1\n"
          ]
        },
        {
          "output_type": "stream",
          "name": "stderr",
          "text": [
            "0% [██████████████████████████████] 100% | ETA: 00:00:00\n",
            "Total time elapsed: 00:00:11\n"
          ]
        },
        {
          "output_type": "stream",
          "name": "stdout",
          "text": [
            "Finished Epoch 1 || Run Time:    5.6 | Load Time:    5.5 || F1:  95.34 | Prec:  93.63 | Rec:  97.12 || Ex/s: 983.58\n",
            "\n",
            "* Best F1: tensor(95.3442, device='cuda:0')\n",
            "Saving best model...\n",
            "Done.\n",
            "---------------------\n",
            "\n",
            "===>  TRAIN Epoch 2\n"
          ]
        },
        {
          "output_type": "stream",
          "name": "stderr",
          "text": [
            "0% [██████████████████████████████] 100% | ETA: 00:00:00\n",
            "Total time elapsed: 00:00:53\n"
          ]
        },
        {
          "output_type": "stream",
          "name": "stdout",
          "text": [
            "Finished Epoch 2 || Run Time:   37.2 | Load Time:   16.5 || F1:  95.99 | Prec:  93.69 | Rec:  98.41 || Ex/s: 607.19\n",
            "\n",
            "===>  EVAL Epoch 2\n"
          ]
        },
        {
          "output_type": "stream",
          "name": "stderr",
          "text": [
            "0% [██████████████████████████████] 100% | ETA: 00:00:00\n",
            "Total time elapsed: 00:00:10\n"
          ]
        },
        {
          "output_type": "stream",
          "name": "stdout",
          "text": [
            "Finished Epoch 2 || Run Time:    5.5 | Load Time:    5.5 || F1:  96.39 | Prec:  94.91 | Rec:  97.91 || Ex/s: 995.09\n",
            "\n",
            "* Best F1: tensor(96.3887, device='cuda:0')\n",
            "Saving best model...\n",
            "Done.\n",
            "---------------------\n",
            "\n",
            "===>  TRAIN Epoch 3\n"
          ]
        },
        {
          "output_type": "stream",
          "name": "stderr",
          "text": [
            "0% [██████████████████████████████] 100% | ETA: 00:00:00\n",
            "Total time elapsed: 00:00:53\n"
          ]
        },
        {
          "output_type": "stream",
          "name": "stdout",
          "text": [
            "Finished Epoch 3 || Run Time:   37.2 | Load Time:   16.5 || F1:  97.24 | Prec:  95.57 | Rec:  98.98 || Ex/s: 607.50\n",
            "\n",
            "===>  EVAL Epoch 3\n"
          ]
        },
        {
          "output_type": "stream",
          "name": "stderr",
          "text": [
            "0% [██████████████████████████████] 100% | ETA: 00:00:00\n",
            "Total time elapsed: 00:00:10\n"
          ]
        },
        {
          "output_type": "stream",
          "name": "stdout",
          "text": [
            "Finished Epoch 3 || Run Time:    5.5 | Load Time:    5.5 || F1:  97.20 | Prec:  96.28 | Rec:  98.14 || Ex/s: 995.97\n",
            "\n",
            "* Best F1: tensor(97.1996, device='cuda:0')\n",
            "Saving best model...\n",
            "Done.\n",
            "---------------------\n",
            "\n",
            "===>  TRAIN Epoch 4\n"
          ]
        },
        {
          "output_type": "stream",
          "name": "stderr",
          "text": [
            "0% [██████████████████████████████] 100% | ETA: 00:00:00\n",
            "Total time elapsed: 00:00:53\n"
          ]
        },
        {
          "output_type": "stream",
          "name": "stdout",
          "text": [
            "Finished Epoch 4 || Run Time:   37.4 | Load Time:   16.6 || F1:  98.05 | Prec:  96.92 | Rec:  99.20 || Ex/s: 604.70\n",
            "\n",
            "===>  EVAL Epoch 4\n"
          ]
        },
        {
          "output_type": "stream",
          "name": "stderr",
          "text": [
            "0% [██████████████████████████████] 100% | ETA: 00:00:00\n",
            "Total time elapsed: 00:00:10\n"
          ]
        },
        {
          "output_type": "stream",
          "name": "stdout",
          "text": [
            "Finished Epoch 4 || Run Time:    5.4 | Load Time:    5.4 || F1:  97.67 | Prec:  97.32 | Rec:  98.01 || Ex/s: 999.75\n",
            "\n",
            "* Best F1: tensor(97.6674, device='cuda:0')\n",
            "Saving best model...\n",
            "Done.\n",
            "---------------------\n",
            "\n",
            "===>  TRAIN Epoch 5\n"
          ]
        },
        {
          "output_type": "stream",
          "name": "stderr",
          "text": [
            "0% [██████████████████████████████] 100% | ETA: 00:00:00\n",
            "Total time elapsed: 00:00:53\n"
          ]
        },
        {
          "output_type": "stream",
          "name": "stdout",
          "text": [
            "Finished Epoch 5 || Run Time:   37.3 | Load Time:   16.5 || F1:  98.63 | Prec:  97.84 | Rec:  99.44 || Ex/s: 605.98\n",
            "\n",
            "===>  EVAL Epoch 5\n"
          ]
        },
        {
          "output_type": "stream",
          "name": "stderr",
          "text": [
            "0% [██████████████████████████████] 100% | ETA: 00:00:00\n",
            "Total time elapsed: 00:00:10\n"
          ]
        },
        {
          "output_type": "stream",
          "name": "stdout",
          "text": [
            "Finished Epoch 5 || Run Time:    5.5 | Load Time:    5.4 || F1:  97.77 | Prec:  97.04 | Rec:  98.50 || Ex/s: 999.78\n",
            "\n",
            "* Best F1: tensor(97.7671, device='cuda:0')\n",
            "Saving best model...\n",
            "Done.\n",
            "---------------------\n",
            "\n",
            "===>  TRAIN Epoch 6\n"
          ]
        },
        {
          "output_type": "stream",
          "name": "stderr",
          "text": [
            "0% [██████████████████████████████] 100% | ETA: 00:00:00\n",
            "Total time elapsed: 00:00:53\n"
          ]
        },
        {
          "output_type": "stream",
          "name": "stdout",
          "text": [
            "Finished Epoch 6 || Run Time:   37.3 | Load Time:   16.5 || F1:  99.00 | Prec:  98.49 | Rec:  99.53 || Ex/s: 606.08\n",
            "\n",
            "===>  EVAL Epoch 6\n"
          ]
        },
        {
          "output_type": "stream",
          "name": "stderr",
          "text": [
            "0% [██████████████████████████████] 100% | ETA: 00:00:00\n",
            "Total time elapsed: 00:00:10\n"
          ]
        },
        {
          "output_type": "stream",
          "name": "stdout",
          "text": [
            "Finished Epoch 6 || Run Time:    5.4 | Load Time:    5.4 || F1:  98.04 | Prec:  97.30 | Rec:  98.78 || Ex/s: 1002.75\n",
            "\n",
            "* Best F1: tensor(98.0388, device='cuda:0')\n",
            "Saving best model...\n",
            "Done.\n",
            "---------------------\n",
            "\n",
            "===>  TRAIN Epoch 7\n"
          ]
        },
        {
          "output_type": "stream",
          "name": "stderr",
          "text": [
            "0% [██████████████████████████████] 100% | ETA: 00:00:00\n",
            "Total time elapsed: 00:00:53\n"
          ]
        },
        {
          "output_type": "stream",
          "name": "stdout",
          "text": [
            "Finished Epoch 7 || Run Time:   37.1 | Load Time:   16.5 || F1:  99.23 | Prec:  98.84 | Rec:  99.62 || Ex/s: 607.89\n",
            "\n",
            "===>  EVAL Epoch 7\n"
          ]
        },
        {
          "output_type": "stream",
          "name": "stderr",
          "text": [
            "0% [██████████████████████████████] 100% | ETA: 00:00:00\n",
            "Total time elapsed: 00:00:10\n"
          ]
        },
        {
          "output_type": "stream",
          "name": "stdout",
          "text": [
            "Finished Epoch 7 || Run Time:    5.5 | Load Time:    5.5 || F1:  98.42 | Prec:  98.07 | Rec:  98.78 || Ex/s: 992.08\n",
            "\n",
            "* Best F1: tensor(98.4249, device='cuda:0')\n",
            "Saving best model...\n",
            "Done.\n",
            "---------------------\n",
            "\n",
            "===>  TRAIN Epoch 8\n"
          ]
        },
        {
          "output_type": "stream",
          "name": "stderr",
          "text": [
            "0% [██████████████████████████████] 100% | ETA: 00:00:00\n",
            "Total time elapsed: 00:00:52\n"
          ]
        },
        {
          "output_type": "stream",
          "name": "stdout",
          "text": [
            "Finished Epoch 8 || Run Time:   36.7 | Load Time:   16.4 || F1:  99.52 | Prec:  99.23 | Rec:  99.81 || Ex/s: 614.77\n",
            "\n",
            "===>  EVAL Epoch 8\n"
          ]
        },
        {
          "output_type": "stream",
          "name": "stderr",
          "text": [
            "0% [██████████████████████████████] 100% | ETA: 00:00:00\n",
            "Total time elapsed: 00:00:10\n"
          ]
        },
        {
          "output_type": "stream",
          "name": "stdout",
          "text": [
            "Finished Epoch 8 || Run Time:    5.4 | Load Time:    5.4 || F1:  98.54 | Prec:  98.15 | Rec:  98.93 || Ex/s: 1003.78\n",
            "\n",
            "* Best F1: tensor(98.5364, device='cuda:0')\n",
            "Saving best model...\n",
            "Done.\n",
            "---------------------\n",
            "\n",
            "===>  TRAIN Epoch 9\n"
          ]
        },
        {
          "output_type": "stream",
          "name": "stderr",
          "text": [
            "0% [██████████████████████████████] 100% | ETA: 00:00:00\n",
            "Total time elapsed: 00:00:52\n"
          ]
        },
        {
          "output_type": "stream",
          "name": "stdout",
          "text": [
            "Finished Epoch 9 || Run Time:   36.4 | Load Time:   16.3 || F1:  99.58 | Prec:  99.34 | Rec:  99.81 || Ex/s: 618.08\n",
            "\n",
            "===>  EVAL Epoch 9\n"
          ]
        },
        {
          "output_type": "stream",
          "name": "stderr",
          "text": [
            "0% [██████████████████████████████] 100% | ETA: 00:00:00\n",
            "Total time elapsed: 00:00:10\n"
          ]
        },
        {
          "output_type": "stream",
          "name": "stdout",
          "text": [
            "Finished Epoch 9 || Run Time:    5.4 | Load Time:    5.4 || F1:  98.60 | Prec:  98.07 | Rec:  99.13 || Ex/s: 1002.58\n",
            "\n",
            "* Best F1: tensor(98.5989, device='cuda:0')\n",
            "Saving best model...\n",
            "Done.\n",
            "---------------------\n",
            "\n",
            "===>  TRAIN Epoch 10\n"
          ]
        },
        {
          "output_type": "stream",
          "name": "stderr",
          "text": [
            "0% [██████████████████████████████] 100% | ETA: 00:00:00\n",
            "Total time elapsed: 00:00:53\n"
          ]
        },
        {
          "output_type": "stream",
          "name": "stdout",
          "text": [
            "Finished Epoch 10 || Run Time:   37.2 | Load Time:   16.4 || F1:  99.71 | Prec:  99.54 | Rec:  99.88 || Ex/s: 607.57\n",
            "\n",
            "===>  EVAL Epoch 10\n"
          ]
        },
        {
          "output_type": "stream",
          "name": "stderr",
          "text": [
            "0% [██████████████████████████████] 100% | ETA: 00:00:00\n",
            "Total time elapsed: 00:00:10\n"
          ]
        },
        {
          "output_type": "stream",
          "name": "stdout",
          "text": [
            "Finished Epoch 10 || Run Time:    5.4 | Load Time:    5.4 || F1:  98.72 | Prec:  98.21 | Rec:  99.23 || Ex/s: 1003.57\n",
            "\n",
            "* Best F1: tensor(98.7196, device='cuda:0')\n",
            "Saving best model...\n",
            "Done.\n",
            "---------------------\n",
            "\n",
            "Loading best model...\n",
            "Training done.\n"
          ]
        },
        {
          "output_type": "execute_result",
          "data": {
            "text/plain": [
              "tensor(98.7196, device='cuda:0')"
            ]
          },
          "metadata": {},
          "execution_count": 38
        }
      ],
      "source": [
        "model5.run_train(\n",
        "    train,\n",
        "    validation,\n",
        "    epochs=10,\n",
        "    batch_size=16,\n",
        "    best_save_path='rnn_model5.pth',\n",
        "    pos_neg_ratio=3)"
      ]
    },
    {
      "cell_type": "code",
      "execution_count": null,
      "metadata": {
        "colab": {
          "base_uri": "https://localhost:8080/"
        },
        "id": "h9ky_Um0CmH9",
        "outputId": "b8409909-4bab-44a6-c65a-919e53a38e9b"
      },
      "outputs": [
        {
          "output_type": "stream",
          "name": "stdout",
          "text": [
            "===>  EVAL Epoch 10\n"
          ]
        },
        {
          "output_type": "stream",
          "name": "stderr",
          "text": [
            "0% [██████████████████████████████] 100% | ETA: 00:00:00\n",
            "Total time elapsed: 00:00:08\n"
          ]
        },
        {
          "output_type": "stream",
          "name": "stdout",
          "text": [
            "Finished Epoch 10 || Run Time:    2.9 | Load Time:    5.4 || F1:  98.57 | Prec:  98.00 | Rec:  99.16 || Ex/s: 1305.15\n",
            "\n"
          ]
        },
        {
          "output_type": "execute_result",
          "data": {
            "text/plain": [
              "tensor(98.5747, device='cuda:0')"
            ]
          },
          "metadata": {},
          "execution_count": 39
        }
      ],
      "source": [
        "model5.run_eval(test)"
      ]
    },
    {
      "cell_type": "markdown",
      "metadata": {
        "id": "RlHz5SqZC4Pq"
      },
      "source": [
        "CV6"
      ]
    },
    {
      "cell_type": "code",
      "execution_count": null,
      "metadata": {
        "id": "s8xzNy8yC6mB"
      },
      "outputs": [],
      "source": [
        "df6 = pd.read_csv('/content/BPOM_Tokped_Shuffled_6.csv')"
      ]
    },
    {
      "cell_type": "code",
      "execution_count": null,
      "metadata": {
        "id": "yVokr6E2C8fd"
      },
      "outputs": [],
      "source": [
        "dm.data.split(df6, split_path, 'train6.csv', 'valid6.csv', 'test6.csv',\n",
        "              [3, 1, 1])"
      ]
    },
    {
      "cell_type": "code",
      "execution_count": null,
      "metadata": {
        "colab": {
          "base_uri": "https://localhost:8080/"
        },
        "id": "O5bG0O1SC8LL",
        "outputId": "b75a40f2-ffef-4d45-debe-b10fb19d363e"
      },
      "outputs": [
        {
          "output_type": "stream",
          "name": "stderr",
          "text": [
            "\n",
            "Reading and processing data from \"/content/sample_data/train6.csv\"\n",
            "0% [##############################] 100% | ETA: 00:00:00\n",
            "Reading and processing data from \"/content/sample_data/valid6.csv\"\n",
            "0% [############################# ] 100% | ETA: 00:00:00\n",
            "Reading and processing data from \"/content/sample_data/test6.csv\"\n",
            "0% [############################# ] 100% | ETA: 00:00:00\n",
            "Building vocabulary\n",
            "0% [##############################] 100% | ETA: 00:00:00\n",
            "Total time elapsed: 00:00:00\n",
            "\n",
            "Computing principal components\n",
            "0% [##############################] 100% | ETA: 00:00:00\n",
            "Total time elapsed: 00:00:03\n"
          ]
        }
      ],
      "source": [
        "train, validation, test = dm.data.process(\n",
        "    path=split_path,\n",
        "    cache='train_cache6.pth',\n",
        "    train='train6.csv',\n",
        "    validation='valid6.csv',\n",
        "    test='test6.csv',\n",
        "    use_magellan_convention=True,\n",
        "    ignore_columns=('ltable_Unnamed: 0', 'rtable_Unnamed: 0'))"
      ]
    },
    {
      "cell_type": "code",
      "execution_count": null,
      "metadata": {
        "id": "q_e1RDtMC73Q"
      },
      "outputs": [],
      "source": [
        "model6 = dm.MatchingModel(attr_summarizer='rnn')"
      ]
    },
    {
      "cell_type": "code",
      "execution_count": null,
      "metadata": {
        "colab": {
          "base_uri": "https://localhost:8080/"
        },
        "id": "hqcnu_OfC7ag",
        "outputId": "9b646f55-077f-43e2-ff35-82b6ca9de7b7"
      },
      "outputs": [
        {
          "output_type": "stream",
          "name": "stdout",
          "text": [
            "* Number of trainable parameters: 1356002\n",
            "===>  TRAIN Epoch 1\n"
          ]
        },
        {
          "output_type": "stream",
          "name": "stderr",
          "text": [
            "/usr/local/lib/python3.9/dist-packages/torch/nn/modules/module.py:770: UserWarning: Using non-full backward hooks on a Module that does not take as input a single Tensor or a tuple of Tensors is deprecated and will be removed in future versions. This hook will be missing some of the grad_input. Please use register_full_backward_hook to get the documented behavior.\n",
            "  warnings.warn(\"Using non-full backward hooks on a Module that does not take as input a \"\n",
            "/usr/local/lib/python3.9/dist-packages/torch/nn/modules/module.py:795: UserWarning: Using a non-full backward hook when the forward contains multiple autograd Nodes is deprecated and will be removed in future versions. This hook will be missing some grad_input. Please use register_full_backward_hook to get the documented behavior.\n",
            "  warnings.warn(\"Using a non-full backward hook when the forward contains multiple autograd Nodes \"\n",
            "/usr/local/lib/python3.9/dist-packages/torch/nn/modules/module.py:760: UserWarning: Using non-full backward hooks on a Module that does not return a single Tensor or a tuple of Tensors is deprecated and will be removed in future versions. This hook will be missing some of the grad_output. Please use register_full_backward_hook to get the documented behavior.\n",
            "  warnings.warn(\"Using non-full backward hooks on a Module that does not return a \"\n",
            "/usr/local/lib/python3.9/dist-packages/torch/nn/functional.py:2607: UserWarning: reduction: 'mean' divides the total loss by both the batch size and the support size.'batchmean' divides only by the batch size, and aligns with the KL div math definition.'mean' will be changed to behave the same as 'batchmean' in the next major release.\n",
            "  warnings.warn(\n",
            "0% [██████████████████████████████] 100% | ETA: 00:00:00\n",
            "Total time elapsed: 00:00:52\n"
          ]
        },
        {
          "output_type": "stream",
          "name": "stdout",
          "text": [
            "Finished Epoch 1 || Run Time:   36.6 | Load Time:   16.4 || F1:  90.17 | Prec:  84.32 | Rec:  96.89 || Ex/s: 615.18\n",
            "\n",
            "===>  EVAL Epoch 1\n"
          ]
        },
        {
          "output_type": "stream",
          "name": "stderr",
          "text": [
            "0% [██████████████████████████████] 100% | ETA: 00:00:00\n",
            "Total time elapsed: 00:00:10\n"
          ]
        },
        {
          "output_type": "stream",
          "name": "stdout",
          "text": [
            "Finished Epoch 1 || Run Time:    5.4 | Load Time:    5.4 || F1:  94.49 | Prec:  90.75 | Rec:  98.55 || Ex/s: 1010.78\n",
            "\n",
            "* Best F1: tensor(94.4889, device='cuda:0')\n",
            "Saving best model...\n",
            "Done.\n",
            "---------------------\n",
            "\n",
            "===>  TRAIN Epoch 2\n"
          ]
        },
        {
          "output_type": "stream",
          "name": "stderr",
          "text": [
            "0% [██████████████████████████████] 100% | ETA: 00:00:00\n",
            "Total time elapsed: 00:00:52\n"
          ]
        },
        {
          "output_type": "stream",
          "name": "stdout",
          "text": [
            "Finished Epoch 2 || Run Time:   36.5 | Load Time:   16.3 || F1:  96.03 | Prec:  93.85 | Rec:  98.31 || Ex/s: 617.01\n",
            "\n",
            "===>  EVAL Epoch 2\n"
          ]
        },
        {
          "output_type": "stream",
          "name": "stderr",
          "text": [
            "0% [██████████████████████████████] 100% | ETA: 00:00:00\n",
            "Total time elapsed: 00:00:10\n"
          ]
        },
        {
          "output_type": "stream",
          "name": "stdout",
          "text": [
            "Finished Epoch 2 || Run Time:    5.4 | Load Time:    5.4 || F1:  94.92 | Prec:  91.25 | Rec:  98.89 || Ex/s: 1009.78\n",
            "\n",
            "* Best F1: tensor(94.9179, device='cuda:0')\n",
            "Saving best model...\n",
            "Done.\n",
            "---------------------\n",
            "\n",
            "===>  TRAIN Epoch 3\n"
          ]
        },
        {
          "output_type": "stream",
          "name": "stderr",
          "text": [
            "0% [██████████████████████████████] 100% | ETA: 00:00:00\n",
            "Total time elapsed: 00:00:52\n"
          ]
        },
        {
          "output_type": "stream",
          "name": "stdout",
          "text": [
            "Finished Epoch 3 || Run Time:   36.6 | Load Time:   16.4 || F1:  97.27 | Prec:  95.81 | Rec:  98.77 || Ex/s: 616.05\n",
            "\n",
            "===>  EVAL Epoch 3\n"
          ]
        },
        {
          "output_type": "stream",
          "name": "stderr",
          "text": [
            "0% [██████████████████████████████] 100% | ETA: 00:00:00\n",
            "Total time elapsed: 00:00:10\n"
          ]
        },
        {
          "output_type": "stream",
          "name": "stdout",
          "text": [
            "Finished Epoch 3 || Run Time:    5.4 | Load Time:    5.4 || F1:  96.38 | Prec:  94.08 | Rec:  98.79 || Ex/s: 1000.10\n",
            "\n",
            "* Best F1: tensor(96.3763, device='cuda:0')\n",
            "Saving best model...\n",
            "Done.\n",
            "---------------------\n",
            "\n",
            "===>  TRAIN Epoch 4\n"
          ]
        },
        {
          "output_type": "stream",
          "name": "stderr",
          "text": [
            "0% [██████████████████████████████] 100% | ETA: 00:00:00\n",
            "Total time elapsed: 00:00:52\n"
          ]
        },
        {
          "output_type": "stream",
          "name": "stdout",
          "text": [
            "Finished Epoch 4 || Run Time:   36.6 | Load Time:   16.4 || F1:  98.14 | Prec:  97.13 | Rec:  99.16 || Ex/s: 615.73\n",
            "\n",
            "===>  EVAL Epoch 4\n"
          ]
        },
        {
          "output_type": "stream",
          "name": "stderr",
          "text": [
            "0% [██████████████████████████████] 100% | ETA: 00:00:00\n",
            "Total time elapsed: 00:00:10\n"
          ]
        },
        {
          "output_type": "stream",
          "name": "stdout",
          "text": [
            "Finished Epoch 4 || Run Time:    5.5 | Load Time:    5.5 || F1:  97.11 | Prec:  95.74 | Rec:  98.53 || Ex/s: 988.68\n",
            "\n",
            "* Best F1: tensor(97.1128, device='cuda:0')\n",
            "Saving best model...\n",
            "Done.\n",
            "---------------------\n",
            "\n",
            "===>  TRAIN Epoch 5\n"
          ]
        },
        {
          "output_type": "stream",
          "name": "stderr",
          "text": [
            "0% [██████████████████████████████] 100% | ETA: 00:00:00\n",
            "Total time elapsed: 00:00:53\n"
          ]
        },
        {
          "output_type": "stream",
          "name": "stdout",
          "text": [
            "Finished Epoch 5 || Run Time:   36.9 | Load Time:   16.5 || F1:  98.65 | Prec:  97.95 | Rec:  99.36 || Ex/s: 611.25\n",
            "\n",
            "===>  EVAL Epoch 5\n"
          ]
        },
        {
          "output_type": "stream",
          "name": "stderr",
          "text": [
            "0% [██████████████████████████████] 100% | ETA: 00:00:00\n",
            "Total time elapsed: 00:00:10\n"
          ]
        },
        {
          "output_type": "stream",
          "name": "stdout",
          "text": [
            "Finished Epoch 5 || Run Time:    5.4 | Load Time:    5.4 || F1:  97.82 | Prec:  96.84 | Rec:  98.81 || Ex/s: 1012.65\n",
            "\n",
            "* Best F1: tensor(97.8176, device='cuda:0')\n",
            "Saving best model...\n",
            "Done.\n",
            "---------------------\n",
            "\n",
            "===>  TRAIN Epoch 6\n"
          ]
        },
        {
          "output_type": "stream",
          "name": "stderr",
          "text": [
            "0% [██████████████████████████████] 100% | ETA: 00:00:00\n",
            "Total time elapsed: 00:00:53\n"
          ]
        },
        {
          "output_type": "stream",
          "name": "stdout",
          "text": [
            "Finished Epoch 6 || Run Time:   36.8 | Load Time:   16.4 || F1:  98.97 | Prec:  98.43 | Rec:  99.51 || Ex/s: 612.88\n",
            "\n",
            "===>  EVAL Epoch 6\n"
          ]
        },
        {
          "output_type": "stream",
          "name": "stderr",
          "text": [
            "0% [██████████████████████████████] 100% | ETA: 00:00:00\n",
            "Total time elapsed: 00:00:10\n"
          ]
        },
        {
          "output_type": "stream",
          "name": "stdout",
          "text": [
            "Finished Epoch 6 || Run Time:    5.4 | Load Time:    5.4 || F1:  98.12 | Prec:  97.48 | Rec:  98.77 || Ex/s: 1005.85\n",
            "\n",
            "* Best F1: tensor(98.1200, device='cuda:0')\n",
            "Saving best model...\n",
            "Done.\n",
            "---------------------\n",
            "\n",
            "===>  TRAIN Epoch 7\n"
          ]
        },
        {
          "output_type": "stream",
          "name": "stderr",
          "text": [
            "0% [██████████████████████████████] 100% | ETA: 00:00:00\n",
            "Total time elapsed: 00:00:52\n"
          ]
        },
        {
          "output_type": "stream",
          "name": "stdout",
          "text": [
            "Finished Epoch 7 || Run Time:   36.6 | Load Time:   16.4 || F1:  99.27 | Prec:  98.84 | Rec:  99.71 || Ex/s: 615.05\n",
            "\n",
            "===>  EVAL Epoch 7\n"
          ]
        },
        {
          "output_type": "stream",
          "name": "stderr",
          "text": [
            "0% [██████████████████████████████] 100% | ETA: 00:00:00\n",
            "Total time elapsed: 00:00:10\n"
          ]
        },
        {
          "output_type": "stream",
          "name": "stdout",
          "text": [
            "Finished Epoch 7 || Run Time:    5.4 | Load Time:    5.4 || F1:  98.18 | Prec:  97.63 | Rec:  98.73 || Ex/s: 1003.81\n",
            "\n",
            "* Best F1: tensor(98.1782, device='cuda:0')\n",
            "Saving best model...\n",
            "Done.\n",
            "---------------------\n",
            "\n",
            "===>  TRAIN Epoch 8\n"
          ]
        },
        {
          "output_type": "stream",
          "name": "stderr",
          "text": [
            "0% [██████████████████████████████] 100% | ETA: 00:00:00\n",
            "Total time elapsed: 00:00:53\n"
          ]
        },
        {
          "output_type": "stream",
          "name": "stdout",
          "text": [
            "Finished Epoch 8 || Run Time:   36.8 | Load Time:   16.4 || F1:  99.54 | Prec:  99.25 | Rec:  99.83 || Ex/s: 613.12\n",
            "\n",
            "===>  EVAL Epoch 8\n"
          ]
        },
        {
          "output_type": "stream",
          "name": "stderr",
          "text": [
            "0% [██████████████████████████████] 100% | ETA: 00:00:00\n",
            "Total time elapsed: 00:00:10\n"
          ]
        },
        {
          "output_type": "stream",
          "name": "stdout",
          "text": [
            "Finished Epoch 8 || Run Time:    5.4 | Load Time:    5.4 || F1:  98.51 | Prec:  98.24 | Rec:  98.79 || Ex/s: 1006.00\n",
            "\n",
            "* Best F1: tensor(98.5143, device='cuda:0')\n",
            "Saving best model...\n",
            "Done.\n",
            "---------------------\n",
            "\n",
            "===>  TRAIN Epoch 9\n"
          ]
        },
        {
          "output_type": "stream",
          "name": "stderr",
          "text": [
            "0% [██████████████████████████████] 100% | ETA: 00:00:00\n",
            "Total time elapsed: 00:00:52\n"
          ]
        },
        {
          "output_type": "stream",
          "name": "stdout",
          "text": [
            "Finished Epoch 9 || Run Time:   36.5 | Load Time:   16.4 || F1:  99.58 | Prec:  99.32 | Rec:  99.84 || Ex/s: 616.56\n",
            "\n",
            "===>  EVAL Epoch 9\n"
          ]
        },
        {
          "output_type": "stream",
          "name": "stderr",
          "text": [
            "0% [██████████████████████████████] 100% | ETA: 00:00:00\n",
            "Total time elapsed: 00:00:10\n"
          ]
        },
        {
          "output_type": "stream",
          "name": "stdout",
          "text": [
            "Finished Epoch 9 || Run Time:    5.5 | Load Time:    5.4 || F1:  98.50 | Prec:  98.41 | Rec:  98.59 || Ex/s: 998.60\n",
            "\n",
            "---------------------\n",
            "\n",
            "===>  TRAIN Epoch 10\n"
          ]
        },
        {
          "output_type": "stream",
          "name": "stderr",
          "text": [
            "0% [██████████████████████████████] 100% | ETA: 00:00:00\n",
            "Total time elapsed: 00:00:52\n"
          ]
        },
        {
          "output_type": "stream",
          "name": "stdout",
          "text": [
            "Finished Epoch 10 || Run Time:   36.4 | Load Time:   16.4 || F1:  99.66 | Prec:  99.42 | Rec:  99.89 || Ex/s: 618.22\n",
            "\n",
            "===>  EVAL Epoch 10\n"
          ]
        },
        {
          "output_type": "stream",
          "name": "stderr",
          "text": [
            "0% [██████████████████████████████] 100% | ETA: 00:00:00\n",
            "Total time elapsed: 00:00:11\n"
          ]
        },
        {
          "output_type": "stream",
          "name": "stdout",
          "text": [
            "Finished Epoch 10 || Run Time:    5.6 | Load Time:    5.5 || F1:  98.55 | Prec:  98.16 | Rec:  98.93 || Ex/s: 982.97\n",
            "\n",
            "* Best F1: tensor(98.5461, device='cuda:0')\n",
            "Saving best model...\n",
            "Done.\n",
            "---------------------\n",
            "\n",
            "Loading best model...\n",
            "Training done.\n"
          ]
        },
        {
          "output_type": "execute_result",
          "data": {
            "text/plain": [
              "tensor(98.5461, device='cuda:0')"
            ]
          },
          "metadata": {},
          "execution_count": 44
        }
      ],
      "source": [
        "model6.run_train(\n",
        "    train,\n",
        "    validation,\n",
        "    epochs=10,\n",
        "    batch_size=16,\n",
        "    best_save_path='rnn_model6.pth',\n",
        "    pos_neg_ratio=3)"
      ]
    },
    {
      "cell_type": "code",
      "execution_count": null,
      "metadata": {
        "colab": {
          "base_uri": "https://localhost:8080/"
        },
        "id": "5GPER4hZC7Ey",
        "outputId": "3069dbe3-f064-4158-f5a6-85fc86fc4195"
      },
      "outputs": [
        {
          "output_type": "stream",
          "name": "stdout",
          "text": [
            "===>  EVAL Epoch 10\n"
          ]
        },
        {
          "output_type": "stream",
          "name": "stderr",
          "text": [
            "0% [██████████████████████████████] 100% | ETA: 00:00:00\n",
            "Total time elapsed: 00:00:08\n"
          ]
        },
        {
          "output_type": "stream",
          "name": "stdout",
          "text": [
            "Finished Epoch 10 || Run Time:    2.9 | Load Time:    5.5 || F1:  98.30 | Prec:  97.75 | Rec:  98.86 || Ex/s: 1303.89\n",
            "\n"
          ]
        },
        {
          "output_type": "execute_result",
          "data": {
            "text/plain": [
              "tensor(98.3021, device='cuda:0')"
            ]
          },
          "metadata": {},
          "execution_count": 45
        }
      ],
      "source": [
        "model6.run_eval(test)"
      ]
    },
    {
      "cell_type": "markdown",
      "metadata": {
        "id": "FDw8rOsqDXwH"
      },
      "source": [
        "CV7"
      ]
    },
    {
      "cell_type": "code",
      "execution_count": null,
      "metadata": {
        "id": "3HjCDu3PDdXm"
      },
      "outputs": [],
      "source": [
        "df7 = pd.read_csv('/content/BPOM_Tokped_Shuffled_7.csv')"
      ]
    },
    {
      "cell_type": "code",
      "execution_count": null,
      "metadata": {
        "id": "5YSOcu2sDdF2"
      },
      "outputs": [],
      "source": [
        "dm.data.split(df7, split_path, 'train7.csv', 'valid7.csv', 'test7.csv',\n",
        "              [3, 1, 1])"
      ]
    },
    {
      "cell_type": "code",
      "execution_count": null,
      "metadata": {
        "colab": {
          "base_uri": "https://localhost:8080/"
        },
        "id": "HVu0PMk-Dcz_",
        "outputId": "aa4d3b38-29e3-4232-b20d-7c2ec324be40"
      },
      "outputs": [
        {
          "output_type": "stream",
          "name": "stderr",
          "text": [
            "\n",
            "Reading and processing data from \"/content/sample_data/train7.csv\"\n",
            "0% [##############################] 100% | ETA: 00:00:00\n",
            "Reading and processing data from \"/content/sample_data/valid7.csv\"\n",
            "0% [############################# ] 100% | ETA: 00:00:00\n",
            "Reading and processing data from \"/content/sample_data/test7.csv\"\n",
            "0% [############################# ] 100% | ETA: 00:00:00\n",
            "Building vocabulary\n",
            "0% [##############################] 100% | ETA: 00:00:00\n",
            "Total time elapsed: 00:00:00\n",
            "\n",
            "Computing principal components\n",
            "0% [##############################] 100% | ETA: 00:00:00\n",
            "Total time elapsed: 00:00:03\n"
          ]
        }
      ],
      "source": [
        "train, validation, test = dm.data.process(\n",
        "    path=split_path,\n",
        "    cache='train_cache7.pth',\n",
        "    train='train7.csv',\n",
        "    validation='valid7.csv',\n",
        "    test='test7.csv',\n",
        "    use_magellan_convention=True,\n",
        "    ignore_columns=('ltable_Unnamed: 0', 'rtable_Unnamed: 0'))"
      ]
    },
    {
      "cell_type": "code",
      "execution_count": null,
      "metadata": {
        "id": "viR-pIx5Dcg3"
      },
      "outputs": [],
      "source": [
        "model7 = dm.MatchingModel(attr_summarizer='rnn')"
      ]
    },
    {
      "cell_type": "code",
      "execution_count": null,
      "metadata": {
        "colab": {
          "base_uri": "https://localhost:8080/"
        },
        "id": "FadFUy6GDcMn",
        "outputId": "cc6584e9-d529-417f-8a2b-3206ac82f05a"
      },
      "outputs": [
        {
          "output_type": "stream",
          "name": "stdout",
          "text": [
            "* Number of trainable parameters: 1356002\n",
            "===>  TRAIN Epoch 1\n"
          ]
        },
        {
          "output_type": "stream",
          "name": "stderr",
          "text": [
            "/usr/local/lib/python3.9/dist-packages/torch/nn/modules/module.py:770: UserWarning: Using non-full backward hooks on a Module that does not take as input a single Tensor or a tuple of Tensors is deprecated and will be removed in future versions. This hook will be missing some of the grad_input. Please use register_full_backward_hook to get the documented behavior.\n",
            "  warnings.warn(\"Using non-full backward hooks on a Module that does not take as input a \"\n",
            "/usr/local/lib/python3.9/dist-packages/torch/nn/modules/module.py:795: UserWarning: Using a non-full backward hook when the forward contains multiple autograd Nodes is deprecated and will be removed in future versions. This hook will be missing some grad_input. Please use register_full_backward_hook to get the documented behavior.\n",
            "  warnings.warn(\"Using a non-full backward hook when the forward contains multiple autograd Nodes \"\n",
            "/usr/local/lib/python3.9/dist-packages/torch/nn/modules/module.py:760: UserWarning: Using non-full backward hooks on a Module that does not return a single Tensor or a tuple of Tensors is deprecated and will be removed in future versions. This hook will be missing some of the grad_output. Please use register_full_backward_hook to get the documented behavior.\n",
            "  warnings.warn(\"Using non-full backward hooks on a Module that does not return a \"\n",
            "/usr/local/lib/python3.9/dist-packages/torch/nn/functional.py:2607: UserWarning: reduction: 'mean' divides the total loss by both the batch size and the support size.'batchmean' divides only by the batch size, and aligns with the KL div math definition.'mean' will be changed to behave the same as 'batchmean' in the next major release.\n",
            "  warnings.warn(\n",
            "0% [██████████████████████████████] 100% | ETA: 00:00:00\n",
            "Total time elapsed: 00:00:52\n"
          ]
        },
        {
          "output_type": "stream",
          "name": "stdout",
          "text": [
            "Finished Epoch 1 || Run Time:   36.7 | Load Time:   16.3 || F1:  90.12 | Prec:  84.12 | Rec:  97.05 || Ex/s: 615.26\n",
            "\n",
            "===>  EVAL Epoch 1\n"
          ]
        },
        {
          "output_type": "stream",
          "name": "stderr",
          "text": [
            "0% [██████████████████████████████] 100% | ETA: 00:00:00\n",
            "Total time elapsed: 00:00:10\n"
          ]
        },
        {
          "output_type": "stream",
          "name": "stdout",
          "text": [
            "Finished Epoch 1 || Run Time:    5.5 | Load Time:    5.5 || F1:  95.53 | Prec:  94.78 | Rec:  96.29 || Ex/s: 988.59\n",
            "\n",
            "* Best F1: tensor(95.5327, device='cuda:0')\n",
            "Saving best model...\n",
            "Done.\n",
            "---------------------\n",
            "\n",
            "===>  TRAIN Epoch 2\n"
          ]
        },
        {
          "output_type": "stream",
          "name": "stderr",
          "text": [
            "0% [██████████████████████████████] 100% | ETA: 00:00:00\n",
            "Total time elapsed: 00:00:54\n"
          ]
        },
        {
          "output_type": "stream",
          "name": "stdout",
          "text": [
            "Finished Epoch 2 || Run Time:   37.8 | Load Time:   16.6 || F1:  95.87 | Prec:  93.54 | Rec:  98.32 || Ex/s: 600.07\n",
            "\n",
            "===>  EVAL Epoch 2\n"
          ]
        },
        {
          "output_type": "stream",
          "name": "stderr",
          "text": [
            "0% [██████████████████████████████] 100% | ETA: 00:00:00\n",
            "Total time elapsed: 00:00:11\n"
          ]
        },
        {
          "output_type": "stream",
          "name": "stdout",
          "text": [
            "Finished Epoch 2 || Run Time:    5.5 | Load Time:    5.5 || F1:  96.07 | Prec:  93.56 | Rec:  98.72 || Ex/s: 985.66\n",
            "\n",
            "* Best F1: tensor(96.0737, device='cuda:0')\n",
            "Saving best model...\n",
            "Done.\n",
            "---------------------\n",
            "\n",
            "===>  TRAIN Epoch 3\n"
          ]
        },
        {
          "output_type": "stream",
          "name": "stderr",
          "text": [
            "0% [██████████████████████████████] 100% | ETA: 00:00:00\n",
            "Total time elapsed: 00:00:54\n"
          ]
        },
        {
          "output_type": "stream",
          "name": "stdout",
          "text": [
            "Finished Epoch 3 || Run Time:   38.2 | Load Time:   16.7 || F1:  97.12 | Prec:  95.45 | Rec:  98.86 || Ex/s: 594.82\n",
            "\n",
            "===>  EVAL Epoch 3\n"
          ]
        },
        {
          "output_type": "stream",
          "name": "stderr",
          "text": [
            "0% [██████████████████████████████] 100% | ETA: 00:00:00\n",
            "Total time elapsed: 00:00:10\n"
          ]
        },
        {
          "output_type": "stream",
          "name": "stdout",
          "text": [
            "Finished Epoch 3 || Run Time:    5.5 | Load Time:    5.4 || F1:  96.77 | Prec:  94.54 | Rec:  99.10 || Ex/s: 994.47\n",
            "\n",
            "* Best F1: tensor(96.7704, device='cuda:0')\n",
            "Saving best model...\n",
            "Done.\n",
            "---------------------\n",
            "\n",
            "===>  TRAIN Epoch 4\n"
          ]
        },
        {
          "output_type": "stream",
          "name": "stderr",
          "text": [
            "0% [██████████████████████████████] 100% | ETA: 00:00:00\n",
            "Total time elapsed: 00:00:54\n"
          ]
        },
        {
          "output_type": "stream",
          "name": "stdout",
          "text": [
            "Finished Epoch 4 || Run Time:   38.0 | Load Time:   16.6 || F1:  98.08 | Prec:  96.94 | Rec:  99.23 || Ex/s: 597.08\n",
            "\n",
            "===>  EVAL Epoch 4\n"
          ]
        },
        {
          "output_type": "stream",
          "name": "stderr",
          "text": [
            "0% [██████████████████████████████] 100% | ETA: 00:00:00\n",
            "Total time elapsed: 00:00:11\n"
          ]
        },
        {
          "output_type": "stream",
          "name": "stdout",
          "text": [
            "Finished Epoch 4 || Run Time:    5.8 | Load Time:    5.6 || F1:  97.24 | Prec:  95.80 | Rec:  98.72 || Ex/s: 956.68\n",
            "\n",
            "* Best F1: tensor(97.2427, device='cuda:0')\n",
            "Saving best model...\n",
            "Done.\n",
            "---------------------\n",
            "\n",
            "===>  TRAIN Epoch 5\n"
          ]
        },
        {
          "output_type": "stream",
          "name": "stderr",
          "text": [
            "0% [██████████████████████████████] 100% | ETA: 00:00:00\n",
            "Total time elapsed: 00:00:54\n"
          ]
        },
        {
          "output_type": "stream",
          "name": "stdout",
          "text": [
            "Finished Epoch 5 || Run Time:   38.1 | Load Time:   16.7 || F1:  98.56 | Prec:  97.68 | Rec:  99.46 || Ex/s: 594.60\n",
            "\n",
            "===>  EVAL Epoch 5\n"
          ]
        },
        {
          "output_type": "stream",
          "name": "stderr",
          "text": [
            "0% [██████████████████████████████] 100% | ETA: 00:00:00\n",
            "Total time elapsed: 00:00:11\n"
          ]
        },
        {
          "output_type": "stream",
          "name": "stdout",
          "text": [
            "Finished Epoch 5 || Run Time:    5.8 | Load Time:    5.6 || F1:  97.81 | Prec:  96.75 | Rec:  98.90 || Ex/s: 950.82\n",
            "\n",
            "* Best F1: tensor(97.8128, device='cuda:0')\n",
            "Saving best model...\n",
            "Done.\n",
            "---------------------\n",
            "\n",
            "===>  TRAIN Epoch 6\n"
          ]
        },
        {
          "output_type": "stream",
          "name": "stderr",
          "text": [
            "0% [██████████████████████████████] 100% | ETA: 00:00:00\n",
            "Total time elapsed: 00:00:54\n"
          ]
        },
        {
          "output_type": "stream",
          "name": "stdout",
          "text": [
            "Finished Epoch 6 || Run Time:   37.9 | Load Time:   16.6 || F1:  99.04 | Prec:  98.44 | Rec:  99.64 || Ex/s: 598.42\n",
            "\n",
            "===>  EVAL Epoch 6\n"
          ]
        },
        {
          "output_type": "stream",
          "name": "stderr",
          "text": [
            "0% [██████████████████████████████] 100% | ETA: 00:00:00\n",
            "Total time elapsed: 00:00:11\n"
          ]
        },
        {
          "output_type": "stream",
          "name": "stdout",
          "text": [
            "Finished Epoch 6 || Run Time:    5.6 | Load Time:    5.5 || F1:  98.03 | Prec:  97.11 | Rec:  98.96 || Ex/s: 977.47\n",
            "\n",
            "* Best F1: tensor(98.0264, device='cuda:0')\n",
            "Saving best model...\n",
            "Done.\n",
            "---------------------\n",
            "\n",
            "===>  TRAIN Epoch 7\n"
          ]
        },
        {
          "output_type": "stream",
          "name": "stderr",
          "text": [
            "0% [██████████████████████████████] 100% | ETA: 00:00:00\n",
            "Total time elapsed: 00:00:53\n"
          ]
        },
        {
          "output_type": "stream",
          "name": "stdout",
          "text": [
            "Finished Epoch 7 || Run Time:   37.3 | Load Time:   16.5 || F1:  99.15 | Prec:  98.59 | Rec:  99.71 || Ex/s: 605.89\n",
            "\n",
            "===>  EVAL Epoch 7\n"
          ]
        },
        {
          "output_type": "stream",
          "name": "stderr",
          "text": [
            "0% [██████████████████████████████] 100% | ETA: 00:00:00\n",
            "Total time elapsed: 00:00:10\n"
          ]
        },
        {
          "output_type": "stream",
          "name": "stdout",
          "text": [
            "Finished Epoch 7 || Run Time:    5.4 | Load Time:    5.4 || F1:  98.05 | Prec:  96.87 | Rec:  99.26 || Ex/s: 1002.64\n",
            "\n",
            "* Best F1: tensor(98.0516, device='cuda:0')\n",
            "Saving best model...\n",
            "Done.\n",
            "---------------------\n",
            "\n",
            "===>  TRAIN Epoch 8\n"
          ]
        },
        {
          "output_type": "stream",
          "name": "stderr",
          "text": [
            "0% [██████████████████████████████] 100% | ETA: 00:00:00\n",
            "Total time elapsed: 00:00:53\n"
          ]
        },
        {
          "output_type": "stream",
          "name": "stdout",
          "text": [
            "Finished Epoch 8 || Run Time:   37.0 | Load Time:   16.4 || F1:  99.47 | Prec:  99.17 | Rec:  99.77 || Ex/s: 610.77\n",
            "\n",
            "===>  EVAL Epoch 8\n"
          ]
        },
        {
          "output_type": "stream",
          "name": "stderr",
          "text": [
            "0% [██████████████████████████████] 100% | ETA: 00:00:00\n",
            "Total time elapsed: 00:00:10\n"
          ]
        },
        {
          "output_type": "stream",
          "name": "stdout",
          "text": [
            "Finished Epoch 8 || Run Time:    5.5 | Load Time:    5.4 || F1:  98.57 | Prec:  97.94 | Rec:  99.22 || Ex/s: 996.95\n",
            "\n",
            "* Best F1: tensor(98.5748, device='cuda:0')\n",
            "Saving best model...\n",
            "Done.\n",
            "---------------------\n",
            "\n",
            "===>  TRAIN Epoch 9\n"
          ]
        },
        {
          "output_type": "stream",
          "name": "stderr",
          "text": [
            "0% [██████████████████████████████] 100% | ETA: 00:00:00\n",
            "Total time elapsed: 00:00:53\n"
          ]
        },
        {
          "output_type": "stream",
          "name": "stdout",
          "text": [
            "Finished Epoch 9 || Run Time:   36.8 | Load Time:   16.4 || F1:  99.56 | Prec:  99.30 | Rec:  99.81 || Ex/s: 613.16\n",
            "\n",
            "===>  EVAL Epoch 9\n"
          ]
        },
        {
          "output_type": "stream",
          "name": "stderr",
          "text": [
            "0% [██████████████████████████████] 100% | ETA: 00:00:00\n",
            "Total time elapsed: 00:00:10\n"
          ]
        },
        {
          "output_type": "stream",
          "name": "stdout",
          "text": [
            "Finished Epoch 9 || Run Time:    5.4 | Load Time:    5.4 || F1:  98.62 | Prec:  97.77 | Rec:  99.48 || Ex/s: 1006.49\n",
            "\n",
            "* Best F1: tensor(98.6174, device='cuda:0')\n",
            "Saving best model...\n",
            "Done.\n",
            "---------------------\n",
            "\n",
            "===>  TRAIN Epoch 10\n"
          ]
        },
        {
          "output_type": "stream",
          "name": "stderr",
          "text": [
            "0% [██████████████████████████████] 100% | ETA: 00:00:00\n",
            "Total time elapsed: 00:00:52\n"
          ]
        },
        {
          "output_type": "stream",
          "name": "stdout",
          "text": [
            "Finished Epoch 10 || Run Time:   36.7 | Load Time:   16.3 || F1:  99.65 | Prec:  99.42 | Rec:  99.88 || Ex/s: 614.28\n",
            "\n",
            "===>  EVAL Epoch 10\n"
          ]
        },
        {
          "output_type": "stream",
          "name": "stderr",
          "text": [
            "0% [██████████████████████████████] 100% | ETA: 00:00:00\n",
            "Total time elapsed: 00:00:10\n"
          ]
        },
        {
          "output_type": "stream",
          "name": "stdout",
          "text": [
            "Finished Epoch 10 || Run Time:    5.4 | Load Time:    5.4 || F1:  98.51 | Prec:  97.50 | Rec:  99.54 || Ex/s: 1005.12\n",
            "\n",
            "---------------------\n",
            "\n",
            "Loading best model...\n",
            "Training done.\n"
          ]
        },
        {
          "output_type": "execute_result",
          "data": {
            "text/plain": [
              "tensor(98.6174, device='cuda:0')"
            ]
          },
          "metadata": {},
          "execution_count": 50
        }
      ],
      "source": [
        "model7.run_train(\n",
        "    train,\n",
        "    validation,\n",
        "    epochs=10,\n",
        "    batch_size=16,\n",
        "    best_save_path='rnn_model7.pth',\n",
        "    pos_neg_ratio=3)"
      ]
    },
    {
      "cell_type": "code",
      "execution_count": null,
      "metadata": {
        "colab": {
          "base_uri": "https://localhost:8080/"
        },
        "id": "LgWtRCSEDbwc",
        "outputId": "1c16c628-8556-41ca-c4e2-f55cd563f5b8"
      },
      "outputs": [
        {
          "output_type": "stream",
          "name": "stdout",
          "text": [
            "===>  EVAL Epoch 9\n"
          ]
        },
        {
          "output_type": "stream",
          "name": "stderr",
          "text": [
            "0% [██████████████████████████████] 100% | ETA: 00:00:00\n",
            "Total time elapsed: 00:00:08\n"
          ]
        },
        {
          "output_type": "stream",
          "name": "stdout",
          "text": [
            "Finished Epoch 9 || Run Time:    2.9 | Load Time:    5.4 || F1:  98.53 | Prec:  97.85 | Rec:  99.22 || Ex/s: 1318.92\n",
            "\n"
          ]
        },
        {
          "output_type": "execute_result",
          "data": {
            "text/plain": [
              "tensor(98.5316, device='cuda:0')"
            ]
          },
          "metadata": {},
          "execution_count": 51
        }
      ],
      "source": [
        "model7.run_eval(test)"
      ]
    },
    {
      "cell_type": "markdown",
      "metadata": {
        "id": "sS-EMaAqLyms"
      },
      "source": [
        "CV8"
      ]
    },
    {
      "cell_type": "code",
      "execution_count": null,
      "metadata": {
        "id": "-PY1nG07L0l_"
      },
      "outputs": [],
      "source": [
        "df8 = pd.read_csv('/content/BPOM_Tokped_Shuffled_8.csv')"
      ]
    },
    {
      "cell_type": "code",
      "execution_count": null,
      "metadata": {
        "id": "uRuKO-1UL5WD"
      },
      "outputs": [],
      "source": [
        "dm.data.split(df8, split_path, 'train8.csv', 'valid8.csv', 'test8.csv',\n",
        "              [3, 1, 1])"
      ]
    },
    {
      "cell_type": "code",
      "execution_count": null,
      "metadata": {
        "colab": {
          "base_uri": "https://localhost:8080/"
        },
        "id": "-jI_l6XBL6Yb",
        "outputId": "5f30cf0d-ade3-4a93-dcdd-b3fa8794c076"
      },
      "outputs": [
        {
          "output_type": "stream",
          "name": "stderr",
          "text": [
            "\n",
            "Reading and processing data from \"/content/sample_data/train8.csv\"\n",
            "0% [##############################] 100% | ETA: 00:00:00\n",
            "Reading and processing data from \"/content/sample_data/valid8.csv\"\n",
            "0% [############################# ] 100% | ETA: 00:00:00\n",
            "Reading and processing data from \"/content/sample_data/test8.csv\"\n",
            "0% [############################# ] 100% | ETA: 00:00:00\n",
            "Building vocabulary\n",
            "0% [##############################] 100% | ETA: 00:00:00\n",
            "Total time elapsed: 00:00:00\n",
            "\n",
            "Computing principal components\n",
            "0% [##############################] 100% | ETA: 00:00:00\n",
            "Total time elapsed: 00:00:03\n"
          ]
        }
      ],
      "source": [
        "train, validation, test = dm.data.process(\n",
        "    path=split_path,\n",
        "    cache='train_cache8.pth',\n",
        "    train='train8.csv',\n",
        "    validation='valid8.csv',\n",
        "    test='test8.csv',\n",
        "    use_magellan_convention=True,\n",
        "    ignore_columns=('ltable_Unnamed: 0', 'rtable_Unnamed: 0'))"
      ]
    },
    {
      "cell_type": "code",
      "execution_count": null,
      "metadata": {
        "id": "fcHtt6ADL2sI"
      },
      "outputs": [],
      "source": [
        "model8 = dm.MatchingModel(attr_summarizer='rnn')"
      ]
    },
    {
      "cell_type": "code",
      "execution_count": null,
      "metadata": {
        "colab": {
          "base_uri": "https://localhost:8080/"
        },
        "id": "UkGo2T8dL2G7",
        "outputId": "5d82e23e-4384-4190-fd9b-83c9ce5d99c4"
      },
      "outputs": [
        {
          "output_type": "stream",
          "name": "stdout",
          "text": [
            "* Number of trainable parameters: 1356002\n",
            "===>  TRAIN Epoch 1\n"
          ]
        },
        {
          "output_type": "stream",
          "name": "stderr",
          "text": [
            "/usr/local/lib/python3.9/dist-packages/torch/nn/modules/module.py:770: UserWarning: Using non-full backward hooks on a Module that does not take as input a single Tensor or a tuple of Tensors is deprecated and will be removed in future versions. This hook will be missing some of the grad_input. Please use register_full_backward_hook to get the documented behavior.\n",
            "  warnings.warn(\"Using non-full backward hooks on a Module that does not take as input a \"\n",
            "/usr/local/lib/python3.9/dist-packages/torch/nn/modules/module.py:795: UserWarning: Using a non-full backward hook when the forward contains multiple autograd Nodes is deprecated and will be removed in future versions. This hook will be missing some grad_input. Please use register_full_backward_hook to get the documented behavior.\n",
            "  warnings.warn(\"Using a non-full backward hook when the forward contains multiple autograd Nodes \"\n",
            "/usr/local/lib/python3.9/dist-packages/torch/nn/modules/module.py:760: UserWarning: Using non-full backward hooks on a Module that does not return a single Tensor or a tuple of Tensors is deprecated and will be removed in future versions. This hook will be missing some of the grad_output. Please use register_full_backward_hook to get the documented behavior.\n",
            "  warnings.warn(\"Using non-full backward hooks on a Module that does not return a \"\n",
            "/usr/local/lib/python3.9/dist-packages/torch/nn/functional.py:2607: UserWarning: reduction: 'mean' divides the total loss by both the batch size and the support size.'batchmean' divides only by the batch size, and aligns with the KL div math definition.'mean' will be changed to behave the same as 'batchmean' in the next major release.\n",
            "  warnings.warn(\n",
            "0% [██████████████████████████████] 100% | ETA: 00:00:00\n",
            "Total time elapsed: 00:00:52\n"
          ]
        },
        {
          "output_type": "stream",
          "name": "stdout",
          "text": [
            "Finished Epoch 1 || Run Time:   36.2 | Load Time:   16.3 || F1:  90.08 | Prec:  84.23 | Rec:  96.82 || Ex/s: 621.08\n",
            "\n",
            "===>  EVAL Epoch 1\n"
          ]
        },
        {
          "output_type": "stream",
          "name": "stderr",
          "text": [
            "0% [██████████████████████████████] 100% | ETA: 00:00:00\n",
            "Total time elapsed: 00:00:11\n"
          ]
        },
        {
          "output_type": "stream",
          "name": "stdout",
          "text": [
            "Finished Epoch 1 || Run Time:    5.6 | Load Time:    5.5 || F1:  94.98 | Prec:  93.88 | Rec:  96.10 || Ex/s: 983.76\n",
            "\n",
            "* Best F1: tensor(94.9752, device='cuda:0')\n",
            "Saving best model...\n",
            "Done.\n",
            "---------------------\n",
            "\n",
            "===>  TRAIN Epoch 2\n"
          ]
        },
        {
          "output_type": "stream",
          "name": "stderr",
          "text": [
            "0% [██████████████████████████████] 100% | ETA: 00:00:00\n",
            "Total time elapsed: 00:00:53\n"
          ]
        },
        {
          "output_type": "stream",
          "name": "stdout",
          "text": [
            "Finished Epoch 2 || Run Time:   37.2 | Load Time:   16.5 || F1:  96.00 | Prec:  93.75 | Rec:  98.35 || Ex/s: 607.14\n",
            "\n",
            "===>  EVAL Epoch 2\n"
          ]
        },
        {
          "output_type": "stream",
          "name": "stderr",
          "text": [
            "0% [██████████████████████████████] 100% | ETA: 00:00:00\n",
            "Total time elapsed: 00:00:10\n"
          ]
        },
        {
          "output_type": "stream",
          "name": "stdout",
          "text": [
            "Finished Epoch 2 || Run Time:    5.5 | Load Time:    5.4 || F1:  96.38 | Prec:  94.83 | Rec:  97.99 || Ex/s: 995.69\n",
            "\n",
            "* Best F1: tensor(96.3827, device='cuda:0')\n",
            "Saving best model...\n",
            "Done.\n",
            "---------------------\n",
            "\n",
            "===>  TRAIN Epoch 3\n"
          ]
        },
        {
          "output_type": "stream",
          "name": "stderr",
          "text": [
            "0% [██████████████████████████████] 100% | ETA: 00:00:00\n",
            "Total time elapsed: 00:00:53\n"
          ]
        },
        {
          "output_type": "stream",
          "name": "stdout",
          "text": [
            "Finished Epoch 3 || Run Time:   36.8 | Load Time:   16.4 || F1:  97.29 | Prec:  95.73 | Rec:  98.90 || Ex/s: 613.53\n",
            "\n",
            "===>  EVAL Epoch 3\n"
          ]
        },
        {
          "output_type": "stream",
          "name": "stderr",
          "text": [
            "0% [██████████████████████████████] 100% | ETA: 00:00:00\n",
            "Total time elapsed: 00:00:10\n"
          ]
        },
        {
          "output_type": "stream",
          "name": "stdout",
          "text": [
            "Finished Epoch 3 || Run Time:    5.4 | Load Time:    5.4 || F1:  97.09 | Prec:  95.72 | Rec:  98.49 || Ex/s: 998.66\n",
            "\n",
            "* Best F1: tensor(97.0880, device='cuda:0')\n",
            "Saving best model...\n",
            "Done.\n",
            "---------------------\n",
            "\n",
            "===>  TRAIN Epoch 4\n"
          ]
        },
        {
          "output_type": "stream",
          "name": "stderr",
          "text": [
            "0% [██████████████████████████████] 100% | ETA: 00:00:00\n",
            "Total time elapsed: 00:00:53\n"
          ]
        },
        {
          "output_type": "stream",
          "name": "stdout",
          "text": [
            "Finished Epoch 4 || Run Time:   36.8 | Load Time:   16.4 || F1:  98.19 | Prec:  97.03 | Rec:  99.37 || Ex/s: 612.58\n",
            "\n",
            "===>  EVAL Epoch 4\n"
          ]
        },
        {
          "output_type": "stream",
          "name": "stderr",
          "text": [
            "0% [██████████████████████████████] 100% | ETA: 00:00:00\n",
            "Total time elapsed: 00:00:10\n"
          ]
        },
        {
          "output_type": "stream",
          "name": "stdout",
          "text": [
            "Finished Epoch 4 || Run Time:    5.5 | Load Time:    5.5 || F1:  97.54 | Prec:  96.68 | Rec:  98.41 || Ex/s: 996.15\n",
            "\n",
            "* Best F1: tensor(97.5401, device='cuda:0')\n",
            "Saving best model...\n",
            "Done.\n",
            "---------------------\n",
            "\n",
            "===>  TRAIN Epoch 5\n"
          ]
        },
        {
          "output_type": "stream",
          "name": "stderr",
          "text": [
            "0% [██████████████████████████████] 100% | ETA: 00:00:00\n",
            "Total time elapsed: 00:00:53\n"
          ]
        },
        {
          "output_type": "stream",
          "name": "stdout",
          "text": [
            "Finished Epoch 5 || Run Time:   36.9 | Load Time:   16.5 || F1:  98.59 | Prec:  97.75 | Rec:  99.45 || Ex/s: 611.38\n",
            "\n",
            "===>  EVAL Epoch 5\n"
          ]
        },
        {
          "output_type": "stream",
          "name": "stderr",
          "text": [
            "0% [██████████████████████████████] 100% | ETA: 00:00:00\n",
            "Total time elapsed: 00:00:10\n"
          ]
        },
        {
          "output_type": "stream",
          "name": "stdout",
          "text": [
            "Finished Epoch 5 || Run Time:    5.4 | Load Time:    5.4 || F1:  97.53 | Prec:  96.32 | Rec:  98.77 || Ex/s: 1001.96\n",
            "\n",
            "---------------------\n",
            "\n",
            "===>  TRAIN Epoch 6\n"
          ]
        },
        {
          "output_type": "stream",
          "name": "stderr",
          "text": [
            "0% [██████████████████████████████] 100% | ETA: 00:00:00\n",
            "Total time elapsed: 00:00:53\n"
          ]
        },
        {
          "output_type": "stream",
          "name": "stdout",
          "text": [
            "Finished Epoch 6 || Run Time:   36.8 | Load Time:   16.4 || F1:  99.05 | Prec:  98.51 | Rec:  99.60 || Ex/s: 613.03\n",
            "\n",
            "===>  EVAL Epoch 6\n"
          ]
        },
        {
          "output_type": "stream",
          "name": "stderr",
          "text": [
            "0% [██████████████████████████████] 100% | ETA: 00:00:00\n",
            "Total time elapsed: 00:00:10\n"
          ]
        },
        {
          "output_type": "stream",
          "name": "stdout",
          "text": [
            "Finished Epoch 6 || Run Time:    5.4 | Load Time:    5.4 || F1:  98.22 | Prec:  97.98 | Rec:  98.45 || Ex/s: 1006.54\n",
            "\n",
            "* Best F1: tensor(98.2157, device='cuda:0')\n",
            "Saving best model...\n",
            "Done.\n",
            "---------------------\n",
            "\n",
            "===>  TRAIN Epoch 7\n"
          ]
        },
        {
          "output_type": "stream",
          "name": "stderr",
          "text": [
            "0% [██████████████████████████████] 100% | ETA: 00:00:00\n",
            "Total time elapsed: 00:00:53\n"
          ]
        },
        {
          "output_type": "stream",
          "name": "stdout",
          "text": [
            "Finished Epoch 7 || Run Time:   36.8 | Load Time:   16.4 || F1:  99.30 | Prec:  98.93 | Rec:  99.68 || Ex/s: 612.70\n",
            "\n",
            "===>  EVAL Epoch 7\n"
          ]
        },
        {
          "output_type": "stream",
          "name": "stderr",
          "text": [
            "0% [██████████████████████████████] 100% | ETA: 00:00:00\n",
            "Total time elapsed: 00:00:10\n"
          ]
        },
        {
          "output_type": "stream",
          "name": "stdout",
          "text": [
            "Finished Epoch 7 || Run Time:    5.4 | Load Time:    5.4 || F1:  98.32 | Prec:  97.83 | Rec:  98.81 || Ex/s: 1002.64\n",
            "\n",
            "* Best F1: tensor(98.3203, device='cuda:0')\n",
            "Saving best model...\n",
            "Done.\n",
            "---------------------\n",
            "\n",
            "===>  TRAIN Epoch 8\n"
          ]
        },
        {
          "output_type": "stream",
          "name": "stderr",
          "text": [
            "0% [██████████████████████████████] 100% | ETA: 00:00:00\n",
            "Total time elapsed: 00:00:52\n"
          ]
        },
        {
          "output_type": "stream",
          "name": "stdout",
          "text": [
            "Finished Epoch 8 || Run Time:   36.4 | Load Time:   16.4 || F1:  99.45 | Prec:  99.16 | Rec:  99.75 || Ex/s: 618.20\n",
            "\n",
            "===>  EVAL Epoch 8\n"
          ]
        },
        {
          "output_type": "stream",
          "name": "stderr",
          "text": [
            "0% [██████████████████████████████] 100% | ETA: 00:00:00\n",
            "Total time elapsed: 00:00:10\n"
          ]
        },
        {
          "output_type": "stream",
          "name": "stdout",
          "text": [
            "Finished Epoch 8 || Run Time:    5.4 | Load Time:    5.4 || F1:  98.47 | Prec:  98.10 | Rec:  98.83 || Ex/s: 1004.99\n",
            "\n",
            "* Best F1: tensor(98.4683, device='cuda:0')\n",
            "Saving best model...\n",
            "Done.\n",
            "---------------------\n",
            "\n",
            "===>  TRAIN Epoch 9\n"
          ]
        },
        {
          "output_type": "stream",
          "name": "stderr",
          "text": [
            "0% [██████████████████████████████] 100% | ETA: 00:00:00\n",
            "Total time elapsed: 00:00:53\n"
          ]
        },
        {
          "output_type": "stream",
          "name": "stdout",
          "text": [
            "Finished Epoch 9 || Run Time:   36.7 | Load Time:   16.4 || F1:  99.55 | Prec:  99.32 | Rec:  99.79 || Ex/s: 613.51\n",
            "\n",
            "===>  EVAL Epoch 9\n"
          ]
        },
        {
          "output_type": "stream",
          "name": "stderr",
          "text": [
            "0% [██████████████████████████████] 100% | ETA: 00:00:00\n",
            "Total time elapsed: 00:00:10\n"
          ]
        },
        {
          "output_type": "stream",
          "name": "stdout",
          "text": [
            "Finished Epoch 9 || Run Time:    5.4 | Load Time:    5.4 || F1:  98.66 | Prec:  98.44 | Rec:  98.87 || Ex/s: 1003.57\n",
            "\n",
            "* Best F1: tensor(98.6565, device='cuda:0')\n",
            "Saving best model...\n",
            "Done.\n",
            "---------------------\n",
            "\n",
            "===>  TRAIN Epoch 10\n"
          ]
        },
        {
          "output_type": "stream",
          "name": "stderr",
          "text": [
            "0% [██████████████████████████████] 100% | ETA: 00:00:00\n",
            "Total time elapsed: 00:00:52\n"
          ]
        },
        {
          "output_type": "stream",
          "name": "stdout",
          "text": [
            "Finished Epoch 10 || Run Time:   36.5 | Load Time:   16.4 || F1:  99.70 | Prec:  99.55 | Rec:  99.85 || Ex/s: 616.20\n",
            "\n",
            "===>  EVAL Epoch 10\n"
          ]
        },
        {
          "output_type": "stream",
          "name": "stderr",
          "text": [
            "0% [██████████████████████████████] 100% | ETA: 00:00:00\n",
            "Total time elapsed: 00:00:10\n"
          ]
        },
        {
          "output_type": "stream",
          "name": "stdout",
          "text": [
            "Finished Epoch 10 || Run Time:    5.4 | Load Time:    5.4 || F1:  98.72 | Prec:  98.66 | Rec:  98.79 || Ex/s: 1004.80\n",
            "\n",
            "* Best F1: tensor(98.7248, device='cuda:0')\n",
            "Saving best model...\n",
            "Done.\n",
            "---------------------\n",
            "\n",
            "Loading best model...\n",
            "Training done.\n"
          ]
        },
        {
          "output_type": "execute_result",
          "data": {
            "text/plain": [
              "tensor(98.7248, device='cuda:0')"
            ]
          },
          "metadata": {},
          "execution_count": 56
        }
      ],
      "source": [
        "model8.run_train(\n",
        "    train,\n",
        "    validation,\n",
        "    epochs=10,\n",
        "    batch_size=16,\n",
        "    best_save_path='rnn_model8.pth',\n",
        "    pos_neg_ratio=3)"
      ]
    },
    {
      "cell_type": "code",
      "execution_count": null,
      "metadata": {
        "colab": {
          "base_uri": "https://localhost:8080/"
        },
        "id": "N5LRNJbLL1hZ",
        "outputId": "3939923d-f22e-44eb-dd90-0696f0d765d7"
      },
      "outputs": [
        {
          "output_type": "stream",
          "name": "stdout",
          "text": [
            "===>  EVAL Epoch 10\n"
          ]
        },
        {
          "output_type": "stream",
          "name": "stderr",
          "text": [
            "0% [██████████████████████████████] 100% | ETA: 00:00:00\n",
            "Total time elapsed: 00:00:08\n"
          ]
        },
        {
          "output_type": "stream",
          "name": "stdout",
          "text": [
            "Finished Epoch 10 || Run Time:    2.8 | Load Time:    5.4 || F1:  98.81 | Prec:  98.52 | Rec:  99.10 || Ex/s: 1322.33\n",
            "\n"
          ]
        },
        {
          "output_type": "execute_result",
          "data": {
            "text/plain": [
              "tensor(98.8070, device='cuda:0')"
            ]
          },
          "metadata": {},
          "execution_count": 57
        }
      ],
      "source": [
        "model8.run_eval(test)"
      ]
    },
    {
      "cell_type": "markdown",
      "metadata": {
        "id": "xgzRLvm7MbGU"
      },
      "source": [
        "CV9"
      ]
    },
    {
      "cell_type": "code",
      "execution_count": null,
      "metadata": {
        "id": "ORYN6L0_Mdav"
      },
      "outputs": [],
      "source": [
        "df9 = pd.read_csv('/content/BPOM_Tokped_Shuffled_9.csv')"
      ]
    },
    {
      "cell_type": "code",
      "execution_count": null,
      "metadata": {
        "id": "kq7lQBiCMhhx"
      },
      "outputs": [],
      "source": [
        "dm.data.split(df9, split_path, 'train9.csv', 'valid9.csv', 'test9.csv',\n",
        "              [3, 1, 1])"
      ]
    },
    {
      "cell_type": "code",
      "execution_count": null,
      "metadata": {
        "colab": {
          "base_uri": "https://localhost:8080/"
        },
        "id": "k4y6kjOLMg-p",
        "outputId": "5aa9243f-3c5b-4d3a-860f-b7ba605780bd"
      },
      "outputs": [
        {
          "output_type": "stream",
          "name": "stderr",
          "text": [
            "\n",
            "Reading and processing data from \"/content/sample_data/train9.csv\"\n",
            "0% [##############################] 100% | ETA: 00:00:00\n",
            "Reading and processing data from \"/content/sample_data/valid9.csv\"\n",
            "0% [############################# ] 100% | ETA: 00:00:00\n",
            "Reading and processing data from \"/content/sample_data/test9.csv\"\n",
            "0% [############################# ] 100% | ETA: 00:00:00\n",
            "Building vocabulary\n",
            "0% [##############################] 100% | ETA: 00:00:00\n",
            "Total time elapsed: 00:00:00\n",
            "\n",
            "Computing principal components\n",
            "0% [##############################] 100% | ETA: 00:00:00\n",
            "Total time elapsed: 00:00:03\n"
          ]
        }
      ],
      "source": [
        "train, validation, test = dm.data.process(\n",
        "    path=split_path,\n",
        "    cache='train_cache9.pth',\n",
        "    train='train9.csv',\n",
        "    validation='valid9.csv',\n",
        "    test='test9.csv',\n",
        "    use_magellan_convention=True,\n",
        "    ignore_columns=('ltable_Unnamed: 0', 'rtable_Unnamed: 0'))"
      ]
    },
    {
      "cell_type": "code",
      "execution_count": null,
      "metadata": {
        "id": "LAOFxxFoMgc5"
      },
      "outputs": [],
      "source": [
        "model9 = dm.MatchingModel(attr_summarizer='rnn')"
      ]
    },
    {
      "cell_type": "code",
      "execution_count": null,
      "metadata": {
        "colab": {
          "base_uri": "https://localhost:8080/"
        },
        "id": "g7483-VeMf44",
        "outputId": "862eaf9a-1ae4-4e47-84c7-780565fcd109"
      },
      "outputs": [
        {
          "output_type": "stream",
          "name": "stdout",
          "text": [
            "* Number of trainable parameters: 1356002\n",
            "===>  TRAIN Epoch 1\n"
          ]
        },
        {
          "output_type": "stream",
          "name": "stderr",
          "text": [
            "/usr/local/lib/python3.9/dist-packages/torch/nn/modules/module.py:770: UserWarning: Using non-full backward hooks on a Module that does not take as input a single Tensor or a tuple of Tensors is deprecated and will be removed in future versions. This hook will be missing some of the grad_input. Please use register_full_backward_hook to get the documented behavior.\n",
            "  warnings.warn(\"Using non-full backward hooks on a Module that does not take as input a \"\n",
            "/usr/local/lib/python3.9/dist-packages/torch/nn/modules/module.py:795: UserWarning: Using a non-full backward hook when the forward contains multiple autograd Nodes is deprecated and will be removed in future versions. This hook will be missing some grad_input. Please use register_full_backward_hook to get the documented behavior.\n",
            "  warnings.warn(\"Using a non-full backward hook when the forward contains multiple autograd Nodes \"\n",
            "/usr/local/lib/python3.9/dist-packages/torch/nn/modules/module.py:760: UserWarning: Using non-full backward hooks on a Module that does not return a single Tensor or a tuple of Tensors is deprecated and will be removed in future versions. This hook will be missing some of the grad_output. Please use register_full_backward_hook to get the documented behavior.\n",
            "  warnings.warn(\"Using non-full backward hooks on a Module that does not return a \"\n",
            "/usr/local/lib/python3.9/dist-packages/torch/nn/functional.py:2607: UserWarning: reduction: 'mean' divides the total loss by both the batch size and the support size.'batchmean' divides only by the batch size, and aligns with the KL div math definition.'mean' will be changed to behave the same as 'batchmean' in the next major release.\n",
            "  warnings.warn(\n",
            "0% [██████████████████████████████] 100% | ETA: 00:00:00\n",
            "Total time elapsed: 00:00:53\n"
          ]
        },
        {
          "output_type": "stream",
          "name": "stdout",
          "text": [
            "Finished Epoch 1 || Run Time:   36.9 | Load Time:   16.5 || F1:  90.14 | Prec:  84.36 | Rec:  96.78 || Ex/s: 611.04\n",
            "\n",
            "===>  EVAL Epoch 1\n"
          ]
        },
        {
          "output_type": "stream",
          "name": "stderr",
          "text": [
            "0% [██████████████████████████████] 100% | ETA: 00:00:00\n",
            "Total time elapsed: 00:00:10\n"
          ]
        },
        {
          "output_type": "stream",
          "name": "stdout",
          "text": [
            "Finished Epoch 1 || Run Time:    5.4 | Load Time:    5.4 || F1:  94.19 | Prec:  90.30 | Rec:  98.43 || Ex/s: 1000.46\n",
            "\n",
            "* Best F1: tensor(94.1869, device='cuda:0')\n",
            "Saving best model...\n",
            "Done.\n",
            "---------------------\n",
            "\n",
            "===>  TRAIN Epoch 2\n"
          ]
        },
        {
          "output_type": "stream",
          "name": "stderr",
          "text": [
            "0% [██████████████████████████████] 100% | ETA: 00:00:00\n",
            "Total time elapsed: 00:00:52\n"
          ]
        },
        {
          "output_type": "stream",
          "name": "stdout",
          "text": [
            "Finished Epoch 2 || Run Time:   36.6 | Load Time:   16.4 || F1:  95.89 | Prec:  93.56 | Rec:  98.35 || Ex/s: 615.80\n",
            "\n",
            "===>  EVAL Epoch 2\n"
          ]
        },
        {
          "output_type": "stream",
          "name": "stderr",
          "text": [
            "0% [██████████████████████████████] 100% | ETA: 00:00:00\n",
            "Total time elapsed: 00:00:10\n"
          ]
        },
        {
          "output_type": "stream",
          "name": "stdout",
          "text": [
            "Finished Epoch 2 || Run Time:    5.5 | Load Time:    5.4 || F1:  95.44 | Prec:  92.60 | Rec:  98.47 || Ex/s: 998.37\n",
            "\n",
            "* Best F1: tensor(95.4421, device='cuda:0')\n",
            "Saving best model...\n",
            "Done.\n",
            "---------------------\n",
            "\n",
            "===>  TRAIN Epoch 3\n"
          ]
        },
        {
          "output_type": "stream",
          "name": "stderr",
          "text": [
            "0% [██████████████████████████████] 100% | ETA: 00:00:00\n",
            "Total time elapsed: 00:00:52\n"
          ]
        },
        {
          "output_type": "stream",
          "name": "stdout",
          "text": [
            "Finished Epoch 3 || Run Time:   36.6 | Load Time:   16.4 || F1:  97.20 | Prec:  95.52 | Rec:  98.94 || Ex/s: 615.93\n",
            "\n",
            "===>  EVAL Epoch 3\n"
          ]
        },
        {
          "output_type": "stream",
          "name": "stderr",
          "text": [
            "0% [██████████████████████████████] 100% | ETA: 00:00:00\n",
            "Total time elapsed: 00:00:10\n"
          ]
        },
        {
          "output_type": "stream",
          "name": "stdout",
          "text": [
            "Finished Epoch 3 || Run Time:    5.5 | Load Time:    5.4 || F1:  96.69 | Prec:  95.48 | Rec:  97.94 || Ex/s: 997.81\n",
            "\n",
            "* Best F1: tensor(96.6926, device='cuda:0')\n",
            "Saving best model...\n",
            "Done.\n",
            "---------------------\n",
            "\n",
            "===>  TRAIN Epoch 4\n"
          ]
        },
        {
          "output_type": "stream",
          "name": "stderr",
          "text": [
            "0% [██████████████████████████████] 100% | ETA: 00:00:00\n",
            "Total time elapsed: 00:00:52\n"
          ]
        },
        {
          "output_type": "stream",
          "name": "stdout",
          "text": [
            "Finished Epoch 4 || Run Time:   36.5 | Load Time:   16.3 || F1:  98.12 | Prec:  96.91 | Rec:  99.35 || Ex/s: 617.24\n",
            "\n",
            "===>  EVAL Epoch 4\n"
          ]
        },
        {
          "output_type": "stream",
          "name": "stderr",
          "text": [
            "0% [██████████████████████████████] 100% | ETA: 00:00:00\n",
            "Total time elapsed: 00:00:10\n"
          ]
        },
        {
          "output_type": "stream",
          "name": "stdout",
          "text": [
            "Finished Epoch 4 || Run Time:    5.4 | Load Time:    5.4 || F1:  97.37 | Prec:  96.64 | Rec:  98.10 || Ex/s: 1009.65\n",
            "\n",
            "* Best F1: tensor(97.3661, device='cuda:0')\n",
            "Saving best model...\n",
            "Done.\n",
            "---------------------\n",
            "\n",
            "===>  TRAIN Epoch 5\n"
          ]
        },
        {
          "output_type": "stream",
          "name": "stderr",
          "text": [
            "0% [██████████████████████████████] 100% | ETA: 00:00:00\n",
            "Total time elapsed: 00:00:52\n"
          ]
        },
        {
          "output_type": "stream",
          "name": "stdout",
          "text": [
            "Finished Epoch 5 || Run Time:   36.7 | Load Time:   16.4 || F1:  98.64 | Prec:  97.77 | Rec:  99.54 || Ex/s: 615.01\n",
            "\n",
            "===>  EVAL Epoch 5\n"
          ]
        },
        {
          "output_type": "stream",
          "name": "stderr",
          "text": [
            "0% [██████████████████████████████] 100% | ETA: 00:00:00\n",
            "Total time elapsed: 00:00:10\n"
          ]
        },
        {
          "output_type": "stream",
          "name": "stdout",
          "text": [
            "Finished Epoch 5 || Run Time:    5.4 | Load Time:    5.4 || F1:  97.68 | Prec:  96.73 | Rec:  98.65 || Ex/s: 1013.16\n",
            "\n",
            "* Best F1: tensor(97.6818, device='cuda:0')\n",
            "Saving best model...\n",
            "Done.\n",
            "---------------------\n",
            "\n",
            "===>  TRAIN Epoch 6\n"
          ]
        },
        {
          "output_type": "stream",
          "name": "stderr",
          "text": [
            "0% [██████████████████████████████] 100% | ETA: 00:00:00\n",
            "Total time elapsed: 00:00:52\n"
          ]
        },
        {
          "output_type": "stream",
          "name": "stdout",
          "text": [
            "Finished Epoch 6 || Run Time:   36.6 | Load Time:   16.4 || F1:  99.03 | Prec:  98.40 | Rec:  99.67 || Ex/s: 615.05\n",
            "\n",
            "===>  EVAL Epoch 6\n"
          ]
        },
        {
          "output_type": "stream",
          "name": "stderr",
          "text": [
            "0% [██████████████████████████████] 100% | ETA: 00:00:00\n",
            "Total time elapsed: 00:00:10\n"
          ]
        },
        {
          "output_type": "stream",
          "name": "stdout",
          "text": [
            "Finished Epoch 6 || Run Time:    5.4 | Load Time:    5.3 || F1:  98.07 | Prec:  97.64 | Rec:  98.51 || Ex/s: 1011.69\n",
            "\n",
            "* Best F1: tensor(98.0711, device='cuda:0')\n",
            "Saving best model...\n",
            "Done.\n",
            "---------------------\n",
            "\n",
            "===>  TRAIN Epoch 7\n"
          ]
        },
        {
          "output_type": "stream",
          "name": "stderr",
          "text": [
            "0% [██████████████████████████████] 100% | ETA: 00:00:00\n",
            "Total time elapsed: 00:00:53\n"
          ]
        },
        {
          "output_type": "stream",
          "name": "stdout",
          "text": [
            "Finished Epoch 7 || Run Time:   36.7 | Load Time:   16.5 || F1:  99.31 | Prec:  98.87 | Rec:  99.75 || Ex/s: 612.86\n",
            "\n",
            "===>  EVAL Epoch 7\n"
          ]
        },
        {
          "output_type": "stream",
          "name": "stderr",
          "text": [
            "0% [██████████████████████████████] 100% | ETA: 00:00:00\n",
            "Total time elapsed: 00:00:10\n"
          ]
        },
        {
          "output_type": "stream",
          "name": "stdout",
          "text": [
            "Finished Epoch 7 || Run Time:    5.5 | Load Time:    5.4 || F1:  98.29 | Prec:  98.03 | Rec:  98.55 || Ex/s: 998.76\n",
            "\n",
            "* Best F1: tensor(98.2891, device='cuda:0')\n",
            "Saving best model...\n",
            "Done.\n",
            "---------------------\n",
            "\n",
            "===>  TRAIN Epoch 8\n"
          ]
        },
        {
          "output_type": "stream",
          "name": "stderr",
          "text": [
            "0% [██████████████████████████████] 100% | ETA: 00:00:00\n",
            "Total time elapsed: 00:00:53\n"
          ]
        },
        {
          "output_type": "stream",
          "name": "stdout",
          "text": [
            "Finished Epoch 8 || Run Time:   36.9 | Load Time:   16.5 || F1:  99.50 | Prec:  99.18 | Rec:  99.83 || Ex/s: 610.66\n",
            "\n",
            "===>  EVAL Epoch 8\n"
          ]
        },
        {
          "output_type": "stream",
          "name": "stderr",
          "text": [
            "0% [██████████████████████████████] 100% | ETA: 00:00:00\n",
            "Total time elapsed: 00:00:10\n"
          ]
        },
        {
          "output_type": "stream",
          "name": "stdout",
          "text": [
            "Finished Epoch 8 || Run Time:    5.4 | Load Time:    5.4 || F1:  98.30 | Prec:  98.44 | Rec:  98.16 || Ex/s: 1000.11\n",
            "\n",
            "* Best F1: tensor(98.3024, device='cuda:0')\n",
            "Saving best model...\n",
            "Done.\n",
            "---------------------\n",
            "\n",
            "===>  TRAIN Epoch 9\n"
          ]
        },
        {
          "output_type": "stream",
          "name": "stderr",
          "text": [
            "0% [██████████████████████████████] 100% | ETA: 00:00:00\n",
            "Total time elapsed: 00:00:53\n"
          ]
        },
        {
          "output_type": "stream",
          "name": "stdout",
          "text": [
            "Finished Epoch 9 || Run Time:   36.8 | Load Time:   16.4 || F1:  99.60 | Prec:  99.36 | Rec:  99.84 || Ex/s: 613.02\n",
            "\n",
            "===>  EVAL Epoch 9\n"
          ]
        },
        {
          "output_type": "stream",
          "name": "stderr",
          "text": [
            "0% [██████████████████████████████] 100% | ETA: 00:00:00\n",
            "Total time elapsed: 00:00:10\n"
          ]
        },
        {
          "output_type": "stream",
          "name": "stdout",
          "text": [
            "Finished Epoch 9 || Run Time:    5.5 | Load Time:    5.4 || F1:  98.46 | Prec:  98.64 | Rec:  98.28 || Ex/s: 996.07\n",
            "\n",
            "* Best F1: tensor(98.4634, device='cuda:0')\n",
            "Saving best model...\n",
            "Done.\n",
            "---------------------\n",
            "\n",
            "===>  TRAIN Epoch 10\n"
          ]
        },
        {
          "output_type": "stream",
          "name": "stderr",
          "text": [
            "0% [██████████████████████████████] 100% | ETA: 00:00:00\n",
            "Total time elapsed: 00:00:53\n"
          ]
        },
        {
          "output_type": "stream",
          "name": "stdout",
          "text": [
            "Finished Epoch 10 || Run Time:   37.1 | Load Time:   16.5 || F1:  99.70 | Prec:  99.53 | Rec:  99.87 || Ex/s: 608.51\n",
            "\n",
            "===>  EVAL Epoch 10\n"
          ]
        },
        {
          "output_type": "stream",
          "name": "stderr",
          "text": [
            "0% [██████████████████████████████] 100% | ETA: 00:00:00\n",
            "Total time elapsed: 00:00:10\n"
          ]
        },
        {
          "output_type": "stream",
          "name": "stdout",
          "text": [
            "Finished Epoch 10 || Run Time:    5.5 | Load Time:    5.4 || F1:  98.54 | Prec:  98.68 | Rec:  98.41 || Ex/s: 996.21\n",
            "\n",
            "* Best F1: tensor(98.5449, device='cuda:0')\n",
            "Saving best model...\n",
            "Done.\n",
            "---------------------\n",
            "\n",
            "Loading best model...\n",
            "Training done.\n"
          ]
        },
        {
          "output_type": "execute_result",
          "data": {
            "text/plain": [
              "tensor(98.5449, device='cuda:0')"
            ]
          },
          "metadata": {},
          "execution_count": 62
        }
      ],
      "source": [
        "model9.run_train(\n",
        "    train,\n",
        "    validation,\n",
        "    epochs=10,\n",
        "    batch_size=16,\n",
        "    best_save_path='rnn_model9.pth',\n",
        "    pos_neg_ratio=3)"
      ]
    },
    {
      "cell_type": "code",
      "execution_count": null,
      "metadata": {
        "colab": {
          "base_uri": "https://localhost:8080/"
        },
        "id": "wVcjyDyKMfJs",
        "outputId": "b41d53d0-48c2-4c55-a084-a6445a5ac93c"
      },
      "outputs": [
        {
          "output_type": "stream",
          "name": "stdout",
          "text": [
            "===>  EVAL Epoch 10\n"
          ]
        },
        {
          "output_type": "stream",
          "name": "stderr",
          "text": [
            "0% [██████████████████████████████] 100% | ETA: 00:00:00\n",
            "Total time elapsed: 00:00:08\n"
          ]
        },
        {
          "output_type": "stream",
          "name": "stdout",
          "text": [
            "Finished Epoch 10 || Run Time:    3.0 | Load Time:    5.5 || F1:  98.69 | Prec:  98.60 | Rec:  98.78 || Ex/s: 1287.08\n",
            "\n"
          ]
        },
        {
          "output_type": "execute_result",
          "data": {
            "text/plain": [
              "tensor(98.6920, device='cuda:0')"
            ]
          },
          "metadata": {},
          "execution_count": 63
        }
      ],
      "source": [
        "model9.run_eval(test)"
      ]
    },
    {
      "cell_type": "markdown",
      "metadata": {
        "id": "8Sfm6ceRNCIz"
      },
      "source": [
        "CV10"
      ]
    },
    {
      "cell_type": "code",
      "execution_count": null,
      "metadata": {
        "id": "KkZtaE3mNIuk"
      },
      "outputs": [],
      "source": [
        "df10 = pd.read_csv('/content/BPOM_Tokped_Shuffled_10.csv')"
      ]
    },
    {
      "cell_type": "code",
      "execution_count": null,
      "metadata": {
        "id": "RkUhYrKxNIIn"
      },
      "outputs": [],
      "source": [
        "dm.data.split(df10, split_path, 'train10.csv', 'valid10.csv', 'test10.csv',\n",
        "              [3, 1, 1])"
      ]
    },
    {
      "cell_type": "code",
      "execution_count": null,
      "metadata": {
        "colab": {
          "base_uri": "https://localhost:8080/"
        },
        "id": "wR6IsWd4NHnX",
        "outputId": "ed4c05f1-a82b-48c8-ef0e-624cbecb0c75"
      },
      "outputs": [
        {
          "output_type": "stream",
          "name": "stderr",
          "text": [
            "\n",
            "Reading and processing data from \"/content/sample_data/train10.csv\"\n",
            "0% [##############################] 100% | ETA: 00:00:00\n",
            "Reading and processing data from \"/content/sample_data/valid10.csv\"\n",
            "0% [############################# ] 100% | ETA: 00:00:00\n",
            "Reading and processing data from \"/content/sample_data/test10.csv\"\n",
            "0% [############################# ] 100% | ETA: 00:00:00\n",
            "Building vocabulary\n",
            "0% [##############################] 100% | ETA: 00:00:00\n",
            "Total time elapsed: 00:00:00\n",
            "\n",
            "Computing principal components\n",
            "0% [##############################] 100% | ETA: 00:00:00\n",
            "Total time elapsed: 00:00:03\n"
          ]
        }
      ],
      "source": [
        "train, validation, test = dm.data.process(\n",
        "    path=split_path,\n",
        "    cache='train_cache10.pth',\n",
        "    train='train10.csv',\n",
        "    validation='valid10.csv',\n",
        "    test='test10.csv',\n",
        "    use_magellan_convention=True,\n",
        "    ignore_columns=('ltable_Unnamed: 0', 'rtable_Unnamed: 0'))"
      ]
    },
    {
      "cell_type": "code",
      "execution_count": null,
      "metadata": {
        "id": "aPCD4gddNHEt"
      },
      "outputs": [],
      "source": [
        "model10 = dm.MatchingModel(attr_summarizer='rnn')"
      ]
    },
    {
      "cell_type": "code",
      "execution_count": null,
      "metadata": {
        "colab": {
          "base_uri": "https://localhost:8080/"
        },
        "id": "a-RmpIvONEvz",
        "outputId": "e014aa44-57cf-4a06-caf8-70a2a681687a"
      },
      "outputs": [
        {
          "output_type": "stream",
          "name": "stdout",
          "text": [
            "* Number of trainable parameters: 1356002\n",
            "===>  TRAIN Epoch 1\n"
          ]
        },
        {
          "output_type": "stream",
          "name": "stderr",
          "text": [
            "/usr/local/lib/python3.9/dist-packages/torch/nn/modules/module.py:770: UserWarning: Using non-full backward hooks on a Module that does not take as input a single Tensor or a tuple of Tensors is deprecated and will be removed in future versions. This hook will be missing some of the grad_input. Please use register_full_backward_hook to get the documented behavior.\n",
            "  warnings.warn(\"Using non-full backward hooks on a Module that does not take as input a \"\n",
            "/usr/local/lib/python3.9/dist-packages/torch/nn/modules/module.py:795: UserWarning: Using a non-full backward hook when the forward contains multiple autograd Nodes is deprecated and will be removed in future versions. This hook will be missing some grad_input. Please use register_full_backward_hook to get the documented behavior.\n",
            "  warnings.warn(\"Using a non-full backward hook when the forward contains multiple autograd Nodes \"\n",
            "/usr/local/lib/python3.9/dist-packages/torch/nn/modules/module.py:760: UserWarning: Using non-full backward hooks on a Module that does not return a single Tensor or a tuple of Tensors is deprecated and will be removed in future versions. This hook will be missing some of the grad_output. Please use register_full_backward_hook to get the documented behavior.\n",
            "  warnings.warn(\"Using non-full backward hooks on a Module that does not return a \"\n",
            "/usr/local/lib/python3.9/dist-packages/torch/nn/functional.py:2607: UserWarning: reduction: 'mean' divides the total loss by both the batch size and the support size.'batchmean' divides only by the batch size, and aligns with the KL div math definition.'mean' will be changed to behave the same as 'batchmean' in the next major release.\n",
            "  warnings.warn(\n",
            "0% [██████████████████████████████] 100% | ETA: 00:00:00\n",
            "Total time elapsed: 00:00:53\n"
          ]
        },
        {
          "output_type": "stream",
          "name": "stdout",
          "text": [
            "Finished Epoch 1 || Run Time:   37.4 | Load Time:   16.5 || F1:  89.99 | Prec:  83.90 | Rec:  97.03 || Ex/s: 605.27\n",
            "\n",
            "===>  EVAL Epoch 1\n"
          ]
        },
        {
          "output_type": "stream",
          "name": "stderr",
          "text": [
            "0% [██████████████████████████████] 100% | ETA: 00:00:00\n",
            "Total time elapsed: 00:00:11\n"
          ]
        },
        {
          "output_type": "stream",
          "name": "stdout",
          "text": [
            "Finished Epoch 1 || Run Time:    5.5 | Load Time:    5.5 || F1:  94.47 | Prec:  91.32 | Rec:  97.84 || Ex/s: 986.61\n",
            "\n",
            "* Best F1: tensor(94.4673, device='cuda:0')\n",
            "Saving best model...\n",
            "Done.\n",
            "---------------------\n",
            "\n",
            "===>  TRAIN Epoch 2\n"
          ]
        },
        {
          "output_type": "stream",
          "name": "stderr",
          "text": [
            "0% [██████████████████████████████] 100% | ETA: 00:00:00\n",
            "Total time elapsed: 00:00:53\n"
          ]
        },
        {
          "output_type": "stream",
          "name": "stdout",
          "text": [
            "Finished Epoch 2 || Run Time:   37.1 | Load Time:   16.5 || F1:  95.84 | Prec:  93.41 | Rec:  98.40 || Ex/s: 609.12\n",
            "\n",
            "===>  EVAL Epoch 2\n"
          ]
        },
        {
          "output_type": "stream",
          "name": "stderr",
          "text": [
            "0% [██████████████████████████████] 100% | ETA: 00:00:00\n",
            "Total time elapsed: 00:00:11\n"
          ]
        },
        {
          "output_type": "stream",
          "name": "stdout",
          "text": [
            "Finished Epoch 2 || Run Time:    5.6 | Load Time:    5.5 || F1:  95.48 | Prec:  92.57 | Rec:  98.57 || Ex/s: 983.66\n",
            "\n",
            "* Best F1: tensor(95.4755, device='cuda:0')\n",
            "Saving best model...\n",
            "Done.\n",
            "---------------------\n",
            "\n",
            "===>  TRAIN Epoch 3\n"
          ]
        },
        {
          "output_type": "stream",
          "name": "stderr",
          "text": [
            "0% [██████████████████████████████] 100% | ETA: 00:00:00\n",
            "Total time elapsed: 00:00:54\n"
          ]
        },
        {
          "output_type": "stream",
          "name": "stdout",
          "text": [
            "Finished Epoch 3 || Run Time:   37.7 | Load Time:   16.6 || F1:  97.18 | Prec:  95.41 | Rec:  99.01 || Ex/s: 600.49\n",
            "\n",
            "===>  EVAL Epoch 3\n"
          ]
        },
        {
          "output_type": "stream",
          "name": "stderr",
          "text": [
            "0% [██████████████████████████████] 100% | ETA: 00:00:00\n",
            "Total time elapsed: 00:00:10\n"
          ]
        },
        {
          "output_type": "stream",
          "name": "stdout",
          "text": [
            "Finished Epoch 3 || Run Time:    5.4 | Load Time:    5.4 || F1:  96.90 | Prec:  95.50 | Rec:  98.34 || Ex/s: 1009.28\n",
            "\n",
            "* Best F1: tensor(96.8988, device='cuda:0')\n",
            "Saving best model...\n",
            "Done.\n",
            "---------------------\n",
            "\n",
            "===>  TRAIN Epoch 4\n"
          ]
        },
        {
          "output_type": "stream",
          "name": "stderr",
          "text": [
            "0% [██████████████████████████████] 100% | ETA: 00:00:00\n",
            "Total time elapsed: 00:00:53\n"
          ]
        },
        {
          "output_type": "stream",
          "name": "stdout",
          "text": [
            "Finished Epoch 4 || Run Time:   37.0 | Load Time:   16.4 || F1:  98.03 | Prec:  96.79 | Rec:  99.30 || Ex/s: 610.28\n",
            "\n",
            "===>  EVAL Epoch 4\n"
          ]
        },
        {
          "output_type": "stream",
          "name": "stderr",
          "text": [
            "0% [██████████████████████████████] 100% | ETA: 00:00:00\n",
            "Total time elapsed: 00:00:10\n"
          ]
        },
        {
          "output_type": "stream",
          "name": "stdout",
          "text": [
            "Finished Epoch 4 || Run Time:    5.5 | Load Time:    5.4 || F1:  97.38 | Prec:  96.05 | Rec:  98.75 || Ex/s: 1000.79\n",
            "\n",
            "* Best F1: tensor(97.3843, device='cuda:0')\n",
            "Saving best model...\n",
            "Done.\n",
            "---------------------\n",
            "\n",
            "===>  TRAIN Epoch 5\n"
          ]
        },
        {
          "output_type": "stream",
          "name": "stderr",
          "text": [
            "0% [██████████████████████████████] 100% | ETA: 00:00:00\n",
            "Total time elapsed: 00:00:53\n"
          ]
        },
        {
          "output_type": "stream",
          "name": "stdout",
          "text": [
            "Finished Epoch 5 || Run Time:   36.8 | Load Time:   16.4 || F1:  98.69 | Prec:  97.86 | Rec:  99.54 || Ex/s: 612.55\n",
            "\n",
            "===>  EVAL Epoch 5\n"
          ]
        },
        {
          "output_type": "stream",
          "name": "stderr",
          "text": [
            "0% [██████████████████████████████] 100% | ETA: 00:00:00\n",
            "Total time elapsed: 00:00:10\n"
          ]
        },
        {
          "output_type": "stream",
          "name": "stdout",
          "text": [
            "Finished Epoch 5 || Run Time:    5.5 | Load Time:    5.4 || F1:  97.77 | Prec:  96.83 | Rec:  98.71 || Ex/s: 998.12\n",
            "\n",
            "* Best F1: tensor(97.7651, device='cuda:0')\n",
            "Saving best model...\n",
            "Done.\n",
            "---------------------\n",
            "\n",
            "===>  TRAIN Epoch 6\n"
          ]
        },
        {
          "output_type": "stream",
          "name": "stderr",
          "text": [
            "0% [██████████████████████████████] 100% | ETA: 00:00:00\n",
            "Total time elapsed: 00:00:53\n"
          ]
        },
        {
          "output_type": "stream",
          "name": "stdout",
          "text": [
            "Finished Epoch 6 || Run Time:   36.8 | Load Time:   16.4 || F1:  99.09 | Prec:  98.54 | Rec:  99.64 || Ex/s: 613.57\n",
            "\n",
            "===>  EVAL Epoch 6\n"
          ]
        },
        {
          "output_type": "stream",
          "name": "stderr",
          "text": [
            "0% [██████████████████████████████] 100% | ETA: 00:00:00\n",
            "Total time elapsed: 00:00:11\n"
          ]
        },
        {
          "output_type": "stream",
          "name": "stdout",
          "text": [
            "Finished Epoch 6 || Run Time:    5.6 | Load Time:    5.5 || F1:  98.20 | Prec:  97.63 | Rec:  98.77 || Ex/s: 976.14\n",
            "\n",
            "* Best F1: tensor(98.1994, device='cuda:0')\n",
            "Saving best model...\n",
            "Done.\n",
            "---------------------\n",
            "\n",
            "===>  TRAIN Epoch 7\n"
          ]
        },
        {
          "output_type": "stream",
          "name": "stderr",
          "text": [
            "0% [██████████████████████████████] 100% | ETA: 00:00:00\n",
            "Total time elapsed: 00:00:53\n"
          ]
        },
        {
          "output_type": "stream",
          "name": "stdout",
          "text": [
            "Finished Epoch 7 || Run Time:   36.7 | Load Time:   16.4 || F1:  99.37 | Prec:  99.00 | Rec:  99.75 || Ex/s: 613.62\n",
            "\n",
            "===>  EVAL Epoch 7\n"
          ]
        },
        {
          "output_type": "stream",
          "name": "stderr",
          "text": [
            "0% [██████████████████████████████] 100% | ETA: 00:00:00\n",
            "Total time elapsed: 00:00:11\n"
          ]
        },
        {
          "output_type": "stream",
          "name": "stdout",
          "text": [
            "Finished Epoch 7 || Run Time:    5.8 | Load Time:    5.6 || F1:  98.07 | Prec:  97.38 | Rec:  98.77 || Ex/s: 960.70\n",
            "\n",
            "---------------------\n",
            "\n",
            "===>  TRAIN Epoch 8\n"
          ]
        },
        {
          "output_type": "stream",
          "name": "stderr",
          "text": [
            "0% [██████████████████████████████] 100% | ETA: 00:00:00\n",
            "Total time elapsed: 00:00:53\n"
          ]
        },
        {
          "output_type": "stream",
          "name": "stdout",
          "text": [
            "Finished Epoch 8 || Run Time:   37.1 | Load Time:   16.5 || F1:  99.49 | Prec:  99.24 | Rec:  99.74 || Ex/s: 608.92\n",
            "\n",
            "===>  EVAL Epoch 8\n"
          ]
        },
        {
          "output_type": "stream",
          "name": "stderr",
          "text": [
            "0% [██████████████████████████████] 100% | ETA: 00:00:00\n",
            "Total time elapsed: 00:00:11\n"
          ]
        },
        {
          "output_type": "stream",
          "name": "stdout",
          "text": [
            "Finished Epoch 8 || Run Time:    5.6 | Load Time:    5.5 || F1:  98.35 | Prec:  97.83 | Rec:  98.87 || Ex/s: 983.15\n",
            "\n",
            "* Best F1: tensor(98.3461, device='cuda:0')\n",
            "Saving best model...\n",
            "Done.\n",
            "---------------------\n",
            "\n",
            "===>  TRAIN Epoch 9\n"
          ]
        },
        {
          "output_type": "stream",
          "name": "stderr",
          "text": [
            "0% [██████████████████████████████] 100% | ETA: 00:00:00\n",
            "Total time elapsed: 00:00:53\n"
          ]
        },
        {
          "output_type": "stream",
          "name": "stdout",
          "text": [
            "Finished Epoch 9 || Run Time:   37.3 | Load Time:   16.5 || F1:  99.62 | Prec:  99.41 | Rec:  99.83 || Ex/s: 605.31\n",
            "\n",
            "===>  EVAL Epoch 9\n"
          ]
        },
        {
          "output_type": "stream",
          "name": "stderr",
          "text": [
            "0% [██████████████████████████████] 100% | ETA: 00:00:00\n",
            "Total time elapsed: 00:00:10\n"
          ]
        },
        {
          "output_type": "stream",
          "name": "stdout",
          "text": [
            "Finished Epoch 9 || Run Time:    5.5 | Load Time:    5.4 || F1:  98.40 | Prec:  97.94 | Rec:  98.87 || Ex/s: 991.25\n",
            "\n",
            "* Best F1: tensor(98.4043, device='cuda:0')\n",
            "Saving best model...\n",
            "Done.\n",
            "---------------------\n",
            "\n",
            "===>  TRAIN Epoch 10\n"
          ]
        },
        {
          "output_type": "stream",
          "name": "stderr",
          "text": [
            "0% [██████████████████████████████] 100% | ETA: 00:00:00\n",
            "Total time elapsed: 00:00:53\n"
          ]
        },
        {
          "output_type": "stream",
          "name": "stdout",
          "text": [
            "Finished Epoch 10 || Run Time:   37.2 | Load Time:   16.5 || F1:  99.70 | Prec:  99.57 | Rec:  99.83 || Ex/s: 607.57\n",
            "\n",
            "===>  EVAL Epoch 10\n"
          ]
        },
        {
          "output_type": "stream",
          "name": "stderr",
          "text": [
            "0% [██████████████████████████████] 100% | ETA: 00:00:00\n",
            "Total time elapsed: 00:00:10\n"
          ]
        },
        {
          "output_type": "stream",
          "name": "stdout",
          "text": [
            "Finished Epoch 10 || Run Time:    5.5 | Load Time:    5.5 || F1:  98.48 | Prec:  98.04 | Rec:  98.93 || Ex/s: 991.89\n",
            "\n",
            "* Best F1: tensor(98.4828, device='cuda:0')\n",
            "Saving best model...\n",
            "Done.\n",
            "---------------------\n",
            "\n",
            "Loading best model...\n",
            "Training done.\n"
          ]
        },
        {
          "output_type": "execute_result",
          "data": {
            "text/plain": [
              "tensor(98.4828, device='cuda:0')"
            ]
          },
          "metadata": {},
          "execution_count": 68
        }
      ],
      "source": [
        "model10.run_train(\n",
        "    train,\n",
        "    validation,\n",
        "    epochs=10,\n",
        "    batch_size=16,\n",
        "    best_save_path='rnn_model10.pth',\n",
        "    pos_neg_ratio=3)"
      ]
    },
    {
      "cell_type": "code",
      "execution_count": null,
      "metadata": {
        "colab": {
          "base_uri": "https://localhost:8080/"
        },
        "id": "tpqUfzFYNGBr",
        "outputId": "2b2c5496-9eb6-4416-9039-2041bef80074"
      },
      "outputs": [
        {
          "output_type": "stream",
          "name": "stdout",
          "text": [
            "===>  EVAL Epoch 10\n"
          ]
        },
        {
          "output_type": "stream",
          "name": "stderr",
          "text": [
            "0% [██████████████████████████████] 100% | ETA: 00:00:00\n",
            "Total time elapsed: 00:00:08\n"
          ]
        },
        {
          "output_type": "stream",
          "name": "stdout",
          "text": [
            "Finished Epoch 10 || Run Time:    2.9 | Load Time:    5.4 || F1:  98.63 | Prec:  98.40 | Rec:  98.85 || Ex/s: 1313.58\n",
            "\n"
          ]
        },
        {
          "output_type": "execute_result",
          "data": {
            "text/plain": [
              "tensor(98.6266, device='cuda:0')"
            ]
          },
          "metadata": {},
          "execution_count": 69
        }
      ],
      "source": [
        "model10.run_eval(test)"
      ]
    }
  ],
  "metadata": {
    "colab": {
      "provenance": [],
      "machine_shape": "hm",
      "gpuType": "V100"
    },
    "kernelspec": {
      "display_name": "Python 3",
      "name": "python3"
    },
    "language_info": {
      "name": "python"
    },
    "accelerator": "GPU",
    "gpuClass": "standard"
  },
  "nbformat": 4,
  "nbformat_minor": 0
}